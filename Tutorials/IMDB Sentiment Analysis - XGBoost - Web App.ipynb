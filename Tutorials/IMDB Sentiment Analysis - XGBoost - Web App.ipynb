{
 "cells": [
  {
   "cell_type": "markdown",
   "metadata": {},
   "source": [
    "# Sentiment Analysis Web App\n",
    "\n",
    "_Deep Learning Nanodegree Program | Deployment_\n",
    "\n",
    "---\n",
    "\n",
    "In this notebook we will use Amazon's SageMaker service to construct a random tree model to predict the sentiment of a movie review. In addition, we will deploy this model to an endpoint and construct a very simple web app which will interact with our model's deployed endpoint.\n",
    "\n",
    "## General Outline\n",
    "\n",
    "Typically, when using a notebook instance with SageMaker, you will proceed through the following steps. Of course, not every step will need to be done with each project. Also, there is quite a lot of room for variation in many of the steps, as you will see throughout these lessons.\n",
    "\n",
    "1. Download or otherwise retrieve the data.\n",
    "2. Process / Prepare the data.\n",
    "3. Upload the processed data to S3.\n",
    "4. Train a chosen model.\n",
    "5. Test the trained model (typically using a batch transform job).\n",
    "6. Deploy the trained model.\n",
    "7. Use the deployed model.\n",
    "\n",
    "In this notebook we will progress through each of the steps above. We will also see that the final step, using the deployed model, can be quite challenging."
   ]
  },
  {
   "cell_type": "markdown",
   "metadata": {},
   "source": [
    "## Step 1: Downloading the data\n",
    "\n",
    "The dataset we are going to use is very popular among researchers in Natural Language Processing, usually referred to as the [IMDb dataset](http://ai.stanford.edu/~amaas/data/sentiment/). It consists of movie reviews from the website [imdb.com](http://www.imdb.com/), each labeled as either '**pos**itive', if the reviewer enjoyed the film, or '**neg**ative' otherwise.\n",
    "\n",
    "> Maas, Andrew L., et al. [Learning Word Vectors for Sentiment Analysis](http://ai.stanford.edu/~amaas/data/sentiment/). In _Proceedings of the 49th Annual Meeting of the Association for Computational Linguistics: Human Language Technologies_. Association for Computational Linguistics, 2011.\n",
    "\n",
    "We begin by using some Jupyter Notebook magic to download and extract the dataset."
   ]
  },
  {
   "cell_type": "code",
   "execution_count": 1,
   "metadata": {},
   "outputs": [
    {
     "name": "stdout",
     "output_type": "stream",
     "text": [
      "mkdir: cannot create directory ‘../data’: File exists\n",
      "--2019-12-10 01:28:36--  http://ai.stanford.edu/~amaas/data/sentiment/aclImdb_v1.tar.gz\n",
      "Resolving ai.stanford.edu (ai.stanford.edu)... 171.64.68.10\n",
      "Connecting to ai.stanford.edu (ai.stanford.edu)|171.64.68.10|:80... connected.\n",
      "HTTP request sent, awaiting response... 200 OK\n",
      "Length: 84125825 (80M) [application/x-gzip]\n",
      "Saving to: ‘../data/aclImdb_v1.tar.gz’\n",
      "\n",
      "../data/aclImdb_v1. 100%[===================>]  80.23M  24.1MB/s    in 3.3s    \n",
      "\n",
      "2019-12-10 01:28:39 (24.1 MB/s) - ‘../data/aclImdb_v1.tar.gz’ saved [84125825/84125825]\n",
      "\n"
     ]
    }
   ],
   "source": [
    "%mkdir ../data\n",
    "!wget -O ../data/aclImdb_v1.tar.gz http://ai.stanford.edu/~amaas/data/sentiment/aclImdb_v1.tar.gz\n",
    "!tar -zxf ../data/aclImdb_v1.tar.gz -C ../data"
   ]
  },
  {
   "cell_type": "markdown",
   "metadata": {},
   "source": [
    "## Step 2: Preparing and Processing the data\n",
    "\n",
    "The data we have downloaded is split into various files, each of which contains a single review. It will be much easier going forward if we combine these individual files into two large files, one for training and one for testing."
   ]
  },
  {
   "cell_type": "code",
   "execution_count": 2,
   "metadata": {},
   "outputs": [],
   "source": [
    "import os\n",
    "import glob\n",
    "\n",
    "def read_imdb_data(data_dir='../data/aclImdb'):\n",
    "    data = {}\n",
    "    labels = {}\n",
    "    \n",
    "    for data_type in ['train', 'test']:\n",
    "        data[data_type] = {}\n",
    "        labels[data_type] = {}\n",
    "        \n",
    "        for sentiment in ['pos', 'neg']:\n",
    "            data[data_type][sentiment] = []\n",
    "            labels[data_type][sentiment] = []\n",
    "            \n",
    "            path = os.path.join(data_dir, data_type, sentiment, '*.txt')\n",
    "            files = glob.glob(path)\n",
    "            \n",
    "            for f in files:\n",
    "                with open(f) as review:\n",
    "                    data[data_type][sentiment].append(review.read())\n",
    "                    # Here we represent a positive review by '1' and a negative review by '0'\n",
    "                    labels[data_type][sentiment].append(1 if sentiment == 'pos' else 0)\n",
    "                    \n",
    "            assert len(data[data_type][sentiment]) == len(labels[data_type][sentiment]), \\\n",
    "                    \"{}/{} data size does not match labels size\".format(data_type, sentiment)\n",
    "                \n",
    "    return data, labels"
   ]
  },
  {
   "cell_type": "code",
   "execution_count": 3,
   "metadata": {},
   "outputs": [
    {
     "name": "stdout",
     "output_type": "stream",
     "text": [
      "IMDB reviews: train = 12500 pos / 12500 neg, test = 12500 pos / 12500 neg\n"
     ]
    }
   ],
   "source": [
    "data, labels = read_imdb_data()\n",
    "print(\"IMDB reviews: train = {} pos / {} neg, test = {} pos / {} neg\".format(\n",
    "            len(data['train']['pos']), len(data['train']['neg']),\n",
    "            len(data['test']['pos']), len(data['test']['neg'])))"
   ]
  },
  {
   "cell_type": "code",
   "execution_count": 4,
   "metadata": {},
   "outputs": [],
   "source": [
    "from sklearn.utils import shuffle\n",
    "\n",
    "def prepare_imdb_data(data, labels):\n",
    "    \"\"\"Prepare training and test sets from IMDb movie reviews.\"\"\"\n",
    "    \n",
    "    #Combine positive and negative reviews and labels\n",
    "    data_train = data['train']['pos'] + data['train']['neg']\n",
    "    data_test = data['test']['pos'] + data['test']['neg']\n",
    "    labels_train = labels['train']['pos'] + labels['train']['neg']\n",
    "    labels_test = labels['test']['pos'] + labels['test']['neg']\n",
    "    \n",
    "    #Shuffle reviews and corresponding labels within training and test sets\n",
    "    data_train, labels_train = shuffle(data_train, labels_train)\n",
    "    data_test, labels_test = shuffle(data_test, labels_test)\n",
    "    \n",
    "    # Return a unified training data, test data, training labels, test labets\n",
    "    return data_train, data_test, labels_train, labels_test"
   ]
  },
  {
   "cell_type": "code",
   "execution_count": 5,
   "metadata": {},
   "outputs": [
    {
     "name": "stdout",
     "output_type": "stream",
     "text": [
      "IMDb reviews (combined): train = 25000, test = 25000\n"
     ]
    }
   ],
   "source": [
    "train_X, test_X, train_y, test_y = prepare_imdb_data(data, labels)\n",
    "print(\"IMDb reviews (combined): train = {}, test = {}\".format(len(train_X), len(test_X)))"
   ]
  },
  {
   "cell_type": "code",
   "execution_count": 6,
   "metadata": {},
   "outputs": [
    {
     "data": {
      "text/plain": [
       "'This is actually a groovy-neat little flick, made on absolutely no discernible budget with shot on video crinkliness . It takes a little while to warm up to it. The acting is so bad that it soon acquires a zen-like charm. After a few scenes, you stop noticing the awkward lines or rehearsed sound of some deliveries. The characters all develop a quirky charm, especially \"Richard\". Forget Anthony Hopkins, Maidens is the guy I\\'d hire to play a raving psychopath. He just seems to enjoy it so very much! Mixed in with the scenes of mad-slasher gore and zombie infestation are some truly visually effective shots of the title character, \"The Midnight Skater\" zooming through the campus in a black hoodie, looking for all the world like a cross between the Grim Reaper and, say, The Silver Surfer. These shots make the sometimes ludicrous things the characters say about the Skater seem almost ominous. The soundtrack features some very fun Garage-Punk tunes and the raspy, raucous meanness of it meshes well with the film\\'s mood. Thumbs upish, I say.'"
      ]
     },
     "execution_count": 6,
     "metadata": {},
     "output_type": "execute_result"
    }
   ],
   "source": [
    "train_X[100]"
   ]
  },
  {
   "cell_type": "markdown",
   "metadata": {},
   "source": [
    "## Processing the data\n",
    "\n",
    "Now that we have our training and testing datasets merged and ready to use, we need to start processing the raw data into something that will be useable by our machine learning algorithm. To begin with, we remove any html formatting and any non-alpha numeric characters that may appear in the reviews. We will do this in a very simplistic way using Python's regular expression module. We will discuss the reason for this rather simplistic pre-processing later on."
   ]
  },
  {
   "cell_type": "code",
   "execution_count": 7,
   "metadata": {},
   "outputs": [],
   "source": [
    "import re\n",
    "\n",
    "REPLACE_NO_SPACE = re.compile(\"(\\.)|(\\;)|(\\:)|(\\!)|(\\')|(\\?)|(\\,)|(\\\")|(\\()|(\\))|(\\[)|(\\])\")\n",
    "REPLACE_WITH_SPACE = re.compile(\"(<br\\s*/><br\\s*/>)|(\\-)|(\\/)\")\n",
    "\n",
    "def review_to_words(review):\n",
    "    words = REPLACE_NO_SPACE.sub(\"\", review.lower())\n",
    "    words = REPLACE_WITH_SPACE.sub(\" \", words)\n",
    "    return words"
   ]
  },
  {
   "cell_type": "code",
   "execution_count": 8,
   "metadata": {},
   "outputs": [
    {
     "data": {
      "text/plain": [
       "'this is actually a groovy neat little flick made on absolutely no discernible budget with shot on video crinkliness  it takes a little while to warm up to it the acting is so bad that it soon acquires a zen like charm after a few scenes you stop noticing the awkward lines or rehearsed sound of some deliveries the characters all develop a quirky charm especially richard forget anthony hopkins maidens is the guy id hire to play a raving psychopath he just seems to enjoy it so very much mixed in with the scenes of mad slasher gore and zombie infestation are some truly visually effective shots of the title character the midnight skater zooming through the campus in a black hoodie looking for all the world like a cross between the grim reaper and say the silver surfer these shots make the sometimes ludicrous things the characters say about the skater seem almost ominous the soundtrack features some very fun garage punk tunes and the raspy raucous meanness of it meshes well with the films mood thumbs upish i say'"
      ]
     },
     "execution_count": 8,
     "metadata": {},
     "output_type": "execute_result"
    }
   ],
   "source": [
    "review_to_words(train_X[100])"
   ]
  },
  {
   "cell_type": "code",
   "execution_count": 9,
   "metadata": {},
   "outputs": [],
   "source": [
    "import pickle\n",
    "\n",
    "cache_dir = os.path.join(\"../cache\", \"sentiment_web_app\")  # where to store cache files\n",
    "os.makedirs(cache_dir, exist_ok=True)  # ensure cache directory exists\n",
    "\n",
    "def preprocess_data(data_train, data_test, labels_train, labels_test,\n",
    "                    cache_dir=cache_dir, cache_file=\"preprocessed_data.pkl\"):\n",
    "    \"\"\"Convert each review to words; read from cache if available.\"\"\"\n",
    "\n",
    "    # If cache_file is not None, try to read from it first\n",
    "    cache_data = None\n",
    "    if cache_file is not None:\n",
    "        try:\n",
    "            with open(os.path.join(cache_dir, cache_file), \"rb\") as f:\n",
    "                cache_data = pickle.load(f)\n",
    "            print(\"Read preprocessed data from cache file:\", cache_file)\n",
    "        except:\n",
    "            pass  # unable to read from cache, but that's okay\n",
    "    \n",
    "    # If cache is missing, then do the heavy lifting\n",
    "    if cache_data is None:\n",
    "        # Preprocess training and test data to obtain words for each review\n",
    "        #words_train = list(map(review_to_words, data_train))\n",
    "        #words_test = list(map(review_to_words, data_test))\n",
    "        words_train = [review_to_words(review) for review in data_train]\n",
    "        words_test = [review_to_words(review) for review in data_test]\n",
    "        \n",
    "        # Write to cache file for future runs\n",
    "        if cache_file is not None:\n",
    "            cache_data = dict(words_train=words_train, words_test=words_test,\n",
    "                              labels_train=labels_train, labels_test=labels_test)\n",
    "            with open(os.path.join(cache_dir, cache_file), \"wb\") as f:\n",
    "                pickle.dump(cache_data, f)\n",
    "            print(\"Wrote preprocessed data to cache file:\", cache_file)\n",
    "    else:\n",
    "        # Unpack data loaded from cache file\n",
    "        words_train, words_test, labels_train, labels_test = (cache_data['words_train'],\n",
    "                cache_data['words_test'], cache_data['labels_train'], cache_data['labels_test'])\n",
    "    \n",
    "    return words_train, words_test, labels_train, labels_test"
   ]
  },
  {
   "cell_type": "code",
   "execution_count": 10,
   "metadata": {},
   "outputs": [
    {
     "name": "stdout",
     "output_type": "stream",
     "text": [
      "Wrote preprocessed data to cache file: preprocessed_data.pkl\n"
     ]
    }
   ],
   "source": [
    "# Preprocess data\n",
    "train_X, test_X, train_y, test_y = preprocess_data(train_X, test_X, train_y, test_y)"
   ]
  },
  {
   "cell_type": "markdown",
   "metadata": {},
   "source": [
    "### Extract Bag-of-Words features\n",
    "\n",
    "For the model we will be implementing, rather than using the reviews directly, we are going to transform each review into a Bag-of-Words feature representation. Keep in mind that 'in the wild' we will only have access to the training set so our transformer can only use the training set to construct a representation."
   ]
  },
  {
   "cell_type": "code",
   "execution_count": 11,
   "metadata": {},
   "outputs": [],
   "source": [
    "import numpy as np\n",
    "from sklearn.feature_extraction.text import CountVectorizer\n",
    "from sklearn.externals import joblib\n",
    "# joblib is an enhanced version of pickle that is more efficient for storing NumPy arrays\n",
    "\n",
    "def extract_BoW_features(words_train, words_test, vocabulary_size=5000,\n",
    "                         cache_dir=cache_dir, cache_file=\"bow_features.pkl\"):\n",
    "    \"\"\"Extract Bag-of-Words for a given set of documents, already preprocessed into words.\"\"\"\n",
    "    \n",
    "    # If cache_file is not None, try to read from it first\n",
    "    cache_data = None\n",
    "    if cache_file is not None:\n",
    "        try:\n",
    "            with open(os.path.join(cache_dir, cache_file), \"rb\") as f:\n",
    "                cache_data = joblib.load(f)\n",
    "            print(\"Read features from cache file:\", cache_file)\n",
    "        except:\n",
    "            pass  # unable to read from cache, but that's okay\n",
    "    \n",
    "    # If cache is missing, then do the heavy lifting\n",
    "    if cache_data is None:\n",
    "        # Fit a vectorizer to training documents and use it to transform them\n",
    "        # NOTE: Training documents have already been preprocessed and tokenized into words;\n",
    "        #       pass in dummy functions to skip those steps, e.g. preprocessor=lambda x: x\n",
    "        vectorizer = CountVectorizer(max_features=vocabulary_size)\n",
    "        features_train = vectorizer.fit_transform(words_train).toarray()\n",
    "\n",
    "        # Apply the same vectorizer to transform the test documents (ignore unknown words)\n",
    "        features_test = vectorizer.transform(words_test).toarray()\n",
    "        \n",
    "        # NOTE: Remember to convert the features using .toarray() for a compact representation\n",
    "        \n",
    "        # Write to cache file for future runs (store vocabulary as well)\n",
    "        if cache_file is not None:\n",
    "            vocabulary = vectorizer.vocabulary_\n",
    "            cache_data = dict(features_train=features_train, features_test=features_test,\n",
    "                             vocabulary=vocabulary)\n",
    "            with open(os.path.join(cache_dir, cache_file), \"wb\") as f:\n",
    "                joblib.dump(cache_data, f)\n",
    "            print(\"Wrote features to cache file:\", cache_file)\n",
    "    else:\n",
    "        # Unpack data loaded from cache file\n",
    "        features_train, features_test, vocabulary = (cache_data['features_train'],\n",
    "                cache_data['features_test'], cache_data['vocabulary'])\n",
    "    \n",
    "    # Return both the extracted features as well as the vocabulary\n",
    "    return features_train, features_test, vocabulary"
   ]
  },
  {
   "cell_type": "code",
   "execution_count": 12,
   "metadata": {},
   "outputs": [
    {
     "name": "stdout",
     "output_type": "stream",
     "text": [
      "Wrote features to cache file: bow_features.pkl\n"
     ]
    }
   ],
   "source": [
    "# Extract Bag of Words features for both training and test datasets\n",
    "train_X, test_X, vocabulary = extract_BoW_features(train_X, test_X)"
   ]
  },
  {
   "cell_type": "code",
   "execution_count": 13,
   "metadata": {},
   "outputs": [
    {
     "data": {
      "text/plain": [
       "5000"
      ]
     },
     "execution_count": 13,
     "metadata": {},
     "output_type": "execute_result"
    }
   ],
   "source": [
    "len(train_X[100])"
   ]
  },
  {
   "cell_type": "markdown",
   "metadata": {},
   "source": [
    "## Step 3: Upload data to S3\n",
    "\n",
    "Now that we have created the feature representation of our training (and testing) data, it is time to start setting up and using the XGBoost classifier provided by SageMaker.\n",
    "\n",
    "### Writing the datasets\n",
    "\n",
    "The XGBoost classifier that we will be using requires the dataset to be written to a file and stored using Amazon S3. To do this, we will start by splitting the training dataset into two parts, the data we will train the model with and a validation set. Then, we will write those datasets to a file locally and then upload the files to S3. In addition, we will write the test set to a file and upload that file to S3. This is so that we can use SageMakers Batch Transform functionality to test our model once we've fit it."
   ]
  },
  {
   "cell_type": "code",
   "execution_count": 14,
   "metadata": {},
   "outputs": [],
   "source": [
    "import pandas as pd\n",
    "\n",
    "# Earlier we shuffled the training dataset so to make things simple we can just assign\n",
    "# the first 10 000 reviews to the validation set and use the remaining reviews for training.\n",
    "val_X = pd.DataFrame(train_X[:10000])\n",
    "train_X = pd.DataFrame(train_X[10000:])\n",
    "\n",
    "val_y = pd.DataFrame(train_y[:10000])\n",
    "train_y = pd.DataFrame(train_y[10000:])"
   ]
  },
  {
   "cell_type": "markdown",
   "metadata": {},
   "source": [
    "The documentation for the XGBoost algorithm in SageMaker requires that the training and validation datasets should contain no headers or index and that the label should occur first for each sample.\n",
    "\n",
    "For more information about this and other algorithms, the SageMaker developer documentation can be found on __[Amazon's website.](https://docs.aws.amazon.com/sagemaker/latest/dg/)__"
   ]
  },
  {
   "cell_type": "code",
   "execution_count": 15,
   "metadata": {},
   "outputs": [],
   "source": [
    "# First we make sure that the local directory in which we'd like to store the training and validation csv files exists.\n",
    "data_dir = '../data/sentiment_web_app'\n",
    "if not os.path.exists(data_dir):\n",
    "    os.makedirs(data_dir)"
   ]
  },
  {
   "cell_type": "code",
   "execution_count": 16,
   "metadata": {},
   "outputs": [],
   "source": [
    "pd.DataFrame(test_X).to_csv(os.path.join(data_dir, 'test.csv'), header=False, index=False)\n",
    "\n",
    "pd.concat([val_y, val_X], axis=1).to_csv(os.path.join(data_dir, 'validation.csv'), header=False, index=False)\n",
    "pd.concat([train_y, train_X], axis=1).to_csv(os.path.join(data_dir, 'train.csv'), header=False, index=False)"
   ]
  },
  {
   "cell_type": "code",
   "execution_count": 17,
   "metadata": {},
   "outputs": [],
   "source": [
    "# To save a bit of memory we can set text_X, train_X, val_X, train_y and val_y to None.\n",
    "\n",
    "test_X = train_X = val_X = train_y = val_y = None"
   ]
  },
  {
   "cell_type": "markdown",
   "metadata": {},
   "source": [
    "### Uploading Training / Validation files to S3\n",
    "\n",
    "Amazon's S3 service allows us to store files that can be accessed by both the built-in training models such as the XGBoost model we will be using as well as custom models such as the one we will see a little later.\n",
    "\n",
    "For this and most other tasks we will be doing using SageMaker, there are two methods we could use. The first is to use the low level functionality of SageMaker which requires knowing each of the objects involved in the SageMaker environment. The second is to use the high level functionality in which certain choices have been made on the user's behalf. The low level approach benefits from allowing the user a great deal of flexibility while the high level approach makes development much quicker. For our purposes we will opt to use the high level approach although using the low-level approach is certainly an option.\n",
    "\n",
    "Recall the method `upload_data()` which is a member of the object representing our current SageMaker session. What this method does is upload the data to the default bucket (which is created if it does not exist) into the path described by the key_prefix variable. To see this for yourself, once you have uploaded the data files, go to the S3 console and look to see where the files have been uploaded.\n",
    "\n",
    "For additional resources, see the __[SageMaker API documentation](http://sagemaker.readthedocs.io/en/latest/)__ and in addition the __[SageMaker Developer Guide.](https://docs.aws.amazon.com/sagemaker/latest/dg/)__"
   ]
  },
  {
   "cell_type": "code",
   "execution_count": 18,
   "metadata": {},
   "outputs": [],
   "source": [
    "import sagemaker\n",
    "\n",
    "session = sagemaker.Session() # Store the current SageMaker session\n",
    "\n",
    "# S3 prefix (which folder will we use)\n",
    "prefix = 'sentiment-web-app'\n",
    "\n",
    "test_location = session.upload_data(os.path.join(data_dir, 'test.csv'), key_prefix=prefix)\n",
    "val_location = session.upload_data(os.path.join(data_dir, 'validation.csv'), key_prefix=prefix)\n",
    "train_location = session.upload_data(os.path.join(data_dir, 'train.csv'), key_prefix=prefix)"
   ]
  },
  {
   "cell_type": "markdown",
   "metadata": {},
   "source": [
    "## Step 4: Creating the XGBoost model\n",
    "\n",
    "Now that the data has been uploaded it is time to create the XGBoost model. To begin with, we need to do some setup. At this point it is worth discussing what a model is in SageMaker. It is easiest to think of a model of comprising three different objects in the SageMaker ecosystem, which interact with one another.\n",
    "\n",
    "- Model Artifacts\n",
    "- Training Code (Container)\n",
    "- Inference Code (Container)\n",
    "\n",
    "The Model Artifacts are what you might think of as the actual model itself. For example, if you were building a neural network, the model artifacts would be the weights of the various layers. In our case, for an XGBoost model, the artifacts are the actual trees that are created during training.\n",
    "\n",
    "The other two objects, the training code and the inference code are then used to manipulate the training artifacts. More precisely, the training code uses the training data that is provided and creates the model artifacts, while the inference code uses the model artifacts to make predictions on new data.\n",
    "\n",
    "The way that SageMaker runs the training and inference code is by making use of Docker containers. For now, think of a container as being a way of packaging code up so that dependencies aren't an issue."
   ]
  },
  {
   "cell_type": "code",
   "execution_count": 19,
   "metadata": {},
   "outputs": [],
   "source": [
    "from sagemaker import get_execution_role\n",
    "\n",
    "# Our current execution role is required when creating the model as the training\n",
    "# and inference code will need to access the model artifacts.\n",
    "role = get_execution_role()"
   ]
  },
  {
   "cell_type": "code",
   "execution_count": 20,
   "metadata": {},
   "outputs": [
    {
     "name": "stderr",
     "output_type": "stream",
     "text": [
      "WARNING:root:There is a more up to date SageMaker XGBoost image. To use the newer image, please set 'repo_version'='0.90-1'. For example:\n",
      "\tget_image_uri(region, 'xgboost', '0.90-1').\n"
     ]
    }
   ],
   "source": [
    "# We need to retrieve the location of the container which is provided by Amazon for using XGBoost.\n",
    "# As a matter of convenience, the training and inference code both use the same container.\n",
    "from sagemaker.amazon.amazon_estimator import get_image_uri\n",
    "\n",
    "container = get_image_uri(session.boto_region_name, 'xgboost')"
   ]
  },
  {
   "cell_type": "code",
   "execution_count": 21,
   "metadata": {},
   "outputs": [],
   "source": [
    "# First we create a SageMaker estimator object for our model.\n",
    "xgb = sagemaker.estimator.Estimator(container, # The location of the container we wish to use\n",
    "                                    role,                                    # What is our current IAM Role\n",
    "                                    train_instance_count=1,                  # How many compute instances\n",
    "                                    train_instance_type='ml.m4.xlarge',      # What kind of compute instances\n",
    "                                    output_path='s3://{}/{}/output'.format(session.default_bucket(), prefix),\n",
    "                                    sagemaker_session=session)\n",
    "\n",
    "# And then set the algorithm specific parameters.\n",
    "xgb.set_hyperparameters(max_depth=5,\n",
    "                        eta=0.2,\n",
    "                        gamma=4,\n",
    "                        min_child_weight=6,\n",
    "                        subsample=0.8,\n",
    "                        silent=0,\n",
    "                        objective='binary:logistic',\n",
    "                        early_stopping_rounds=10,\n",
    "                        num_round=500)"
   ]
  },
  {
   "cell_type": "markdown",
   "metadata": {},
   "source": [
    "### Fit the XGBoost model\n",
    "\n",
    "Now that our model has been set up we simply need to attach the training and validation datasets and then ask SageMaker to set up the computation."
   ]
  },
  {
   "cell_type": "code",
   "execution_count": 22,
   "metadata": {},
   "outputs": [],
   "source": [
    "s3_input_train = sagemaker.s3_input(s3_data=train_location, content_type='csv')\n",
    "s3_input_validation = sagemaker.s3_input(s3_data=val_location, content_type='csv')"
   ]
  },
  {
   "cell_type": "code",
   "execution_count": 23,
   "metadata": {},
   "outputs": [
    {
     "name": "stdout",
     "output_type": "stream",
     "text": [
      "2019-12-10 01:36:21 Starting - Starting the training job...\n",
      "2019-12-10 01:36:22 Starting - Launching requested ML instances......\n",
      "2019-12-10 01:37:24 Starting - Preparing the instances for training......\n",
      "2019-12-10 01:38:38 Downloading - Downloading input data\n",
      "2019-12-10 01:38:38 Training - Downloading the training image..\u001b[34mArguments: train\u001b[0m\n",
      "\u001b[34m[2019-12-10:01:39:00:INFO] Running standalone xgboost training.\u001b[0m\n",
      "\u001b[34m[2019-12-10:01:39:00:INFO] File size need to be processed in the node: 238.5mb. Available memory size in the node: 8498.06mb\u001b[0m\n",
      "\u001b[34m[2019-12-10:01:39:00:INFO] Determined delimiter of CSV input is ','\u001b[0m\n",
      "\u001b[34m[01:39:00] S3DistributionType set as FullyReplicated\u001b[0m\n",
      "\u001b[34m[01:39:02] 15000x5000 matrix with 75000000 entries loaded from /opt/ml/input/data/train?format=csv&label_column=0&delimiter=,\u001b[0m\n",
      "\u001b[34m[2019-12-10:01:39:02:INFO] Determined delimiter of CSV input is ','\u001b[0m\n",
      "\u001b[34m[01:39:02] S3DistributionType set as FullyReplicated\u001b[0m\n",
      "\u001b[34m[01:39:03] 10000x5000 matrix with 50000000 entries loaded from /opt/ml/input/data/validation?format=csv&label_column=0&delimiter=,\u001b[0m\n",
      "\n",
      "2019-12-10 01:39:00 Training - Training image download completed. Training in progress.\u001b[34m[01:39:07] src/tree/updater_prune.cc:74: tree pruning end, 1 roots, 36 extra nodes, 8 pruned nodes, max_depth=5\u001b[0m\n",
      "\u001b[34m[0]#011train-error:0.299667#011validation-error:0.3188\u001b[0m\n",
      "\u001b[34mMultiple eval metrics have been passed: 'validation-error' will be used for early stopping.\n",
      "\u001b[0m\n",
      "\u001b[34mWill train until validation-error hasn't improved in 10 rounds.\u001b[0m\n",
      "\u001b[34m[01:39:08] src/tree/updater_prune.cc:74: tree pruning end, 1 roots, 34 extra nodes, 8 pruned nodes, max_depth=5\u001b[0m\n",
      "\u001b[34m[1]#011train-error:0.288933#011validation-error:0.3044\u001b[0m\n",
      "\u001b[34m[01:39:09] src/tree/updater_prune.cc:74: tree pruning end, 1 roots, 40 extra nodes, 10 pruned nodes, max_depth=5\u001b[0m\n",
      "\u001b[34m[2]#011train-error:0.283067#011validation-error:0.2999\u001b[0m\n",
      "\u001b[34m[01:39:11] src/tree/updater_prune.cc:74: tree pruning end, 1 roots, 42 extra nodes, 8 pruned nodes, max_depth=5\u001b[0m\n",
      "\u001b[34m[3]#011train-error:0.276467#011validation-error:0.2943\u001b[0m\n",
      "\u001b[34m[01:39:12] src/tree/updater_prune.cc:74: tree pruning end, 1 roots, 28 extra nodes, 4 pruned nodes, max_depth=5\u001b[0m\n",
      "\u001b[34m[4]#011train-error:0.2616#011validation-error:0.2841\u001b[0m\n",
      "\u001b[34m[01:39:13] src/tree/updater_prune.cc:74: tree pruning end, 1 roots, 34 extra nodes, 2 pruned nodes, max_depth=5\u001b[0m\n",
      "\u001b[34m[5]#011train-error:0.257667#011validation-error:0.2778\u001b[0m\n",
      "\u001b[34m[01:39:15] src/tree/updater_prune.cc:74: tree pruning end, 1 roots, 36 extra nodes, 4 pruned nodes, max_depth=5\u001b[0m\n",
      "\u001b[34m[6]#011train-error:0.252267#011validation-error:0.2742\u001b[0m\n",
      "\u001b[34m[01:39:16] src/tree/updater_prune.cc:74: tree pruning end, 1 roots, 42 extra nodes, 2 pruned nodes, max_depth=5\u001b[0m\n",
      "\u001b[34m[7]#011train-error:0.244467#011validation-error:0.2671\u001b[0m\n",
      "\u001b[34m[01:39:17] src/tree/updater_prune.cc:74: tree pruning end, 1 roots, 30 extra nodes, 4 pruned nodes, max_depth=5\u001b[0m\n",
      "\u001b[34m[8]#011train-error:0.2368#011validation-error:0.2591\u001b[0m\n",
      "\u001b[34m[01:39:18] src/tree/updater_prune.cc:74: tree pruning end, 1 roots, 42 extra nodes, 4 pruned nodes, max_depth=5\u001b[0m\n",
      "\u001b[34m[9]#011train-error:0.2288#011validation-error:0.2536\u001b[0m\n",
      "\u001b[34m[01:39:20] src/tree/updater_prune.cc:74: tree pruning end, 1 roots, 26 extra nodes, 8 pruned nodes, max_depth=5\u001b[0m\n",
      "\u001b[34m[10]#011train-error:0.225133#011validation-error:0.2492\u001b[0m\n",
      "\u001b[34m[01:39:21] src/tree/updater_prune.cc:74: tree pruning end, 1 roots, 36 extra nodes, 14 pruned nodes, max_depth=5\u001b[0m\n",
      "\u001b[34m[11]#011train-error:0.2192#011validation-error:0.2465\u001b[0m\n",
      "\u001b[34m[01:39:22] src/tree/updater_prune.cc:74: tree pruning end, 1 roots, 48 extra nodes, 2 pruned nodes, max_depth=5\u001b[0m\n",
      "\u001b[34m[12]#011train-error:0.211467#011validation-error:0.238\u001b[0m\n",
      "\u001b[34m[01:39:24] src/tree/updater_prune.cc:74: tree pruning end, 1 roots, 22 extra nodes, 8 pruned nodes, max_depth=5\u001b[0m\n",
      "\u001b[34m[13]#011train-error:0.207667#011validation-error:0.2345\u001b[0m\n",
      "\u001b[34m[01:39:25] src/tree/updater_prune.cc:74: tree pruning end, 1 roots, 26 extra nodes, 10 pruned nodes, max_depth=5\u001b[0m\n",
      "\u001b[34m[14]#011train-error:0.203267#011validation-error:0.23\u001b[0m\n",
      "\u001b[34m[01:39:26] src/tree/updater_prune.cc:74: tree pruning end, 1 roots, 30 extra nodes, 4 pruned nodes, max_depth=5\u001b[0m\n",
      "\u001b[34m[15]#011train-error:0.2012#011validation-error:0.2288\u001b[0m\n",
      "\u001b[34m[01:39:27] src/tree/updater_prune.cc:74: tree pruning end, 1 roots, 26 extra nodes, 8 pruned nodes, max_depth=5\u001b[0m\n",
      "\u001b[34m[16]#011train-error:0.1972#011validation-error:0.225\u001b[0m\n",
      "\u001b[34m[01:39:29] src/tree/updater_prune.cc:74: tree pruning end, 1 roots, 34 extra nodes, 2 pruned nodes, max_depth=5\u001b[0m\n",
      "\u001b[34m[17]#011train-error:0.1956#011validation-error:0.2223\u001b[0m\n",
      "\u001b[34m[01:39:30] src/tree/updater_prune.cc:74: tree pruning end, 1 roots, 22 extra nodes, 6 pruned nodes, max_depth=5\u001b[0m\n",
      "\u001b[34m[18]#011train-error:0.1914#011validation-error:0.2182\u001b[0m\n",
      "\u001b[34m[01:39:31] src/tree/updater_prune.cc:74: tree pruning end, 1 roots, 22 extra nodes, 8 pruned nodes, max_depth=5\u001b[0m\n",
      "\u001b[34m[19]#011train-error:0.189867#011validation-error:0.2178\u001b[0m\n",
      "\u001b[34m[01:39:33] src/tree/updater_prune.cc:74: tree pruning end, 1 roots, 36 extra nodes, 8 pruned nodes, max_depth=5\u001b[0m\n",
      "\u001b[34m[20]#011train-error:0.186867#011validation-error:0.2165\u001b[0m\n",
      "\u001b[34m[01:39:34] src/tree/updater_prune.cc:74: tree pruning end, 1 roots, 18 extra nodes, 16 pruned nodes, max_depth=5\u001b[0m\n",
      "\u001b[34m[21]#011train-error:0.183933#011validation-error:0.2156\u001b[0m\n",
      "\u001b[34m[01:39:35] src/tree/updater_prune.cc:74: tree pruning end, 1 roots, 34 extra nodes, 8 pruned nodes, max_depth=5\u001b[0m\n",
      "\u001b[34m[22]#011train-error:0.1812#011validation-error:0.2125\u001b[0m\n",
      "\u001b[34m[01:39:36] src/tree/updater_prune.cc:74: tree pruning end, 1 roots, 20 extra nodes, 10 pruned nodes, max_depth=5\u001b[0m\n",
      "\u001b[34m[23]#011train-error:0.178267#011validation-error:0.2115\u001b[0m\n",
      "\u001b[34m[01:39:38] src/tree/updater_prune.cc:74: tree pruning end, 1 roots, 20 extra nodes, 6 pruned nodes, max_depth=5\u001b[0m\n",
      "\u001b[34m[24]#011train-error:0.175667#011validation-error:0.2098\u001b[0m\n",
      "\u001b[34m[01:39:39] src/tree/updater_prune.cc:74: tree pruning end, 1 roots, 28 extra nodes, 6 pruned nodes, max_depth=5\u001b[0m\n",
      "\u001b[34m[25]#011train-error:0.1742#011validation-error:0.2089\u001b[0m\n",
      "\u001b[34m[01:39:40] src/tree/updater_prune.cc:74: tree pruning end, 1 roots, 34 extra nodes, 4 pruned nodes, max_depth=5\u001b[0m\n",
      "\u001b[34m[26]#011train-error:0.170533#011validation-error:0.2065\u001b[0m\n",
      "\u001b[34m[01:39:41] src/tree/updater_prune.cc:74: tree pruning end, 1 roots, 36 extra nodes, 2 pruned nodes, max_depth=5\u001b[0m\n",
      "\u001b[34m[27]#011train-error:0.167733#011validation-error:0.2076\u001b[0m\n",
      "\u001b[34m[01:39:43] src/tree/updater_prune.cc:74: tree pruning end, 1 roots, 18 extra nodes, 14 pruned nodes, max_depth=5\u001b[0m\n",
      "\u001b[34m[28]#011train-error:0.165133#011validation-error:0.2071\u001b[0m\n",
      "\u001b[34m[01:39:44] src/tree/updater_prune.cc:74: tree pruning end, 1 roots, 16 extra nodes, 10 pruned nodes, max_depth=5\u001b[0m\n",
      "\u001b[34m[29]#011train-error:0.1642#011validation-error:0.2035\u001b[0m\n",
      "\u001b[34m[01:39:45] src/tree/updater_prune.cc:74: tree pruning end, 1 roots, 36 extra nodes, 6 pruned nodes, max_depth=5\u001b[0m\n",
      "\u001b[34m[30]#011train-error:0.161267#011validation-error:0.2021\u001b[0m\n",
      "\u001b[34m[01:39:47] src/tree/updater_prune.cc:74: tree pruning end, 1 roots, 22 extra nodes, 10 pruned nodes, max_depth=5\u001b[0m\n",
      "\u001b[34m[31]#011train-error:0.159333#011validation-error:0.2001\u001b[0m\n",
      "\u001b[34m[01:39:48] src/tree/updater_prune.cc:74: tree pruning end, 1 roots, 18 extra nodes, 12 pruned nodes, max_depth=5\u001b[0m\n",
      "\u001b[34m[32]#011train-error:0.159467#011validation-error:0.1997\u001b[0m\n",
      "\u001b[34m[01:39:49] src/tree/updater_prune.cc:74: tree pruning end, 1 roots, 16 extra nodes, 10 pruned nodes, max_depth=5\u001b[0m\n",
      "\u001b[34m[33]#011train-error:0.157267#011validation-error:0.1979\u001b[0m\n",
      "\u001b[34m[01:39:50] src/tree/updater_prune.cc:74: tree pruning end, 1 roots, 28 extra nodes, 12 pruned nodes, max_depth=5\u001b[0m\n",
      "\u001b[34m[34]#011train-error:0.155133#011validation-error:0.1977\u001b[0m\n",
      "\u001b[34m[01:39:52] src/tree/updater_prune.cc:74: tree pruning end, 1 roots, 22 extra nodes, 12 pruned nodes, max_depth=5\u001b[0m\n",
      "\u001b[34m[35]#011train-error:0.154067#011validation-error:0.1959\u001b[0m\n",
      "\u001b[34m[01:39:53] src/tree/updater_prune.cc:74: tree pruning end, 1 roots, 18 extra nodes, 12 pruned nodes, max_depth=5\u001b[0m\n",
      "\u001b[34m[36]#011train-error:0.154933#011validation-error:0.1952\u001b[0m\n",
      "\u001b[34m[01:39:54] src/tree/updater_prune.cc:74: tree pruning end, 1 roots, 16 extra nodes, 8 pruned nodes, max_depth=5\u001b[0m\n",
      "\u001b[34m[37]#011train-error:0.153133#011validation-error:0.1949\u001b[0m\n",
      "\u001b[34m[01:39:55] src/tree/updater_prune.cc:74: tree pruning end, 1 roots, 20 extra nodes, 6 pruned nodes, max_depth=5\u001b[0m\n",
      "\u001b[34m[38]#011train-error:0.1522#011validation-error:0.1939\u001b[0m\n"
     ]
    },
    {
     "name": "stdout",
     "output_type": "stream",
     "text": [
      "\u001b[34m[01:39:57] src/tree/updater_prune.cc:74: tree pruning end, 1 roots, 36 extra nodes, 8 pruned nodes, max_depth=5\u001b[0m\n",
      "\u001b[34m[39]#011train-error:0.150667#011validation-error:0.1932\u001b[0m\n",
      "\u001b[34m[01:39:58] src/tree/updater_prune.cc:74: tree pruning end, 1 roots, 22 extra nodes, 10 pruned nodes, max_depth=5\u001b[0m\n",
      "\u001b[34m[40]#011train-error:0.147733#011validation-error:0.1913\u001b[0m\n",
      "\u001b[34m[01:39:59] src/tree/updater_prune.cc:74: tree pruning end, 1 roots, 30 extra nodes, 8 pruned nodes, max_depth=5\u001b[0m\n",
      "\u001b[34m[41]#011train-error:0.1468#011validation-error:0.191\u001b[0m\n",
      "\u001b[34m[01:40:01] src/tree/updater_prune.cc:74: tree pruning end, 1 roots, 22 extra nodes, 14 pruned nodes, max_depth=5\u001b[0m\n",
      "\u001b[34m[42]#011train-error:0.144933#011validation-error:0.1905\u001b[0m\n",
      "\u001b[34m[01:40:02] src/tree/updater_prune.cc:74: tree pruning end, 1 roots, 26 extra nodes, 6 pruned nodes, max_depth=5\u001b[0m\n",
      "\u001b[34m[43]#011train-error:0.1438#011validation-error:0.1886\u001b[0m\n",
      "\u001b[34m[01:40:03] src/tree/updater_prune.cc:74: tree pruning end, 1 roots, 20 extra nodes, 8 pruned nodes, max_depth=5\u001b[0m\n",
      "\u001b[34m[44]#011train-error:0.1422#011validation-error:0.1882\u001b[0m\n",
      "\u001b[34m[01:40:04] src/tree/updater_prune.cc:74: tree pruning end, 1 roots, 28 extra nodes, 12 pruned nodes, max_depth=5\u001b[0m\n",
      "\u001b[34m[45]#011train-error:0.1398#011validation-error:0.1867\u001b[0m\n",
      "\u001b[34m[01:40:06] src/tree/updater_prune.cc:74: tree pruning end, 1 roots, 18 extra nodes, 4 pruned nodes, max_depth=5\u001b[0m\n",
      "\u001b[34m[46]#011train-error:0.138267#011validation-error:0.185\u001b[0m\n",
      "\u001b[34m[01:40:07] src/tree/updater_prune.cc:74: tree pruning end, 1 roots, 30 extra nodes, 12 pruned nodes, max_depth=5\u001b[0m\n",
      "\u001b[34m[47]#011train-error:0.137667#011validation-error:0.1849\u001b[0m\n",
      "\u001b[34m[01:40:08] src/tree/updater_prune.cc:74: tree pruning end, 1 roots, 22 extra nodes, 8 pruned nodes, max_depth=5\u001b[0m\n",
      "\u001b[34m[48]#011train-error:0.1364#011validation-error:0.1852\u001b[0m\n",
      "\u001b[34m[01:40:09] src/tree/updater_prune.cc:74: tree pruning end, 1 roots, 28 extra nodes, 4 pruned nodes, max_depth=5\u001b[0m\n",
      "\u001b[34m[49]#011train-error:0.1342#011validation-error:0.184\u001b[0m\n",
      "\u001b[34m[01:40:11] src/tree/updater_prune.cc:74: tree pruning end, 1 roots, 22 extra nodes, 10 pruned nodes, max_depth=5\u001b[0m\n",
      "\u001b[34m[50]#011train-error:0.133667#011validation-error:0.1847\u001b[0m\n",
      "\u001b[34m[01:40:12] src/tree/updater_prune.cc:74: tree pruning end, 1 roots, 18 extra nodes, 10 pruned nodes, max_depth=5\u001b[0m\n",
      "\u001b[34m[51]#011train-error:0.132#011validation-error:0.1842\u001b[0m\n",
      "\u001b[34m[01:40:13] src/tree/updater_prune.cc:74: tree pruning end, 1 roots, 24 extra nodes, 8 pruned nodes, max_depth=5\u001b[0m\n",
      "\u001b[34m[52]#011train-error:0.130733#011validation-error:0.1847\u001b[0m\n",
      "\u001b[34m[01:40:14] src/tree/updater_prune.cc:74: tree pruning end, 1 roots, 22 extra nodes, 12 pruned nodes, max_depth=5\u001b[0m\n",
      "\u001b[34m[53]#011train-error:0.130133#011validation-error:0.1831\u001b[0m\n",
      "\u001b[34m[01:40:16] src/tree/updater_prune.cc:74: tree pruning end, 1 roots, 36 extra nodes, 12 pruned nodes, max_depth=5\u001b[0m\n",
      "\u001b[34m[54]#011train-error:0.128933#011validation-error:0.1816\u001b[0m\n",
      "\u001b[34m[01:40:17] src/tree/updater_prune.cc:74: tree pruning end, 1 roots, 26 extra nodes, 6 pruned nodes, max_depth=5\u001b[0m\n",
      "\u001b[34m[55]#011train-error:0.128133#011validation-error:0.1805\u001b[0m\n",
      "\u001b[34m[01:40:18] src/tree/updater_prune.cc:74: tree pruning end, 1 roots, 22 extra nodes, 10 pruned nodes, max_depth=5\u001b[0m\n",
      "\u001b[34m[56]#011train-error:0.127667#011validation-error:0.1795\u001b[0m\n",
      "\u001b[34m[01:40:19] src/tree/updater_prune.cc:74: tree pruning end, 1 roots, 20 extra nodes, 10 pruned nodes, max_depth=5\u001b[0m\n",
      "\u001b[34m[57]#011train-error:0.1266#011validation-error:0.1798\u001b[0m\n",
      "\u001b[34m[01:40:21] src/tree/updater_prune.cc:74: tree pruning end, 1 roots, 40 extra nodes, 10 pruned nodes, max_depth=5\u001b[0m\n",
      "\u001b[34m[58]#011train-error:0.1256#011validation-error:0.1786\u001b[0m\n",
      "\u001b[34m[01:40:22] src/tree/updater_prune.cc:74: tree pruning end, 1 roots, 18 extra nodes, 16 pruned nodes, max_depth=5\u001b[0m\n",
      "\u001b[34m[59]#011train-error:0.125333#011validation-error:0.1771\u001b[0m\n",
      "\u001b[34m[01:40:23] src/tree/updater_prune.cc:74: tree pruning end, 1 roots, 20 extra nodes, 4 pruned nodes, max_depth=5\u001b[0m\n",
      "\u001b[34m[60]#011train-error:0.124267#011validation-error:0.176\u001b[0m\n",
      "\u001b[34m[01:40:25] src/tree/updater_prune.cc:74: tree pruning end, 1 roots, 18 extra nodes, 10 pruned nodes, max_depth=5\u001b[0m\n",
      "\u001b[34m[61]#011train-error:0.122933#011validation-error:0.1767\u001b[0m\n",
      "\u001b[34m[01:40:26] src/tree/updater_prune.cc:74: tree pruning end, 1 roots, 22 extra nodes, 8 pruned nodes, max_depth=5\u001b[0m\n",
      "\u001b[34m[62]#011train-error:0.122#011validation-error:0.1753\u001b[0m\n",
      "\u001b[34m[01:40:27] src/tree/updater_prune.cc:74: tree pruning end, 1 roots, 18 extra nodes, 8 pruned nodes, max_depth=5\u001b[0m\n",
      "\u001b[34m[63]#011train-error:0.121333#011validation-error:0.1733\u001b[0m\n",
      "\u001b[34m[01:40:28] src/tree/updater_prune.cc:74: tree pruning end, 1 roots, 34 extra nodes, 8 pruned nodes, max_depth=5\u001b[0m\n",
      "\u001b[34m[64]#011train-error:0.121#011validation-error:0.1742\u001b[0m\n",
      "\u001b[34m[01:40:30] src/tree/updater_prune.cc:74: tree pruning end, 1 roots, 28 extra nodes, 10 pruned nodes, max_depth=5\u001b[0m\n",
      "\u001b[34m[65]#011train-error:0.120067#011validation-error:0.1743\u001b[0m\n",
      "\u001b[34m[01:40:31] src/tree/updater_prune.cc:74: tree pruning end, 1 roots, 14 extra nodes, 6 pruned nodes, max_depth=5\u001b[0m\n",
      "\u001b[34m[66]#011train-error:0.118933#011validation-error:0.1735\u001b[0m\n",
      "\u001b[34m[01:40:32] src/tree/updater_prune.cc:74: tree pruning end, 1 roots, 34 extra nodes, 12 pruned nodes, max_depth=5\u001b[0m\n",
      "\u001b[34m[67]#011train-error:0.117067#011validation-error:0.1736\u001b[0m\n",
      "\u001b[34m[01:40:33] src/tree/updater_prune.cc:74: tree pruning end, 1 roots, 18 extra nodes, 14 pruned nodes, max_depth=5\u001b[0m\n",
      "\u001b[34m[68]#011train-error:0.117133#011validation-error:0.1726\u001b[0m\n",
      "\u001b[34m[01:40:35] src/tree/updater_prune.cc:74: tree pruning end, 1 roots, 38 extra nodes, 6 pruned nodes, max_depth=5\u001b[0m\n",
      "\u001b[34m[69]#011train-error:0.114933#011validation-error:0.1728\u001b[0m\n",
      "\u001b[34m[01:40:36] src/tree/updater_prune.cc:74: tree pruning end, 1 roots, 22 extra nodes, 8 pruned nodes, max_depth=5\u001b[0m\n",
      "\u001b[34m[70]#011train-error:0.1142#011validation-error:0.1707\u001b[0m\n",
      "\u001b[34m[01:40:37] src/tree/updater_prune.cc:74: tree pruning end, 1 roots, 16 extra nodes, 8 pruned nodes, max_depth=5\u001b[0m\n",
      "\u001b[34m[71]#011train-error:0.114#011validation-error:0.171\u001b[0m\n",
      "\u001b[34m[01:40:38] src/tree/updater_prune.cc:74: tree pruning end, 1 roots, 22 extra nodes, 12 pruned nodes, max_depth=5\u001b[0m\n",
      "\u001b[34m[72]#011train-error:0.113733#011validation-error:0.1704\u001b[0m\n",
      "\u001b[34m[01:40:40] src/tree/updater_prune.cc:74: tree pruning end, 1 roots, 16 extra nodes, 12 pruned nodes, max_depth=5\u001b[0m\n",
      "\u001b[34m[73]#011train-error:0.113333#011validation-error:0.1702\u001b[0m\n",
      "\u001b[34m[01:40:41] src/tree/updater_prune.cc:74: tree pruning end, 1 roots, 30 extra nodes, 6 pruned nodes, max_depth=5\u001b[0m\n",
      "\u001b[34m[74]#011train-error:0.1128#011validation-error:0.1699\u001b[0m\n",
      "\u001b[34m[01:40:42] src/tree/updater_prune.cc:74: tree pruning end, 1 roots, 16 extra nodes, 8 pruned nodes, max_depth=5\u001b[0m\n",
      "\u001b[34m[75]#011train-error:0.112267#011validation-error:0.1691\u001b[0m\n",
      "\u001b[34m[01:40:43] src/tree/updater_prune.cc:74: tree pruning end, 1 roots, 20 extra nodes, 8 pruned nodes, max_depth=5\u001b[0m\n",
      "\u001b[34m[76]#011train-error:0.112133#011validation-error:0.1686\u001b[0m\n",
      "\u001b[34m[01:40:45] src/tree/updater_prune.cc:74: tree pruning end, 1 roots, 16 extra nodes, 10 pruned nodes, max_depth=5\u001b[0m\n",
      "\u001b[34m[77]#011train-error:0.112133#011validation-error:0.1675\u001b[0m\n",
      "\u001b[34m[01:40:46] src/tree/updater_prune.cc:74: tree pruning end, 1 roots, 18 extra nodes, 6 pruned nodes, max_depth=5\u001b[0m\n",
      "\u001b[34m[78]#011train-error:0.1116#011validation-error:0.167\u001b[0m\n",
      "\u001b[34m[01:40:47] src/tree/updater_prune.cc:74: tree pruning end, 1 roots, 24 extra nodes, 10 pruned nodes, max_depth=5\u001b[0m\n",
      "\u001b[34m[79]#011train-error:0.110133#011validation-error:0.1656\u001b[0m\n",
      "\u001b[34m[01:40:48] src/tree/updater_prune.cc:74: tree pruning end, 1 roots, 20 extra nodes, 10 pruned nodes, max_depth=5\u001b[0m\n",
      "\u001b[34m[80]#011train-error:0.1094#011validation-error:0.1656\u001b[0m\n",
      "\u001b[34m[01:40:50] src/tree/updater_prune.cc:74: tree pruning end, 1 roots, 20 extra nodes, 8 pruned nodes, max_depth=5\u001b[0m\n",
      "\u001b[34m[81]#011train-error:0.108467#011validation-error:0.1651\u001b[0m\n",
      "\u001b[34m[01:40:51] src/tree/updater_prune.cc:74: tree pruning end, 1 roots, 14 extra nodes, 6 pruned nodes, max_depth=5\u001b[0m\n",
      "\u001b[34m[82]#011train-error:0.108333#011validation-error:0.1644\u001b[0m\n",
      "\u001b[34m[01:40:52] src/tree/updater_prune.cc:74: tree pruning end, 1 roots, 18 extra nodes, 12 pruned nodes, max_depth=5\u001b[0m\n",
      "\u001b[34m[83]#011train-error:0.1086#011validation-error:0.1636\u001b[0m\n",
      "\u001b[34m[01:40:53] src/tree/updater_prune.cc:74: tree pruning end, 1 roots, 10 extra nodes, 8 pruned nodes, max_depth=5\u001b[0m\n",
      "\u001b[34m[84]#011train-error:0.107667#011validation-error:0.1631\u001b[0m\n",
      "\u001b[34m[01:40:55] src/tree/updater_prune.cc:74: tree pruning end, 1 roots, 20 extra nodes, 2 pruned nodes, max_depth=5\u001b[0m\n",
      "\u001b[34m[85]#011train-error:0.108133#011validation-error:0.1633\u001b[0m\n",
      "\u001b[34m[01:40:56] src/tree/updater_prune.cc:74: tree pruning end, 1 roots, 14 extra nodes, 14 pruned nodes, max_depth=5\u001b[0m\n",
      "\u001b[34m[86]#011train-error:0.108#011validation-error:0.1636\u001b[0m\n"
     ]
    },
    {
     "name": "stdout",
     "output_type": "stream",
     "text": [
      "\u001b[34m[01:40:57] src/tree/updater_prune.cc:74: tree pruning end, 1 roots, 12 extra nodes, 10 pruned nodes, max_depth=5\u001b[0m\n",
      "\u001b[34m[87]#011train-error:0.1076#011validation-error:0.1635\u001b[0m\n",
      "\u001b[34m[01:40:59] src/tree/updater_prune.cc:74: tree pruning end, 1 roots, 24 extra nodes, 0 pruned nodes, max_depth=5\u001b[0m\n",
      "\u001b[34m[88]#011train-error:0.1062#011validation-error:0.1629\u001b[0m\n",
      "\u001b[34m[01:41:00] src/tree/updater_prune.cc:74: tree pruning end, 1 roots, 14 extra nodes, 6 pruned nodes, max_depth=5\u001b[0m\n",
      "\u001b[34m[89]#011train-error:0.1054#011validation-error:0.1619\u001b[0m\n",
      "\u001b[34m[01:41:01] src/tree/updater_prune.cc:74: tree pruning end, 1 roots, 26 extra nodes, 10 pruned nodes, max_depth=5\u001b[0m\n",
      "\u001b[34m[90]#011train-error:0.104533#011validation-error:0.1622\u001b[0m\n",
      "\u001b[34m[01:41:03] src/tree/updater_prune.cc:74: tree pruning end, 1 roots, 28 extra nodes, 6 pruned nodes, max_depth=5\u001b[0m\n",
      "\u001b[34m[91]#011train-error:0.103667#011validation-error:0.1605\u001b[0m\n",
      "\u001b[34m[01:41:04] src/tree/updater_prune.cc:74: tree pruning end, 1 roots, 18 extra nodes, 8 pruned nodes, max_depth=5\u001b[0m\n",
      "\u001b[34m[92]#011train-error:0.1032#011validation-error:0.161\u001b[0m\n",
      "\u001b[34m[01:41:05] src/tree/updater_prune.cc:74: tree pruning end, 1 roots, 14 extra nodes, 10 pruned nodes, max_depth=5\u001b[0m\n",
      "\u001b[34m[93]#011train-error:0.1022#011validation-error:0.1595\u001b[0m\n",
      "\u001b[34m[01:41:07] src/tree/updater_prune.cc:74: tree pruning end, 1 roots, 22 extra nodes, 4 pruned nodes, max_depth=5\u001b[0m\n",
      "\u001b[34m[94]#011train-error:0.1016#011validation-error:0.1596\u001b[0m\n",
      "\u001b[34m[01:41:08] src/tree/updater_prune.cc:74: tree pruning end, 1 roots, 20 extra nodes, 6 pruned nodes, max_depth=5\u001b[0m\n",
      "\u001b[34m[95]#011train-error:0.1008#011validation-error:0.1591\u001b[0m\n",
      "\u001b[34m[01:41:09] src/tree/updater_prune.cc:74: tree pruning end, 1 roots, 18 extra nodes, 8 pruned nodes, max_depth=5\u001b[0m\n",
      "\u001b[34m[96]#011train-error:0.100067#011validation-error:0.1575\u001b[0m\n",
      "\u001b[34m[01:41:11] src/tree/updater_prune.cc:74: tree pruning end, 1 roots, 22 extra nodes, 12 pruned nodes, max_depth=5\u001b[0m\n",
      "\u001b[34m[97]#011train-error:0.0996#011validation-error:0.1581\u001b[0m\n",
      "\u001b[34m[01:41:12] src/tree/updater_prune.cc:74: tree pruning end, 1 roots, 20 extra nodes, 14 pruned nodes, max_depth=5\u001b[0m\n",
      "\u001b[34m[98]#011train-error:0.099933#011validation-error:0.1587\u001b[0m\n",
      "\u001b[34m[01:41:13] src/tree/updater_prune.cc:74: tree pruning end, 1 roots, 30 extra nodes, 12 pruned nodes, max_depth=5\u001b[0m\n",
      "\u001b[34m[99]#011train-error:0.099133#011validation-error:0.1582\u001b[0m\n",
      "\u001b[34m[01:41:14] src/tree/updater_prune.cc:74: tree pruning end, 1 roots, 16 extra nodes, 14 pruned nodes, max_depth=5\u001b[0m\n",
      "\u001b[34m[100]#011train-error:0.098933#011validation-error:0.1579\u001b[0m\n",
      "\u001b[34m[01:41:16] src/tree/updater_prune.cc:74: tree pruning end, 1 roots, 38 extra nodes, 4 pruned nodes, max_depth=5\u001b[0m\n",
      "\u001b[34m[101]#011train-error:0.0978#011validation-error:0.1574\u001b[0m\n",
      "\u001b[34m[01:41:17] src/tree/updater_prune.cc:74: tree pruning end, 1 roots, 22 extra nodes, 12 pruned nodes, max_depth=5\u001b[0m\n",
      "\u001b[34m[102]#011train-error:0.097933#011validation-error:0.1576\u001b[0m\n",
      "\u001b[34m[01:41:18] src/tree/updater_prune.cc:74: tree pruning end, 1 roots, 10 extra nodes, 8 pruned nodes, max_depth=5\u001b[0m\n",
      "\u001b[34m[103]#011train-error:0.097667#011validation-error:0.1573\u001b[0m\n",
      "\u001b[34m[01:41:19] src/tree/updater_prune.cc:74: tree pruning end, 1 roots, 14 extra nodes, 2 pruned nodes, max_depth=5\u001b[0m\n",
      "\u001b[34m[104]#011train-error:0.0974#011validation-error:0.1571\u001b[0m\n",
      "\u001b[34m[01:41:21] src/tree/updater_prune.cc:74: tree pruning end, 1 roots, 24 extra nodes, 12 pruned nodes, max_depth=5\u001b[0m\n",
      "\u001b[34m[105]#011train-error:0.096533#011validation-error:0.1556\u001b[0m\n",
      "\u001b[34m[01:41:22] src/tree/updater_prune.cc:74: tree pruning end, 1 roots, 16 extra nodes, 4 pruned nodes, max_depth=5\u001b[0m\n",
      "\u001b[34m[106]#011train-error:0.096067#011validation-error:0.1545\u001b[0m\n",
      "\u001b[34m[01:41:23] src/tree/updater_prune.cc:74: tree pruning end, 1 roots, 16 extra nodes, 8 pruned nodes, max_depth=5\u001b[0m\n",
      "\u001b[34m[107]#011train-error:0.096333#011validation-error:0.1554\u001b[0m\n",
      "\u001b[34m[01:41:24] src/tree/updater_prune.cc:74: tree pruning end, 1 roots, 10 extra nodes, 4 pruned nodes, max_depth=5\u001b[0m\n",
      "\u001b[34m[108]#011train-error:0.096133#011validation-error:0.1551\u001b[0m\n",
      "\u001b[34m[01:41:26] src/tree/updater_prune.cc:74: tree pruning end, 1 roots, 32 extra nodes, 12 pruned nodes, max_depth=5\u001b[0m\n",
      "\u001b[34m[109]#011train-error:0.096#011validation-error:0.1536\u001b[0m\n",
      "\u001b[34m[01:41:27] src/tree/updater_prune.cc:74: tree pruning end, 1 roots, 18 extra nodes, 12 pruned nodes, max_depth=5\u001b[0m\n",
      "\u001b[34m[110]#011train-error:0.094933#011validation-error:0.1522\u001b[0m\n",
      "\u001b[34m[01:41:28] src/tree/updater_prune.cc:74: tree pruning end, 1 roots, 20 extra nodes, 16 pruned nodes, max_depth=5\u001b[0m\n",
      "\u001b[34m[111]#011train-error:0.093667#011validation-error:0.1538\u001b[0m\n",
      "\u001b[34m[01:41:29] src/tree/updater_prune.cc:74: tree pruning end, 1 roots, 18 extra nodes, 6 pruned nodes, max_depth=5\u001b[0m\n",
      "\u001b[34m[112]#011train-error:0.0928#011validation-error:0.1539\u001b[0m\n",
      "\u001b[34m[01:41:31] src/tree/updater_prune.cc:74: tree pruning end, 1 roots, 16 extra nodes, 8 pruned nodes, max_depth=5\u001b[0m\n",
      "\u001b[34m[113]#011train-error:0.0926#011validation-error:0.1532\u001b[0m\n",
      "\u001b[34m[01:41:32] src/tree/updater_prune.cc:74: tree pruning end, 1 roots, 14 extra nodes, 10 pruned nodes, max_depth=5\u001b[0m\n",
      "\u001b[34m[114]#011train-error:0.0922#011validation-error:0.1529\u001b[0m\n",
      "\u001b[34m[01:41:33] src/tree/updater_prune.cc:74: tree pruning end, 1 roots, 10 extra nodes, 2 pruned nodes, max_depth=5\u001b[0m\n",
      "\u001b[34m[115]#011train-error:0.092133#011validation-error:0.1531\u001b[0m\n",
      "\u001b[34m[01:41:35] src/tree/updater_prune.cc:74: tree pruning end, 1 roots, 22 extra nodes, 2 pruned nodes, max_depth=5\u001b[0m\n",
      "\u001b[34m[116]#011train-error:0.091467#011validation-error:0.1538\u001b[0m\n",
      "\u001b[34m[01:41:36] src/tree/updater_prune.cc:74: tree pruning end, 1 roots, 14 extra nodes, 10 pruned nodes, max_depth=5\u001b[0m\n",
      "\u001b[34m[117]#011train-error:0.091067#011validation-error:0.1523\u001b[0m\n",
      "\u001b[34m[01:41:37] src/tree/updater_prune.cc:74: tree pruning end, 1 roots, 12 extra nodes, 14 pruned nodes, max_depth=5\u001b[0m\n",
      "\u001b[34m[118]#011train-error:0.090533#011validation-error:0.1522\u001b[0m\n",
      "\u001b[34m[01:41:38] src/tree/updater_prune.cc:74: tree pruning end, 1 roots, 18 extra nodes, 2 pruned nodes, max_depth=5\u001b[0m\n",
      "\u001b[34m[119]#011train-error:0.090133#011validation-error:0.1524\u001b[0m\n",
      "\u001b[34m[01:41:40] src/tree/updater_prune.cc:74: tree pruning end, 1 roots, 22 extra nodes, 14 pruned nodes, max_depth=5\u001b[0m\n",
      "\u001b[34m[120]#011train-error:0.090133#011validation-error:0.1521\u001b[0m\n",
      "\u001b[34m[01:41:41] src/tree/updater_prune.cc:74: tree pruning end, 1 roots, 16 extra nodes, 10 pruned nodes, max_depth=5\u001b[0m\n",
      "\u001b[34m[121]#011train-error:0.090067#011validation-error:0.1523\u001b[0m\n",
      "\u001b[34m[01:41:42] src/tree/updater_prune.cc:74: tree pruning end, 1 roots, 10 extra nodes, 16 pruned nodes, max_depth=5\u001b[0m\n",
      "\u001b[34m[122]#011train-error:0.089733#011validation-error:0.1519\u001b[0m\n",
      "\u001b[34m[01:41:43] src/tree/updater_prune.cc:74: tree pruning end, 1 roots, 20 extra nodes, 6 pruned nodes, max_depth=5\u001b[0m\n",
      "\u001b[34m[123]#011train-error:0.089333#011validation-error:0.152\u001b[0m\n",
      "\u001b[34m[01:41:45] src/tree/updater_prune.cc:74: tree pruning end, 1 roots, 16 extra nodes, 6 pruned nodes, max_depth=5\u001b[0m\n",
      "\u001b[34m[124]#011train-error:0.088867#011validation-error:0.1525\u001b[0m\n",
      "\u001b[34m[01:41:46] src/tree/updater_prune.cc:74: tree pruning end, 1 roots, 22 extra nodes, 6 pruned nodes, max_depth=5\u001b[0m\n",
      "\u001b[34m[125]#011train-error:0.0884#011validation-error:0.1521\u001b[0m\n",
      "\u001b[34m[01:41:47] src/tree/updater_prune.cc:74: tree pruning end, 1 roots, 10 extra nodes, 16 pruned nodes, max_depth=5\u001b[0m\n",
      "\u001b[34m[126]#011train-error:0.088867#011validation-error:0.1525\u001b[0m\n",
      "\u001b[34m[01:41:48] src/tree/updater_prune.cc:74: tree pruning end, 1 roots, 16 extra nodes, 10 pruned nodes, max_depth=5\u001b[0m\n",
      "\u001b[34m[127]#011train-error:0.087933#011validation-error:0.1526\u001b[0m\n",
      "\u001b[34m[01:41:50] src/tree/updater_prune.cc:74: tree pruning end, 1 roots, 18 extra nodes, 6 pruned nodes, max_depth=5\u001b[0m\n",
      "\u001b[34m[128]#011train-error:0.0876#011validation-error:0.1524\u001b[0m\n",
      "\u001b[34m[01:41:51] src/tree/updater_prune.cc:74: tree pruning end, 1 roots, 20 extra nodes, 4 pruned nodes, max_depth=5\u001b[0m\n",
      "\u001b[34m[129]#011train-error:0.086933#011validation-error:0.1519\u001b[0m\n",
      "\u001b[34m[01:41:52] src/tree/updater_prune.cc:74: tree pruning end, 1 roots, 10 extra nodes, 8 pruned nodes, max_depth=5\u001b[0m\n",
      "\u001b[34m[130]#011train-error:0.086733#011validation-error:0.1521\u001b[0m\n",
      "\u001b[34m[01:41:53] src/tree/updater_prune.cc:74: tree pruning end, 1 roots, 16 extra nodes, 8 pruned nodes, max_depth=5\u001b[0m\n",
      "\u001b[34m[131]#011train-error:0.0862#011validation-error:0.1515\u001b[0m\n",
      "\u001b[34m[01:41:55] src/tree/updater_prune.cc:74: tree pruning end, 1 roots, 10 extra nodes, 4 pruned nodes, max_depth=5\u001b[0m\n",
      "\u001b[34m[132]#011train-error:0.086467#011validation-error:0.1515\u001b[0m\n",
      "\u001b[34m[01:41:56] src/tree/updater_prune.cc:74: tree pruning end, 1 roots, 16 extra nodes, 12 pruned nodes, max_depth=5\u001b[0m\n",
      "\u001b[34m[133]#011train-error:0.0864#011validation-error:0.1517\u001b[0m\n",
      "\u001b[34m[01:41:57] src/tree/updater_prune.cc:74: tree pruning end, 1 roots, 10 extra nodes, 12 pruned nodes, max_depth=5\u001b[0m\n",
      "\u001b[34m[134]#011train-error:0.086333#011validation-error:0.1518\u001b[0m\n"
     ]
    },
    {
     "name": "stdout",
     "output_type": "stream",
     "text": [
      "\u001b[34m[01:41:58] src/tree/updater_prune.cc:74: tree pruning end, 1 roots, 10 extra nodes, 4 pruned nodes, max_depth=5\u001b[0m\n",
      "\u001b[34m[135]#011train-error:0.0862#011validation-error:0.1513\u001b[0m\n",
      "\u001b[34m[01:42:00] src/tree/updater_prune.cc:74: tree pruning end, 1 roots, 10 extra nodes, 0 pruned nodes, max_depth=5\u001b[0m\n",
      "\u001b[34m[136]#011train-error:0.085867#011validation-error:0.1513\u001b[0m\n",
      "\u001b[34m[01:42:01] src/tree/updater_prune.cc:74: tree pruning end, 1 roots, 14 extra nodes, 6 pruned nodes, max_depth=5\u001b[0m\n",
      "\u001b[34m[137]#011train-error:0.085267#011validation-error:0.1505\u001b[0m\n",
      "\u001b[34m[01:42:02] src/tree/updater_prune.cc:74: tree pruning end, 1 roots, 20 extra nodes, 4 pruned nodes, max_depth=5\u001b[0m\n",
      "\u001b[34m[138]#011train-error:0.084867#011validation-error:0.1508\u001b[0m\n",
      "\u001b[34m[01:42:03] src/tree/updater_prune.cc:74: tree pruning end, 1 roots, 30 extra nodes, 10 pruned nodes, max_depth=5\u001b[0m\n",
      "\u001b[34m[139]#011train-error:0.0846#011validation-error:0.1504\u001b[0m\n",
      "\u001b[34m[01:42:05] src/tree/updater_prune.cc:74: tree pruning end, 1 roots, 18 extra nodes, 0 pruned nodes, max_depth=5\u001b[0m\n",
      "\u001b[34m[140]#011train-error:0.084#011validation-error:0.1504\u001b[0m\n",
      "\u001b[34m[01:42:06] src/tree/updater_prune.cc:74: tree pruning end, 1 roots, 12 extra nodes, 4 pruned nodes, max_depth=5\u001b[0m\n",
      "\u001b[34m[141]#011train-error:0.0836#011validation-error:0.1507\u001b[0m\n",
      "\u001b[34m[01:42:07] src/tree/updater_prune.cc:74: tree pruning end, 1 roots, 12 extra nodes, 12 pruned nodes, max_depth=5\u001b[0m\n",
      "\u001b[34m[142]#011train-error:0.083#011validation-error:0.1498\u001b[0m\n",
      "\u001b[34m[01:42:08] src/tree/updater_prune.cc:74: tree pruning end, 1 roots, 26 extra nodes, 2 pruned nodes, max_depth=5\u001b[0m\n",
      "\u001b[34m[143]#011train-error:0.083#011validation-error:0.1495\u001b[0m\n",
      "\u001b[34m[01:42:10] src/tree/updater_prune.cc:74: tree pruning end, 1 roots, 14 extra nodes, 10 pruned nodes, max_depth=5\u001b[0m\n",
      "\u001b[34m[144]#011train-error:0.081467#011validation-error:0.1498\u001b[0m\n",
      "\u001b[34m[01:42:11] src/tree/updater_prune.cc:74: tree pruning end, 1 roots, 14 extra nodes, 6 pruned nodes, max_depth=5\u001b[0m\n",
      "\u001b[34m[145]#011train-error:0.081333#011validation-error:0.1496\u001b[0m\n",
      "\u001b[34m[01:42:12] src/tree/updater_prune.cc:74: tree pruning end, 1 roots, 22 extra nodes, 4 pruned nodes, max_depth=5\u001b[0m\n",
      "\u001b[34m[146]#011train-error:0.0806#011validation-error:0.1487\u001b[0m\n",
      "\u001b[34m[01:42:13] src/tree/updater_prune.cc:74: tree pruning end, 1 roots, 14 extra nodes, 6 pruned nodes, max_depth=5\u001b[0m\n",
      "\u001b[34m[147]#011train-error:0.080667#011validation-error:0.1486\u001b[0m\n",
      "\u001b[34m[01:42:15] src/tree/updater_prune.cc:74: tree pruning end, 1 roots, 12 extra nodes, 10 pruned nodes, max_depth=5\u001b[0m\n",
      "\u001b[34m[148]#011train-error:0.0808#011validation-error:0.1486\u001b[0m\n",
      "\u001b[34m[01:42:16] src/tree/updater_prune.cc:74: tree pruning end, 1 roots, 20 extra nodes, 12 pruned nodes, max_depth=5\u001b[0m\n",
      "\u001b[34m[149]#011train-error:0.081867#011validation-error:0.1489\u001b[0m\n",
      "\u001b[34m[01:42:17] src/tree/updater_prune.cc:74: tree pruning end, 1 roots, 12 extra nodes, 10 pruned nodes, max_depth=5\u001b[0m\n",
      "\u001b[34m[150]#011train-error:0.080533#011validation-error:0.1486\u001b[0m\n",
      "\u001b[34m[01:42:18] src/tree/updater_prune.cc:74: tree pruning end, 1 roots, 14 extra nodes, 18 pruned nodes, max_depth=5\u001b[0m\n",
      "\u001b[34m[151]#011train-error:0.080467#011validation-error:0.148\u001b[0m\n",
      "\u001b[34m[01:42:20] src/tree/updater_prune.cc:74: tree pruning end, 1 roots, 10 extra nodes, 10 pruned nodes, max_depth=5\u001b[0m\n",
      "\u001b[34m[152]#011train-error:0.0804#011validation-error:0.1475\u001b[0m\n",
      "\u001b[34m[01:42:21] src/tree/updater_prune.cc:74: tree pruning end, 1 roots, 10 extra nodes, 6 pruned nodes, max_depth=5\u001b[0m\n",
      "\u001b[34m[153]#011train-error:0.079933#011validation-error:0.1478\u001b[0m\n",
      "\u001b[34m[01:42:22] src/tree/updater_prune.cc:74: tree pruning end, 1 roots, 12 extra nodes, 6 pruned nodes, max_depth=5\u001b[0m\n",
      "\u001b[34m[154]#011train-error:0.079933#011validation-error:0.1472\u001b[0m\n",
      "\u001b[34m[01:42:23] src/tree/updater_prune.cc:74: tree pruning end, 1 roots, 20 extra nodes, 6 pruned nodes, max_depth=5\u001b[0m\n",
      "\u001b[34m[155]#011train-error:0.079533#011validation-error:0.1466\u001b[0m\n",
      "\u001b[34m[01:42:25] src/tree/updater_prune.cc:74: tree pruning end, 1 roots, 10 extra nodes, 6 pruned nodes, max_depth=5\u001b[0m\n",
      "\u001b[34m[156]#011train-error:0.079667#011validation-error:0.1467\u001b[0m\n",
      "\u001b[34m[01:42:26] src/tree/updater_prune.cc:74: tree pruning end, 1 roots, 22 extra nodes, 6 pruned nodes, max_depth=5\u001b[0m\n",
      "\u001b[34m[157]#011train-error:0.079467#011validation-error:0.1471\u001b[0m\n",
      "\u001b[34m[01:42:27] src/tree/updater_prune.cc:74: tree pruning end, 1 roots, 12 extra nodes, 8 pruned nodes, max_depth=5\u001b[0m\n",
      "\u001b[34m[158]#011train-error:0.079667#011validation-error:0.147\u001b[0m\n",
      "\u001b[34m[01:42:29] src/tree/updater_prune.cc:74: tree pruning end, 1 roots, 14 extra nodes, 12 pruned nodes, max_depth=5\u001b[0m\n",
      "\u001b[34m[159]#011train-error:0.079#011validation-error:0.1469\u001b[0m\n",
      "\u001b[34m[01:42:30] src/tree/updater_prune.cc:74: tree pruning end, 1 roots, 16 extra nodes, 10 pruned nodes, max_depth=5\u001b[0m\n",
      "\u001b[34m[160]#011train-error:0.078933#011validation-error:0.1466\u001b[0m\n",
      "\u001b[34m[01:42:31] src/tree/updater_prune.cc:74: tree pruning end, 1 roots, 12 extra nodes, 4 pruned nodes, max_depth=5\u001b[0m\n",
      "\u001b[34m[161]#011train-error:0.078467#011validation-error:0.1462\u001b[0m\n",
      "\u001b[34m[01:42:32] src/tree/updater_prune.cc:74: tree pruning end, 1 roots, 22 extra nodes, 4 pruned nodes, max_depth=5\u001b[0m\n",
      "\u001b[34m[162]#011train-error:0.078467#011validation-error:0.1457\u001b[0m\n",
      "\u001b[34m[01:42:34] src/tree/updater_prune.cc:74: tree pruning end, 1 roots, 30 extra nodes, 16 pruned nodes, max_depth=5\u001b[0m\n",
      "\u001b[34m[163]#011train-error:0.078667#011validation-error:0.1461\u001b[0m\n",
      "\u001b[34m[01:42:35] src/tree/updater_prune.cc:74: tree pruning end, 1 roots, 18 extra nodes, 8 pruned nodes, max_depth=5\u001b[0m\n",
      "\u001b[34m[164]#011train-error:0.0788#011validation-error:0.1457\u001b[0m\n",
      "\u001b[34m[01:42:36] src/tree/updater_prune.cc:74: tree pruning end, 1 roots, 14 extra nodes, 4 pruned nodes, max_depth=5\u001b[0m\n",
      "\u001b[34m[165]#011train-error:0.0782#011validation-error:0.146\u001b[0m\n",
      "\u001b[34m[01:42:37] src/tree/updater_prune.cc:74: tree pruning end, 1 roots, 10 extra nodes, 6 pruned nodes, max_depth=5\u001b[0m\n",
      "\u001b[34m[166]#011train-error:0.077933#011validation-error:0.1465\u001b[0m\n",
      "\u001b[34m[01:42:39] src/tree/updater_prune.cc:74: tree pruning end, 1 roots, 16 extra nodes, 4 pruned nodes, max_depth=5\u001b[0m\n",
      "\u001b[34m[167]#011train-error:0.077533#011validation-error:0.1464\u001b[0m\n",
      "\u001b[34m[01:42:40] src/tree/updater_prune.cc:74: tree pruning end, 1 roots, 14 extra nodes, 2 pruned nodes, max_depth=5\u001b[0m\n",
      "\u001b[34m[168]#011train-error:0.0774#011validation-error:0.1458\u001b[0m\n",
      "\u001b[34m[01:42:41] src/tree/updater_prune.cc:74: tree pruning end, 1 roots, 20 extra nodes, 10 pruned nodes, max_depth=5\u001b[0m\n",
      "\u001b[34m[169]#011train-error:0.077467#011validation-error:0.1468\u001b[0m\n",
      "\u001b[34m[01:42:42] src/tree/updater_prune.cc:74: tree pruning end, 1 roots, 20 extra nodes, 8 pruned nodes, max_depth=5\u001b[0m\n",
      "\u001b[34m[170]#011train-error:0.0768#011validation-error:0.1465\u001b[0m\n",
      "\u001b[34m[01:42:44] src/tree/updater_prune.cc:74: tree pruning end, 1 roots, 12 extra nodes, 10 pruned nodes, max_depth=5\u001b[0m\n",
      "\u001b[34m[171]#011train-error:0.077#011validation-error:0.1455\u001b[0m\n",
      "\u001b[34m[01:42:45] src/tree/updater_prune.cc:74: tree pruning end, 1 roots, 12 extra nodes, 4 pruned nodes, max_depth=5\u001b[0m\n",
      "\u001b[34m[172]#011train-error:0.076933#011validation-error:0.1451\u001b[0m\n",
      "\u001b[34m[01:42:46] src/tree/updater_prune.cc:74: tree pruning end, 1 roots, 24 extra nodes, 6 pruned nodes, max_depth=5\u001b[0m\n",
      "\u001b[34m[173]#011train-error:0.076467#011validation-error:0.1444\u001b[0m\n",
      "\u001b[34m[01:42:47] src/tree/updater_prune.cc:74: tree pruning end, 1 roots, 14 extra nodes, 2 pruned nodes, max_depth=5\u001b[0m\n",
      "\u001b[34m[174]#011train-error:0.075933#011validation-error:0.1442\u001b[0m\n",
      "\u001b[34m[01:42:49] src/tree/updater_prune.cc:74: tree pruning end, 1 roots, 14 extra nodes, 12 pruned nodes, max_depth=5\u001b[0m\n",
      "\u001b[34m[175]#011train-error:0.075667#011validation-error:0.1443\u001b[0m\n",
      "\u001b[34m[01:42:50] src/tree/updater_prune.cc:74: tree pruning end, 1 roots, 10 extra nodes, 2 pruned nodes, max_depth=5\u001b[0m\n",
      "\u001b[34m[176]#011train-error:0.075133#011validation-error:0.1443\u001b[0m\n",
      "\u001b[34m[01:42:51] src/tree/updater_prune.cc:74: tree pruning end, 1 roots, 22 extra nodes, 16 pruned nodes, max_depth=5\u001b[0m\n",
      "\u001b[34m[177]#011train-error:0.074333#011validation-error:0.1432\u001b[0m\n",
      "\u001b[34m[01:42:52] src/tree/updater_prune.cc:74: tree pruning end, 1 roots, 26 extra nodes, 10 pruned nodes, max_depth=5\u001b[0m\n",
      "\u001b[34m[178]#011train-error:0.0742#011validation-error:0.1438\u001b[0m\n",
      "\u001b[34m[01:42:54] src/tree/updater_prune.cc:74: tree pruning end, 1 roots, 20 extra nodes, 12 pruned nodes, max_depth=5\u001b[0m\n",
      "\u001b[34m[179]#011train-error:0.074067#011validation-error:0.1442\u001b[0m\n",
      "\u001b[34m[01:42:55] src/tree/updater_prune.cc:74: tree pruning end, 1 roots, 10 extra nodes, 12 pruned nodes, max_depth=5\u001b[0m\n",
      "\u001b[34m[180]#011train-error:0.073667#011validation-error:0.1437\u001b[0m\n",
      "\u001b[34m[01:42:56] src/tree/updater_prune.cc:74: tree pruning end, 1 roots, 24 extra nodes, 8 pruned nodes, max_depth=5\u001b[0m\n",
      "\u001b[34m[181]#011train-error:0.0732#011validation-error:0.144\u001b[0m\n",
      "\u001b[34m[01:42:57] src/tree/updater_prune.cc:74: tree pruning end, 1 roots, 10 extra nodes, 14 pruned nodes, max_depth=5\u001b[0m\n",
      "\u001b[34m[182]#011train-error:0.073133#011validation-error:0.1446\u001b[0m\n"
     ]
    },
    {
     "name": "stdout",
     "output_type": "stream",
     "text": [
      "\u001b[34m[01:42:59] src/tree/updater_prune.cc:74: tree pruning end, 1 roots, 10 extra nodes, 0 pruned nodes, max_depth=5\u001b[0m\n",
      "\u001b[34m[183]#011train-error:0.072933#011validation-error:0.1445\u001b[0m\n",
      "\u001b[34m[01:43:00] src/tree/updater_prune.cc:74: tree pruning end, 1 roots, 10 extra nodes, 4 pruned nodes, max_depth=5\u001b[0m\n",
      "\u001b[34m[184]#011train-error:0.072667#011validation-error:0.144\u001b[0m\n",
      "\u001b[34m[01:43:01] src/tree/updater_prune.cc:74: tree pruning end, 1 roots, 12 extra nodes, 6 pruned nodes, max_depth=5\u001b[0m\n",
      "\u001b[34m[185]#011train-error:0.0722#011validation-error:0.144\u001b[0m\n",
      "\u001b[34m[01:43:02] src/tree/updater_prune.cc:74: tree pruning end, 1 roots, 12 extra nodes, 6 pruned nodes, max_depth=5\u001b[0m\n",
      "\u001b[34m[186]#011train-error:0.0722#011validation-error:0.1439\u001b[0m\n",
      "\u001b[34m[01:43:04] src/tree/updater_prune.cc:74: tree pruning end, 1 roots, 14 extra nodes, 2 pruned nodes, max_depth=5\u001b[0m\n",
      "\u001b[34m[187]#011train-error:0.0722#011validation-error:0.1446\u001b[0m\n",
      "\u001b[34mStopping. Best iteration:\u001b[0m\n",
      "\u001b[34m[177]#011train-error:0.074333#011validation-error:0.1432\n",
      "\u001b[0m\n",
      "\n",
      "2019-12-10 01:44:10 Uploading - Uploading generated training model\n",
      "2019-12-10 01:44:10 Completed - Training job completed\n",
      "Training seconds: 344\n",
      "Billable seconds: 344\n"
     ]
    }
   ],
   "source": [
    "xgb.fit({'train': s3_input_train, 'validation': s3_input_validation})"
   ]
  },
  {
   "cell_type": "markdown",
   "metadata": {},
   "source": [
    "## Step 5: Testing the model\n",
    "\n",
    "Now that we've fit our XGBoost model, it's time to see how well it performs. To do this we will use SageMakers Batch Transform functionality. Batch Transform is a convenient way to perform inference on a large dataset in a way that is not realtime. That is, we don't necessarily need to use our model's results immediately and instead we can perform inference on a large number of samples. An example of this in industry might be performing an end of month report. This method of inference can also be useful to us as it means that we can perform inference on our entire test set. \n",
    "\n",
    "To perform a Batch Transformation we need to first create a transformer objects from our trained estimator object."
   ]
  },
  {
   "cell_type": "code",
   "execution_count": 24,
   "metadata": {},
   "outputs": [],
   "source": [
    "xgb_transformer = xgb.transformer(instance_count = 1, instance_type = 'ml.m4.xlarge')"
   ]
  },
  {
   "cell_type": "markdown",
   "metadata": {},
   "source": [
    "Next we actually perform the transform job. When doing so we need to make sure to specify the type of data we are sending so that it is serialized correctly in the background. In our case we are providing our model with csv data so we specify `text/csv`. Also, if the test data that we have provided is too large to process all at once then we need to specify how the data file should be split up. Since each line is a single entry in our data set we tell SageMaker that it can split the input on each line."
   ]
  },
  {
   "cell_type": "code",
   "execution_count": null,
   "metadata": {},
   "outputs": [],
   "source": [
    "xgb_transformer.transform(test_location, content_type='text/csv', split_type='Line')"
   ]
  },
  {
   "cell_type": "markdown",
   "metadata": {},
   "source": [
    "Currently the transform job is running but it is doing so in the background. Since we wish to wait until the transform job is done and we would like a bit of feedback we can run the `wait()` method."
   ]
  },
  {
   "cell_type": "code",
   "execution_count": null,
   "metadata": {},
   "outputs": [],
   "source": [
    "xgb_transformer.wait()"
   ]
  },
  {
   "cell_type": "markdown",
   "metadata": {},
   "source": [
    "Now the transform job has executed and the result, the estimated sentiment of each review, has been saved on S3. Since we would rather work on this file locally we can perform a bit of notebook magic to copy the file to the `data_dir`."
   ]
  },
  {
   "cell_type": "code",
   "execution_count": null,
   "metadata": {},
   "outputs": [],
   "source": [
    "!aws s3 cp --recursive $xgb_transformer.output_path $data_dir"
   ]
  },
  {
   "cell_type": "markdown",
   "metadata": {},
   "source": [
    "The last step is now to read in the output from our model, convert the output to something a little more usable, in this case we want the sentiment to be either `1` (positive) or `0` (negative), and then compare to the ground truth labels."
   ]
  },
  {
   "cell_type": "code",
   "execution_count": null,
   "metadata": {},
   "outputs": [],
   "source": [
    "predictions = pd.read_csv(os.path.join(data_dir, 'test.csv.out'), header=None)\n",
    "predictions = [round(num) for num in predictions.squeeze().values]"
   ]
  },
  {
   "cell_type": "code",
   "execution_count": null,
   "metadata": {},
   "outputs": [],
   "source": [
    "from sklearn.metrics import accuracy_score\n",
    "accuracy_score(test_y, predictions)"
   ]
  },
  {
   "cell_type": "markdown",
   "metadata": {},
   "source": [
    "## Step 6: Deploying the model\n",
    "\n",
    "Once we construct and fit our model, SageMaker stores the resulting model artifacts and we can use those to deploy an endpoint (inference code). To see this, look in the SageMaker console and you should see that a model has been created along with a link to the S3 location where the model artifacts have been stored.\n",
    "\n",
    "Deploying an endpoint is a lot like training the model with a few important differences. The first is that a deployed model doesn't change the model artifacts, so as you send it various testing instances the model won't change. Another difference is that since we aren't performing a fixed computation, as we were in the training step or while performing a batch transform, the compute instance that gets started stays running until we tell it to stop. This is important to note as if we forget and leave it running we will be charged the entire time.\n",
    "\n",
    "In other words **If you are no longer using a deployed endpoint, shut it down!**"
   ]
  },
  {
   "cell_type": "code",
   "execution_count": null,
   "metadata": {},
   "outputs": [],
   "source": [
    "xgb_predictor = xgb.deploy(initial_instance_count = 1, instance_type = 'ml.m4.xlarge')"
   ]
  },
  {
   "cell_type": "markdown",
   "metadata": {},
   "source": [
    "### Testing the model (again)\n",
    "\n",
    "Now that we have deployed our endpoint, we can send the testing data to it and get back the inference results. We already did this earlier using the batch transform functionality of SageMaker, however, we will test our model again using the newly deployed endpoint so that we can make sure that it works properly and to get a bit of a feel for how the endpoint works.\n",
    "\n",
    "When using the created endpoint it is important to know that we are limited in the amount of information we can send in each call so we need to break the testing data up into chunks and then send each chunk. Also, we need to serialize our data before we send it to the endpoint to ensure that our data is transmitted properly. Fortunately, SageMaker can do the serialization part for us provided we tell it the format of our data."
   ]
  },
  {
   "cell_type": "code",
   "execution_count": null,
   "metadata": {},
   "outputs": [],
   "source": [
    "from sagemaker.predictor import csv_serializer\n",
    "\n",
    "# We need to tell the endpoint what format the data we are sending is in so that SageMaker can perform the serialization.\n",
    "xgb_predictor.content_type = 'text/csv'\n",
    "xgb_predictor.serializer = csv_serializer"
   ]
  },
  {
   "cell_type": "code",
   "execution_count": null,
   "metadata": {},
   "outputs": [],
   "source": [
    "# We split the data into chunks and send each chunk seperately, accumulating the results.\n",
    "\n",
    "def predict(data, rows=512):\n",
    "    split_array = np.array_split(data, int(data.shape[0] / float(rows) + 1))\n",
    "    predictions = ''\n",
    "    for array in split_array:\n",
    "        predictions = ','.join([predictions, xgb_predictor.predict(array).decode('utf-8')])\n",
    "    \n",
    "    return np.fromstring(predictions[1:], sep=',')"
   ]
  },
  {
   "cell_type": "code",
   "execution_count": null,
   "metadata": {},
   "outputs": [],
   "source": [
    "test_X = pd.read_csv(os.path.join(data_dir, 'test.csv'), header=None).values\n",
    "\n",
    "predictions = predict(test_X)\n",
    "predictions = [round(num) for num in predictions]"
   ]
  },
  {
   "cell_type": "markdown",
   "metadata": {},
   "source": [
    "Lastly, we check to see what the accuracy of our model is."
   ]
  },
  {
   "cell_type": "code",
   "execution_count": null,
   "metadata": {},
   "outputs": [],
   "source": [
    "from sklearn.metrics import accuracy_score\n",
    "accuracy_score(test_y, predictions)"
   ]
  },
  {
   "cell_type": "markdown",
   "metadata": {},
   "source": [
    "And the results here should agree with the model testing that we did earlier using the batch transform job.\n",
    "\n",
    "### Cleaning up\n",
    "\n",
    "Now that we've determined that deploying our model works as expected, we are going to shut it down. Remember that the longer the endpoint is left running, the greater the cost and since we have a bit more work to do before we are able to use our endpoint with our simple web app, we should shut everything down."
   ]
  },
  {
   "cell_type": "code",
   "execution_count": null,
   "metadata": {},
   "outputs": [],
   "source": [
    "xgb_predictor.delete_endpoint()"
   ]
  },
  {
   "cell_type": "markdown",
   "metadata": {},
   "source": [
    "## Step 7: Putting our model to work\n",
    "\n",
    "As we've mentioned a few times now, our goal is to have our model deployed and then access it using a very simple web app. The intent is for this web app to take some user submitted data (a review), send it off to our endpoint (the model) and then display the result.\n",
    "\n",
    "However, there is a small catch. Currently the only way we can access the endpoint to send it data is using the SageMaker API. We can, if we wish, expose the actual URL that our model's endpoint is receiving data from, however, if we just send it data ourselves we will not get anything in return. This is because the endpoint created by SageMaker requires the entity accessing it have the correct permissions. So, we would need to somehow authenticate our web app with AWS.\n",
    "\n",
    "Having a website that authenticates to AWS seems a bit beyond the scope of this lesson so we will opt for an alternative approach. Namely, we will create a new endpoint which does not require authentication and which acts as a proxy for the SageMaker endpoint.\n",
    "\n",
    "As an additional constraint, we will try to avoid doing any data processing in the web app itself. Remember that when we constructed and tested our model we started with a movie review, then we simplified it by removing any html formatting and punctuation, then we constructed a bag of words embedding and the resulting vector is what we sent to our model. All of this needs to be done to our user input as well.\n",
    "\n",
    "Fortunately we can do all of this data processing in the backend, using Amazon's Lambda service.\n",
    "\n",
    "<img src=\"Web App Diagram.svg\">\n",
    "\n",
    "The diagram above gives an overview of how the various services will work together. On the far right is the model which we trained above and which will be deployed using SageMaker. On the far left is our web app that collects a user's movie review, sends it off and expects a positive or negative sentiment in return.\n",
    "\n",
    "In the middle is where some of the magic happens. We will construct a Lambda function, which you can think of as a straightforward Python function that can be executed whenever a specified event occurs. This Python function will do the data processing we need to perform on a user submitted review. In addition, we will give this function permission to send and recieve data from a SageMaker endpoint.\n",
    "\n",
    "Lastly, the method we will use to execute the Lambda function is a new endpoint that we will create using API Gateway. This endpoint will be a url that listens for data to be sent to it. Once it gets some data it will pass that data on to the Lambda function and then return whatever the Lambda function returns. Essentially it will act as an interface that lets our web app communicate with the Lambda function.\n",
    "\n",
    "### Processing a single review\n",
    "\n",
    "For now, suppose we are given a movie review by our user in the form of a string, like so:"
   ]
  },
  {
   "cell_type": "code",
   "execution_count": null,
   "metadata": {},
   "outputs": [],
   "source": [
    "test_review = \"Nothing but a disgusting materialistic pageant of glistening abed remote control greed zombies, totally devoid of any heart or heat. A romantic comedy that has zero romantic chemestry and zero laughs!\""
   ]
  },
  {
   "cell_type": "markdown",
   "metadata": {},
   "source": [
    "How do we go from this string to the bag of words feature vector that is expected by our model?\n",
    "\n",
    "If we recall at the beginning of this notebook, the first step is to remove any unnecessary characters using the `review_to_words` method. Remember that we intentionally did this in a very simplistic way. This is because we are going to have to copy this method to our (eventual) Lambda function (we will go into more detail later) and this means it needs to be rather simplistic."
   ]
  },
  {
   "cell_type": "code",
   "execution_count": null,
   "metadata": {},
   "outputs": [],
   "source": [
    "test_words = review_to_words(test_review)\n",
    "print(test_words)"
   ]
  },
  {
   "cell_type": "markdown",
   "metadata": {},
   "source": [
    "Next, we need to construct a bag of words embedding of the `test_words` string. To do this, remember that a bag of words embedding uses a `vocabulary` consisting of the most frequently appearing words in a set of documents. Then, for each word in the vocabulary we record the number of times that word appears in `test_words`. We constructed the `vocabulary` earlier using the training set for our problem so encoding `test_words` is relatively straightforward."
   ]
  },
  {
   "cell_type": "code",
   "execution_count": null,
   "metadata": {},
   "outputs": [],
   "source": [
    "def bow_encoding(words, vocabulary):\n",
    "    bow = [0] * len(vocabulary) # Start by setting the count for each word in the vocabulary to zero.\n",
    "    for word in words.split():  # For each word in the string\n",
    "        if word in vocabulary:  # If the word is one that occurs in the vocabulary, increase its count.\n",
    "            bow[vocabulary[word]] += 1\n",
    "    return bow"
   ]
  },
  {
   "cell_type": "code",
   "execution_count": null,
   "metadata": {},
   "outputs": [],
   "source": [
    "test_bow = bow_encoding(test_words, vocabulary)\n",
    "print(test_bow)"
   ]
  },
  {
   "cell_type": "code",
   "execution_count": null,
   "metadata": {},
   "outputs": [],
   "source": [
    "len(test_bow)"
   ]
  },
  {
   "cell_type": "markdown",
   "metadata": {},
   "source": [
    "So now we know how to construct a bag of words encoding of a user provided review, how to we send it to our endpoint? First, we need to start the endpoint back up."
   ]
  },
  {
   "cell_type": "code",
   "execution_count": 25,
   "metadata": {},
   "outputs": [
    {
     "name": "stderr",
     "output_type": "stream",
     "text": [
      "WARNING:sagemaker:Using already existing model: xgboost-2019-12-10-01-36-21-017\n"
     ]
    },
    {
     "name": "stdout",
     "output_type": "stream",
     "text": [
      "--------------------------------------------------------------------------------------!"
     ]
    }
   ],
   "source": [
    "xgb_predictor = xgb.deploy(initial_instance_count = 1, instance_type = 'ml.m4.xlarge')"
   ]
  },
  {
   "cell_type": "markdown",
   "metadata": {},
   "source": [
    "At this point we could just do the same thing that we did earlier when we tested our deployed model and send `test_bow` to our endpoint using the `xgb_predictor` object. However, when we eventually construct our Lambda function we won't have access to this object, so how do we call a SageMaker endpoint?\n",
    "\n",
    "It turns out that Python functions that are used in Lambda have access to another Amazon library called `boto3`. This library provides an API for working with Amazon services, including SageMaker. To start with, we need to get a handle to the SageMaker runtime."
   ]
  },
  {
   "cell_type": "code",
   "execution_count": null,
   "metadata": {},
   "outputs": [],
   "source": [
    "import boto3\n",
    "\n",
    "runtime = boto3.Session().client('sagemaker-runtime')"
   ]
  },
  {
   "cell_type": "markdown",
   "metadata": {},
   "source": [
    "And now that we have access to the SageMaker runtime, we can ask it to make use of (invoke) an endpoint that has already been created. However, we need to provide SageMaker with the name of the deployed endpoint. To find this out we can print it out using the `xgb_predictor` object."
   ]
  },
  {
   "cell_type": "code",
   "execution_count": 26,
   "metadata": {},
   "outputs": [
    {
     "data": {
      "text/plain": [
       "'xgboost-2019-12-10-01-36-21-017'"
      ]
     },
     "execution_count": 26,
     "metadata": {},
     "output_type": "execute_result"
    }
   ],
   "source": [
    "xgb_predictor.endpoint"
   ]
  },
  {
   "cell_type": "code",
   "execution_count": 29,
   "metadata": {},
   "outputs": [
    {
     "name": "stdout",
     "output_type": "stream",
     "text": [
      "{'story': 4207, 'of': 3083, 'amazing': 209, 'kills': 2474, 'the': 4426, 'psychic': 3456, 'over': 3148, 'and': 226, 'again': 146, 'characters': 760, 'plot': 3309, 'are': 285, 'completely': 922, 'uninteresting': 4660, 'as': 311, 'is': 2360, 'mad': 2696, 'camera': 659, 'work': 4940, 'which': 4867, 'usually': 4700, 'redeeming': 3577, 'factor': 1622, 'in': 2257, 'his': 2118, 'films': 1721, 'any': 256, 'grasp': 1960, 'suspense': 4330, 'nowhere': 3056, 'to': 4507, 'be': 418, 'found': 1811, 'its': 2370, 'out': 3141, 'an': 223, 'degree': 1164, 'by': 642, 'end': 1468, 'you': 4986, 'wont': 4932, 'with': 4911, 'excitement': 1562, 'but': 636, 'boredom': 542, 'like': 2599, 'me': 2778, 'maybe': 2776, 'urge': 4689, 'fall': 1637, 'asleep': 320, 'jennifer': 2392, 'performance': 3228, 'deserves': 1201, 'better': 472, 'movie': 2926, 'fulci': 1845, 'theres': 4440, 'just': 2437, 'not': 3040, 'much': 2934, 'going': 1931, 'on': 3105, '10': 0, 'case': 707, 'youre': 4992, 'self': 3869, 'cult': 1077, 'cinema': 816, 'or': 3124, 'bad': 382, 'making': 2718, 'there': 4438, 'comes': 891, 'certain': 737, 'point': 3316, 'life': 2592, 'than': 4420, 'later': 2525, 'that': 4424, 'have': 2052, 'watch': 4811, 'attack': 337, 'killer': 2470, 'tomatoes': 4515, 'this': 4457, 'one': 3107, 'most': 2909, 'awful': 372, 'movies': 2927, 'ever': 1538, 'made': 2697, 'tiny': 4500, 'essential': 1522, 'detail': 1217, 'however': 2183, 'deliberately': 1166, 'right': 3696, 'from': 1840, 'opening': 3114, 'message': 2819, 'already': 197, 'alfred': 181, 'birds': 485, 'clearly': 840, 'intended': 2315, 'zero': 4996, 'parody': 3192, 'cant': 671, 'escape': 1517, 'impression': 2252, 'writer': 4968, 'director': 1264, 'john': 2409, 'de': 1131, 'never': 3001, 'expected': 1577, 'for': 1784, 'film': 1716, 'become': 433, 'such': 4268, 'hit': 2122, 'contemporary': 965, 'popular': 3333, 'so': 4046, 'called': 652, 'horror': 2168, 'animals': 240, 'nature': 2975, 'general': 1880, 'against': 147, 'humanity': 2189, 'introduces': 2338, 'least': 2554, 'menacing': 2807, 'type': 4621, 'killing': 2472, 'machines': 2694, 'secret': 3849, 'government': 1948, 'project': 3427, 'produce': 3413, 'bigger': 479, 'goes': 1930, 'horribly': 2164, 'wrong': 4973, 'soon': 4074, 'about': 67, 'attacks': 339, 'coming': 896, 'all': 187, 'country': 1014, 'president': 3378, 'puts': 3481, 'together': 4511, 'special': 4097, 'forces': 1788, 'team': 4378, 'battle': 414, 'enemy': 1477, 'includes': 2263, 'agents': 151, 'very': 4723, 'specific': 4099, 'areas': 287, 'scientists': 3819, 'dubbed': 1379, 'voices': 4763, 'first': 1736, 'half': 2007, 'hour': 2176, 'entertaining': 1499, 'silly': 3976, 'it': 2366, 'sight': 3969, 'normally': 3034, 'jumping': 2431, 'up': 4683, 'sink': 3999, 'hysterical': 2208, 'quite': 3495, 'original': 3129, 'funny': 1852, 'also': 199, 'contains': 964, 'numerous': 3062, 'memorable': 2802, 'moments': 2887, 'catchy': 717, 'theme': 4433, 'song': 4071, 'jaws': 2385, 'homage': 2141, 'infamous': 2284, 'helicopter': 2076, 'crash': 1033, 'see': 3855, 'section': 3853, 'more': 2904, 'details': 1219, 'final': 1722, 'cut': 1089, 'after': 143, 'whole': 4873, 'thing': 4450, 'turns': 4609, 'into': 2332, 'tedious': 4387, 'amateurish': 207, 'mess': 2818, 'quality': 3484, 'level': 2584, 'jokes': 2415, 'fresh': 1833, 'inventive': 2341, 'towards': 4540, 'embarrassing': 1454, 'downright': 1337, 'too': 4522, 'many': 2732, 'sub': 4252, 'plots': 3310, 'personally': 3243, 'prefer': 3368, 'late': 2523, '80s': 59, 'early': 1400, '90s': 61, 'sequels': 3886, 'saw': 3798, 'before': 440, 'seeing': 3857, 'because': 432, 'they': 4442, 'benefit': 465, 'slightly': 4029, 'production': 3419, 'values': 4710, 'incredibly': 2270, 'top': 4525, 'effects': 1431, 'presence': 3373, 'veteran': 4724, 'actor': 103, 'family': 1645, 'scientist': 3818, 'dr': 1340, 'said': 3774, 'remains': 3611, 'viewing': 4740, 'material': 2766, 'at': 331, 'some': 4061, 'your': 4991, 'strange': 4211, 'compelling': 916, 'awkward': 374, 'wound': 4960, 'man': 2721, 'who': 4871, 'attempts': 343, 'door': 1328, 'was': 4805, 'able': 66, 'capture': 676, 'tone': 4517, 'really': 3556, 'served': 3894, 'well': 4843, 'unsettling': 4679, 'while': 4868, 'finding': 1727, 'great': 1964, 'deal': 1135, 'humor': 2192, 'pain': 3170, 'sequence': 3887, 'stood': 4199, 'laugh': 2529, 'loud': 2664, 'something': 4066, 'do': 1302, 'frequently': 1832, 'should': 3951, 'ive': 2372, 'seen': 3865, 'long': 2644, 'hasnt': 2044, 'left': 2561, 'my': 2951, 'mind': 2849, 'look': 2646, 'forward': 1808, 'future': 1856, 'efforts': 1433, 'fantastic': 1651, 'performances': 3229, 'around': 297, 'simple': 3983, 'line': 2610, 'appreciate': 279, 'now': 3054, 'if': 2222, 'under': 4639, '13': 4, 'above': 68, 'pretty': 3384, 'youll': 4988, 'enjoy': 1484, 'war': 4792, 'seriously': 3892, 'dedicated': 1153, 'fan': 1648, 'kinds': 2478, 'action': 100, 'otherwise': 3137, 'dont': 1324, 'bother': 548, 'today': 4508, 'their': 4431, 'friends': 1837, 'loved': 2670, 'feel': 1684, 'good': 1937, 'stop': 4201, 'taking': 4352, 'them': 4432, 'theater': 4427, 'cg': 739, 'acting': 99, 'directing': 1260, 'horrible': 2163, 'storyline': 4208, 'extremely': 1610, 'since': 3990, 'audience': 352, 'kids': 2467, 'were': 4848, 'screaming': 3827, 'every': 1539, 'time': 4495, 'appeared': 276, 'screen': 3829, 'experience': 1580, 'far': 1653, 'exciting': 1563, 'been': 438, 'take': 4349, 'except': 1556, 'disappointing': 1274, 'give': 1912, 'mainly': 2708, 'chris': 806, 'rock': 3720, 'he': 2056, 'wasted': 4809, 'idea': 2213, 'heaven': 2068, 'can': 665, 'wait': 4770, 'fine': 1729, 'filmmakers': 1720, 'followed': 1773, 'turkey': 4604, 'closely': 855, 'when': 4862, 'eddie': 1416, 'murphy': 2944, 'professor': 3422, 're': 3535, 'did': 1241, 'totally': 4532, 'became': 431, 'thats': 4425, 'why': 4878, 'successful': 4266, 'had': 2003, 'done': 1322, 'same': 3778, 'could': 1007, 'few': 1700, 'laughs': 2534, 'come': 886, 'doing': 1312, 'routine': 3743, 'might': 2835, 'concert': 935, 'would': 4957, 'funnier': 1850, 'white': 4870, 'whose': 4877, 'body': 527, 'truck': 4595, 'driver': 1366, 'does': 1308, 'hollywood': 2137, 'keep': 2449, 'junk': 2436, 'people': 3221, 'go': 1924, 'decent': 1147, 'script': 3834, 'us': 4690, 'remake': 3612, 'werent': 4849, 'place': 3282, 'hard': 2033, 'without': 4913, 'thinking': 4453, 'television': 4394, 'show': 3953, 'especially': 1520, 'happen': 2026, 'tv': 4610, 'lot': 2661, 'source': 4086, 'oscar': 3133, 'walter': 4784, 'matthau': 2771, 'new': 3003, 'york': 4985, 'city': 825, 'lives': 2628, 'eight': 1436, 'room': 3735, 'apartment': 265, 'himself': 2111, 'divorce': 1301, 'own': 3158, 'sloppy': 4030, 'enter': 1494, 'friend': 1835, 'felix': 1689, 'jack': 2373, 'lemmon': 2567, 'live': 2625, 'wife': 4884, 'threw': 4470, 'him': 2110, 'result': 3660, 'train': 4556, 'wreck': 4965, 'beloved': 461, 'neil': 2995, 'simon': 3982, 'stage': 4139, 'play': 3296, 'things': 4451, 'love': 2669, 'table': 4346, 'board': 522, 'photos': 3261, 'baseball': 403, 'players': 3299, 'empty': 1465, 'beer': 439, 'even': 1533, 'pair': 3176, 'roman': 3731, 'where': 4864, 'men': 2805, 'boys': 559, 'gene': 1879, 'job': 2405, 'plays': 3301, 'single': 3996, 'set': 3898, 'oscars': 3134, 'living': 2629, 'moving': 2928, 'kitchen': 2485, 'giving': 1915, 'tension': 4404, 'between': 475, 'off': 3084, 'familiar': 1643, 'score': 3822, 'heard': 2062, 'here': 2086, 'several': 3905, 'different': 1248, 'make': 2713, 'whenever': 4863, 'played': 3297, 'real': 3547, 'location': 2635, 'night': 3013, 'shots': 3950, 'manhattan': 2726, 'energy': 1478, 'common': 906, 'shot': 3949, 'world': 4946, 'henry': 2084, 'midnight': 2834, 'cowboy': 1025, 'baby': 376, 'etc': 1527, 'heavy': 2070, 'comparison': 914, 'tony': 4521, 'fair': 1630, 'meant': 2784, 'serious': 3891, 'affair': 135, 'dealing': 1136, 'then': 4436, 'condition': 937, 'mid': 2832, 'frustration': 1843, 'being': 448, 'relationship': 3597, 'has': 2043, 'game': 1864, 'howard': 2182, 'know': 2489, 'both': 547, 'terrific': 4409, 'watching': 4815, 'middle': 2833, 'often': 3095, 'separate': 3883, 'understood': 4647, 'comedy': 890, 'best': 469, 'seem': 3861, 'two': 4620, 'drama': 1346, 'farce': 1654, 'beginning': 443, 'charming': 768, 'bear': 420, 'near': 2979, 'takes': 4351, 'turn': 4605, 'shining': 3933, 'serving': 3897, 'food': 1778, 'way': 4820, 'balance': 387, 'blame': 499, 'ending': 1471, 'part': 3193, 'works': 4945, 'trying': 4601, 'kill': 2468, 'isnt': 2362, 'no': 3020, 'get': 1899, 'setting': 3900, 'bringing': 586, 'warmth': 4796, 'laughter': 2535, 'plus': 3311, 'parts': 3199, 'scene': 3809, 'sense': 3877, 'sharp': 3922, 'relief': 3605, 'we': 4823, 'lines': 2612, 'underlying': 4641, 'strength': 4219, 'gets': 1900, 'exactly': 1551, 'still': 4188, 'makes': 2716, 'talking': 4360, 'got': 1944, 'say': 3799, 'whats': 4860, 'im': 2232, 'listen': 2619, 'showed': 3956, 'how': 2181, 'assume': 328, 'always': 203, 'fact': 1621, 'once': 3106, 'anything': 260, 'solid': 4057, 'joy': 2422, 'last': 2521, 'getting': 1901, 'married': 2744, 'year': 4978, 'promised': 3431, 'offer': 3087, 'copy': 994, 'our': 3139, 'priest': 3392, 'sometimes': 4067, 'reality': 3551, 'apart': 264, 'fiction': 1702, 'those': 4460, 'wrote': 4974, 'don': 1320, 'exist': 1569, 'recommend': 3571, 'visit': 4755, 'others': 3136, 'only': 3110, 'day': 1129, 'having': 2054, 'previous': 3387, 'trilogy': 4586, 'bourne': 554, 'little': 2624, 'thrilling': 4474, 'didnt': 1242, 'problem': 3408, 'understanding': 4645, 'what': 4858, 'happening': 2028, 'due': 1382, 'each': 1395, 'easy': 1410, 'understand': 4643, 'fell': 1690, 'reached': 3537, 'think': 4452, 'watched': 4813, 'gripping': 1976, 'shy': 3962, 'away': 369, 'thriller': 4472, 'news': 3005, 'attention': 345, 'second': 3846, 'till': 4493, 'minute': 2858, 'credits': 1050, 'roll': 3728, 'matt': 2768, 'damon': 1101, 'simply': 3986, 'role': 3726, 'jason': 2383, 'fabulous': 1615, 'add': 115, 'list': 2617, 'stunts': 4246, 'handled': 2019, 'style': 4249, 'brilliantly': 584, 'shocked': 3939, 'start': 4156, 'female': 1693, 'bound': 553, 'tortured': 4530, 'male': 2719, 'full': 1846, 'nudity': 3059, 'dead': 1132, 'animal': 239, 'dogs': 1311, 'control': 977, 'her': 2085, 'gray': 1963, 'cold': 872, 'color': 877, 'effective': 1429, 'move': 2921, 'killers': 2471, 'youth': 4994, 'present': 3374, 'history': 2121, 'crimes': 1056, 'entirely': 1503, 'psychological': 3458, 'scenes': 3811, 'victims': 4730, 'creepy': 1052, 'fancy': 1649, 'imagery': 2234, 'looks': 2649, 'home': 2142, 'doesnt': 1309, 'horrifying': 2167, 'criminal': 1057, 'engage': 1479, 'unusual': 4681, 'chilling': 794, 'cop': 991, 'terms': 4406, 'study': 4242, 'madness': 2698, 'unfortunately': 4654, 'filled': 1715, 'footage': 1782, 'throughout': 4478, 'suddenly': 4273, 'enough': 1491, 'low': 2676, 'budget': 610, 'suffering': 4277, 'unnecessary': 4672, 'excessive': 1560, 'warning': 4800, 'glad': 1916, 'stuff': 4243, 'else': 1448, 'passed': 3202, 'edited': 1420, 'gore': 1941, 'stay': 4166, 'garbage': 1870, 'times': 4497, 'thought': 4462, 'fun': 1848, 'women': 4923, 'company': 910, 'boss': 546, 'jerk': 2395, 'taste': 4369, 'try': 4600, 'respect': 3652, 'deserve': 1199, 'stars': 4155, 'guy': 2000, 'evil': 1548, 'lovable': 2668, 'comedies': 889, 'down': 1335, 'south': 4087, 'wit': 4908, 'shines': 3932, 'jane': 2380, 'fonda': 1777, 'lily': 2605, 'she': 3923, 'funniest': 1851, 'gotta': 1946, 'anyone': 259, 'likes': 2602, 'starts': 4159, 'nice': 3008, 'flow': 1762, 'everything': 1544, 'care': 684, 'less': 2575, 'although': 201, 'cute': 1090, 'picks': 3268, 'wrap': 4963, 'quick': 3490, 'manner': 2729, 'true': 4596, 'havent': 2053, 'ones': 3108, 'mood': 2898, 'may': 2775, 'likable': 2598, 'directs': 1267, 'co': 867, 'group': 1980, 'adult': 125, 'situations': 4009, 'actually': 109, 'talent': 4354, 'cast': 710, 'impressive': 2253, 'featured': 1679, 'moore': 2901, 'rob': 3710, 'nelson': 2997, 'andrew': 228, 'notable': 3041, 'obnoxious': 3067, 'age': 148, 'damn': 1100, 'indeed': 2271, 'god': 1926, 'adaptation': 113, 'novel': 3052, 'compared': 912, 'american': 213, 'version': 4720, 'paltrow': 3178, 'written': 4972, 'possible': 3350, 'book': 535, 'besides': 468, 'kate': 2446, 'believe': 454, 'emma': 1457, 'other': 3135, 'actors': 104, 'mark': 2739, 'strong': 4229, 'supposed': 4306, 'offensive': 3086, 'feeling': 1685, 'whatsoever': 4861, 'entire': 1502, 'growing': 1983, 'terrible': 4407, 'effect': 1428, 'seemed': 3862, 'leading': 2547, 'chemistry': 782, 'smith': 4038, 'mr': 2929, 'therefore': 4439, 'portrayed': 3342, 'settings': 3901, 'poor': 3328, 'costumes': 1006, 'imagined': 2239, 'dress': 1357, 'elegant': 1441, 'resembles': 3646, 'books': 536, 'happiness': 2031, 'face': 1616, 'believed': 455, 'loyal': 2679, 'clear': 839, 'blockbuster': 509, 'these': 4441, 'williams': 4888, 'ruin': 3750, 'emily': 1456, 'breaking': 570, 'waves': 4819, 'fame': 1642, 'mans': 2730, 'obsession': 3070, 'resort': 3650, 'chess': 783, 'held': 2074, 'master': 2757, 'arrives': 302, 'shortly': 3947, 'falls': 1640, 'woman': 4921, 'obsessed': 3069, 'mother': 2911, 'interested': 2324, 'another': 250, 'young': 4989, 'proper': 3436, 'feels': 1687, 'passing': 3204, 'odd': 3080, 'ensues': 1493, 'mostly': 2910, 'journey': 2421, 'through': 4477, 'tells': 4397, 'past': 3207, 'tied': 4489, 'main': 2707, 'character': 758, 'definitely': 1162, 'slow': 4031, 'worth': 4953, 'satisfying': 3791, 'wants': 4791, 'dream': 1354, 'across': 96, 'rated': 3527, 'yes': 4982, 'drugs': 1374, 'families': 1644, 'either': 1438, 'dumb': 1385, 'ridiculous': 3693, 'eye': 1611, 'rolling': 3730, 'teach': 4374, 'lesson': 2577, 'star': 4150, 'charisma': 762, 'partner': 3198, 'diane': 1238, 'foster': 1809, 'wide': 4880, 'eyed': 1612, 'innocent': 2294, 'susan': 4326, 'rocky': 3723, 'picture': 3269, 'felt': 1692, 'sorry': 4076, 'put': 3480, 'wasnt': 4807, 'until': 4680, 'realized': 3553, 'recent': 3566, 'high': 2100, 'school': 3813, 'explain': 1586, 'looked': 2647, 'older': 3101, 'folks': 1771, 'imitation': 2241, 'couple': 1016, 'guest': 1992, 'badly': 383, 'used': 4693, 'michael': 2829, 'ludicrous': 2685, 'corrupt': 1001, 'officer': 3092, 'brutal': 603, 'violence': 4747, 'plain': 3286, 'crazy': 1035, 'ruins': 3752, 'social': 4049, 'rolled': 3729, 'david': 1124, 'rent': 3626, 'savage': 3793, 'mouth': 2920, 'old': 3100, 'pot': 3354, 'worse': 4951, 'chick': 786, 'shows': 3960, 'explanation': 1590, 'shes': 3930, 'drug': 1373, 'appears': 278, 'limited': 2606, 'view': 4736, 'use': 4692, 'scary': 3807, 'certainly': 738, 'locations': 2636, 'including': 2264, 'amusing': 221, 'gas': 1874, 'robbery': 3711, 'accents': 79, 'church': 813, 'references': 3583, 'southern': 4088, 'guns': 1998, 'law': 2538, 'inner': 2292, 'songs': 4072, 'known': 2492, 'brown': 601, 'oddly': 3081, 'listed': 2618, 'hope': 2155, 'caught': 722, 'commercial': 902, 'run': 3755, 'nyc': 3065, 'missed': 2867, 'festival': 1697, 'considerable': 950, 'reminded': 3619, 'flash': 1745, 'remember': 3616, 'goldberg': 1933, 'machine': 2693, 'blind': 506, 'captured': 677, 'sure': 4308, 'kind': 2476, 'sucks': 4271, 'rich': 3685, 'sing': 3992, 'post': 3352, 'teenagers': 4391, 'talk': 4358, 'albert': 174, 'ice': 2210, 'lovely': 2671, 'moment': 2886, 'regarding': 3589, 'adds': 119, 'colorful': 878, 'ex': 1549, 'charlotte': 766, 'pop': 3330, 'wake': 4774, 'equivalent': 1512, 'lazy': 2543, 'deep': 1154, 'notorious': 3051, 'bettie': 473, 'page': 3167, 'mary': 2751, 'turner': 4607, 'directed': 1259, 'person': 3238, 'worlds': 4947, 'sin': 3988, 'redemption': 3578, 'eventually': 1537, 'split': 4120, 'personality': 3242, 'latter': 2528, 'years': 4979, 'showing': 3958, 'push': 3477, 'pull': 3461, 'allow': 189, 'back': 378, 'forth': 1804, 'power': 3359, 'during': 1387, 'model': 2880, 'audiences': 353, 'offered': 3088, 'complex': 923, 'desire': 1205, 'leave': 2555, 'difficult': 1249, 'naive': 2958, 'enjoyment': 1488, 'lust': 2689, 'struggle': 4234, 'image': 2233, 'eyes': 1613, 'will': 4886, 'longer': 2645, 'matter': 2769, 'black': 493, 'light': 2595, 'humorous': 2193, 'enjoyable': 1485, 'corruption': 1002, 'hand': 2015, 'pages': 3168, 'despair': 1207, 'sensitive': 3879, 'throw': 4479, 'blows': 517, 'abuse': 74, 'viewer': 4738, 'instead': 2307, 'allows': 192, 'surprisingly': 4316, 'title': 4504, 'chance': 747, 'hammer': 2014, 'fear': 1676, 'shame': 3918, 'skin': 4015, 'whereas': 4865, 'directors': 1266, 'perhaps': 3235, 'find': 1726, 'heroine': 2091, 'painful': 3171, 'order': 3126, 'draw': 1349, 'link': 2613, 'upon': 4684, 'took': 4523, 'actress': 105, 'learns': 2553, 'trust': 4598, 'cross': 1066, 'soft': 4051, 'core': 995, 'combine': 884, 'need': 2987, 'respected': 3653, 'destiny': 1212, 'yet': 4984, 'ultimately': 4628, 'told': 4513, 'stand': 4143, 'smile': 4036, 'wear': 4830, 'finally': 1724, 'realizes': 3554, 'none': 3028, 'choices': 798, 'chooses': 800, 'word': 4937, 'sadness': 3770, 'behind': 447, 'important': 2247, 'decision': 1151, 'letting': 2583, 'someone': 4064, 'guide': 1993, 'faith': 1633, 'direction': 1261, 'soul': 4079, 'hype': 2207, 'season': 3843, 'recommended': 3572, 'decided': 1149, 'format': 1799, 'happy': 2032, 'waited': 4771, 'imagine': 2238, 'fairly': 1631, 'annoying': 249, 'nearly': 2981, 'episode': 1507, 'cliff': 847, 'week': 4837, 'happens': 2029, 'next': 3007, 'somehow': 4063, 'managed': 2723, 'sex': 3907, 'moves': 2925, 'finds': 1728, 'killed': 2469, 'hes': 2093, 'bed': 436, 'sam': 3777, 'despite': 1211, 'knowing': 2490, 'reason': 3557, 'though': 4461, 'sleeping': 4025, 'vampire': 4711, 'problems': 3409, 'along': 195, 'endless': 1473, 'pursuit': 3476, 'tale': 4353, 'concerned': 932, 'episodes': 1508, 'wouldnt': 4958, 'minded': 2850, 'murders': 2943, 'grandmother': 1955, 'victim': 4729, 'involved': 2346, 'bill': 481, 'subplots': 4256, 'lady': 2507, 'tries': 4585, 'convince': 983, 'demon': 1177, 'bothered': 549, 'waste': 4808, 'spends': 4107, 'points': 3319, 'fast': 1661, 'continues': 971, 'sell': 3871, 'buy': 640, 'blood': 512, 'apparently': 270, 'crack': 1027, 'search': 3841, 'girl': 1909, 'within': 4912, 'three': 4469, 'days': 1130, 'constant': 957, 'example': 1553, 'gone': 1935, 'abandoned': 62, 'wonder': 4926, 'thinks': 4454, 'politics': 3326, 'subtlety': 4261, 'suit': 4284, 'genius': 1887, 'figure': 1711, 'local': 2634, 'dog': 1310, 'surprise': 4312, 'finale': 1723, 'couldnt': 1008, 'possibly': 3351, 'yourself': 4993, 'car': 680, 'accident': 84, 'naked': 2959, 'pig': 3274, 'shown': 3959, 'easily': 1406, 'jail': 2376, 'house': 2178, 'murder': 2939, 'revealed': 3671, 'says': 3801, 'likely': 2601, 'remarks': 3615, 'thoughts': 4464, 'accent': 78, 'evidence': 1546, 'tape': 4365, 'fake': 1635, 'mean': 2779, 'blah': 496, 'almost': 193, 'failing': 1627, 'save': 3794, 'manages': 2725, 'leaving': 2557, 'issues': 2365, 'missing': 2869, 'process': 3412, 'religious': 3608, 'anti': 254, 'surprising': 4315, 'absolutely': 72, 'ill': 2228, 'collection': 874, 'rented': 3628, 'fighting': 1709, 'sucked': 4270, 'cuts': 1091, 'fights': 1710, 'heavily': 2069, 'jet': 2400, 'li': 2587, 'fight': 1707, 'legend': 2564, 'jackie': 2374, 'chan': 746, 'drunken': 1376, 'cool': 989, 'interesting': 2325, 'martial': 2747, 'stupid': 4247, 'crap': 1031, 'glory': 1922, 'recently': 3567, 'romantic': 3733, 'sweet': 4336, 'opinion': 3118, 'lack': 2502, 'honesty': 2148, 'trash': 4565, 'stuck': 4237, 'tried': 4584, 'help': 2079, 'tim': 4494, 'robbins': 3712, 'smart': 4035, 'liked': 2600, 'brought': 600, 'nothing': 3047, 'seems': 3864, 'sunday': 4293, 'morning': 2906, 'swedish': 4335, 'king': 2479, 'truly': 4597, 'stands': 4147, 'date': 1118, 'pays': 3218, 'russian': 3762, 'nuclear': 3057, 'plans': 3292, 'ruined': 3751, 'military': 2844, 'tell': 4395, 'arrived': 301, 'planet': 3289, 'cia': 814, 'west': 4852, 'send': 3875, 'ninja': 3018, 'practice': 3363, 'speaking': 4095, 'english': 1483, 'cheap': 774, 'creates': 1038, 'probably': 3407, 'standard': 4144, 'direct': 1258, 'video': 4733, 'huge': 2185, 'smoke': 4039, 'thousands': 4466, 'dying': 1393, 'running': 3756, 'suits': 4287, 'hide': 2097, 'snow': 4045, 'choreographed': 801, 'expect': 1575, 'arts': 310, 'close': 853, 'combat': 882, 'actual': 108, 'hilarious': 2106, 'words': 4938, 'describe': 1194, 'moved': 2922, 'hearts': 2066, 'course': 1019, 'ends': 1474, 'bang': 393, 'four': 1812, 'instant': 2305, 'classic': 835, 'obviously': 3072, 'amounts': 220, 'alcohol': 176, 'ultimate': 4627, 'party': 3200, 'realize': 3552, 'rating': 3529, 'entertainment': 1500, 'went': 4847, 'theatre': 4429, 'oh': 3096, 'hate': 2046, 'christopher': 811, 'believable': 453, 'desperation': 1210, 'favorite': 1671, 'shoot': 3942, 'side': 3965, 'famous': 1647, 'bit': 488, 'streets': 4217, 'correct': 1000, 'charismatic': 763, 'leader': 2546, 'neo': 2998, 'came': 656, 'piece': 3272, 'emotionally': 1460, 'writing': 4971, 'overrated': 3156, 'anime': 243, 'mention': 2810, 'countless': 1012, 'rip': 3700, 'philosophy': 3254, 'drags': 1345, 'everyone': 1542, 'bunch': 623, 'losers': 2656, 'center': 732, 'giant': 1905, 'robots': 3718, 'aliens': 184, 'angels': 234, 'alien': 183, 'hurt': 2202, 'insane': 2296, 'want': 4788, 'am': 204, 'cannot': 670, 'series': 3890, 'greatly': 1967, 'robot': 3717, 'myself': 2953, 'painting': 3175, 'italian': 2367, 'americans': 214, 'lee': 2559, 'rather': 3528, 'portraying': 3343, 'themselves': 4435, 'hey': 2095, 'lets': 2580, 'ears': 1402, 'nose': 3037, 'wish': 4904, 'lifestyle': 2593, 'particularly': 3195, 'considering': 952, 'lengthy': 2570, 'strike': 4224, 'grown': 1984, 'spike': 4111, 'spell': 4104, 'closing': 859, 'wow': 4962, 'husband': 2204, 'sat': 3786, 'actresses': 106, 'pacing': 3163, 'hours': 2177, 'cat': 713, 'appealing': 272, 'stayed': 4167, 'buddy': 609, 'wishing': 4907, 'miserable': 2863, 'beautiful': 428, 'scenery': 3810, 'alive': 186, 'thirty': 4456, 'ago': 154, 'author': 359, 'length': 2569, 'interview': 2329, 'comic': 893, 'artist': 307, 'georges': 1894, 'creator': 1043, 'catches': 715, 'died': 1244, '1983': 22, 'dealt': 1138, 'blue': 518, 'sequel': 3885, 'paul': 3214, 'jim': 2402, 'awesome': 371, 'tight': 4492, 'band': 391, 'music': 2946, 'sad': 3767, 'musical': 2947, 'perfection': 3225, 'epic': 1506, 'rendition': 3625, 'cover': 1022, 'stones': 4198, 'fortune': 1806, 'singing': 3995, 'suspicious': 4332, 'minds': 2852, 'prime': 3395, 'sadly': 3769, 'shadow': 3912, 'former': 1800, 'somewhat': 4068, 'producers': 3416, 'lead': 2545, 'singer': 3993, 'places': 3284, 'commented': 900, 'gift': 1906, 'quote': 3496, 'stops': 4203, 'cage': 645, 'scared': 3805, 'welcome': 4842, 'red': 3576, 'sign': 3970, 'smiling': 4037, 'head': 2057, 'shake': 3914, 'created': 1037, 'hunting': 2201, 'eerie': 1427, 'reminiscent': 3621, 'twin': 4615, 'unlike': 4670, 'spoil': 4121, 'itself': 2371, 'admit': 122, '15': 7, '20': 29, 'thousand': 4465, 'miles': 2843, 'perfectly': 3226, 'chosen': 805, 'playing': 3300, 'desert': 1198, 'floor': 1759, 'mountains': 2918, 'distance': 1294, 'incredible': 2269, 'further': 1853, 'sound': 4081, 'fit': 1740, '2005': 35, 'gave': 1875, 'porn': 3336, 'flick': 1754, '2006': 36, 'feed': 1683, 'follows': 1775, 'formula': 1802, 'earlier': 1399, 'central': 735, 'europe': 1529, 'focuses': 1768, 'annoyed': 248, 'trouble': 4592, 'decide': 1148, 'id': 2212, 'hoped': 2156, 'ryan': 3765, 'nicholson': 3011, 'previously': 3388, '45': 50, 'rape': 3521, 'revenge': 3675, 'boring': 543, 'successfully': 4267, 'avoid': 363, 'ok': 3098, 'reading': 3544, 'reviews': 3679, 'atlantis': 332, 'lost': 2660, 'empire': 1464, 'water': 4816, 'doubt': 1332, 'consider': 949, 'dressed': 1358, 'alike': 185, 'disney': 1289, 'clothing': 861, 'adventure': 130, 'sci': 3815, 'fi': 1701, 'similar': 3978, 'agree': 155, 'minor': 2857, 'ideas': 2215, 'design': 1202, 'wall': 4781, 'ancient': 225, 'mask': 2752, 'princess': 3397, 'highly': 2105, 'captain': 674, 'sea': 3838, 'jean': 2389, 'wearing': 4831, 'lord': 2652, 'flies': 1756, 'wisdom': 4902, 'intelligence': 2313, 'stargate': 4151, 'dozen': 1338, 'intelligent': 2314, 'state': 4160, 'required': 3641, 'element': 1442, 'beneath': 464, 'waters': 4817, 'crew': 1053, 'personalities': 3241, 'doubts': 1333, 'preview': 3386, 'confidence': 938, 'hopes': 2159, 'overall': 3150, 'cheesy': 781, 'scripts': 3836, 'portray': 3340, 'guys': 2001, 'normal': 3033, 'overly': 3155, 'wondering': 4930, 'blonde': 511, 'draws': 1352, 'aka': 168, 'equal': 1509, 'using': 4698, 'drawn': 1351, 'animation': 242, 'form': 1798, 'storytelling': 4209, 'becomes': 434, 'apparent': 269, 'superior': 4300, 'children': 792, 'ride': 3692, 'begin': 442, 'magical': 2704, 'breathtaking': 574, 'grand': 1953, 'scale': 3802, 'packed': 3166, 'imagination': 2236, 'ask': 316, 'question': 3487, 'kid': 2464, 'scope': 3821, 'answer': 251, 'seat': 3845, 'childhood': 790, 'fantasy': 1652, 'chase': 769, 'air': 164, 'flying': 1764, 'sequences': 3888, 'floating': 1758, 'castle': 712, 'excellent': 1555, 'joe': 2407, 'speak': 4094, 'big': 478, 'truth': 4599, 'locked': 2637, 'nude': 3058, 'artistic': 308, '100': 1, 'visual': 4757, 'kicks': 2463, 'strip': 4228, 'buff': 611, 'front': 1841, 'eve': 1532, 'telling': 4396, 'wanna': 4786, 'ashamed': 312, 'petty': 3249, 'education': 1424, 'art': 304, 'international': 2326, 'met': 2822, 'ed': 1415, 'wood': 4933, 'masterpiece': 2759, 'triumph': 4590, 'worst': 4952, 'joke': 2414, 'humour': 2194, 'billy': 482, 'rubbish': 3748, 'george': 1893, 'directorial': 1265, 'debut': 1143, 'dangerous': 1110, 'starred': 4153, 'producer': 3415, 'steven': 4182, 'potential': 3355, 'given': 1913, 'develop': 1222, 'turned': 4606, 'mildly': 2840, 'entertain': 1497, 'quirky': 3493, 'change': 749, 'prevent': 3385, 'becoming': 435, 'total': 4531, 'bore': 540, 'arent': 288, 'relies': 3606, 'predictable': 3367, 'nevertheless': 3002, 'simplicity': 3984, 'shouldnt': 3952, 'worry': 4950, 'regard': 3588, 'serves': 3895, 'purpose': 3474, 'regret': 3591, 'youve': 4995, 'finished': 1733, 'shall': 3916, 'excited': 1561, 'pre': 3365, 'online': 3109, 'enjoyed': 1486, 'march': 2734, 'tonight': 4519, 'london': 2641, 'impressed': 2251, 'scottish': 3825, 'cry': 1073, 'ways': 4822, 'intrigued': 2334, 'stories': 4205, 'amazed': 208, 'revelation': 3674, 'subtitles': 4259, 'let': 2579, 'starting': 4158, 'son': 4070, 'nor': 3032, 'means': 2783, 'suffice': 4279, 'photography': 3260, 'superb': 4296, 'cgi': 740, 'magic': 2703, 'haunting': 2051, 'adding': 117, 'atmospheric': 334, 'delightful': 1168, 'profound': 3423, 'carried': 698, 'load': 2631, 'richard': 3686, 'responsible': 3656, 'raising': 3509, 'key': 2458, 'task': 4368, 'distribution': 1298, 'community': 908, 'happened': 2027, 'lacked': 2503, 'money': 2888, 'heart': 2064, 'operation': 3117, 'thanks': 4423, 'continuity': 972, 'errors': 1516, 'stopped': 4202, 'started': 4157, 'disappointed': 1273, 'danny': 1112, 'glover': 1923, 'addition': 118, 'choice': 797, 'roles': 3727, 'finish': 1732, 'emotion': 1458, 'clips': 852, 'poorly': 3329, 'confusing': 942, 'situation': 4008, 'freak': 1824, 'complete': 921, 'idiots': 2220, 'credit': 1049, 'store': 4204, 'andrews': 229, 'among': 217, 'largely': 2518, 'genre': 1888, 'paranoia': 3186, 'identity': 2217, 'traditional': 4550, 'modern': 2882, 'loaded': 2632, 'ironic': 2355, 'brilliant': 583, 'tense': 4403, 'double': 1331, 'dialogue': 1234, 'crying': 1074, 'notch': 3043, 'perfect': 3224, 'denzel': 1181, 'washington': 4806, 'boy': 557, 'born': 544, 'precious': 3366, 'wonderful': 4928, 'safe': 3771, 'meeting': 2794, 'inspired': 2301, 'expecting': 1578, 'pilot': 3276, 'expectations': 1576, 'protagonist': 3441, 'knowledge': 2491, 'public': 3460, 'area': 286, 'began': 441, 'properly': 3437, 'introduced': 2337, 'focused': 1767, 'intriguing': 2335, 'police': 3322, 'pleasant': 3302, 'leads': 2548, 'issue': 2364, 'target': 4366, 'developing': 1224, 'club': 863, 'casting': 711, 'plan': 3287, 'silent': 3975, 'shorts': 3948, 'feature': 1678, 'french': 1830, 'bergman': 466, 'beauty': 430, 'charm': 767, '1950s': 14, 'following': 1774, 'marriage': 2743, 'five': 1743, 'united': 4664, 'states': 4163, 'suspect': 4327, 'latest': 2526, 'release': 3602, 'popularity': 3334, 'success': 4265, 'sees': 3866, 'herself': 2092, 'angel': 231, 'sorts': 4078, 'recognition': 3568, 'promising': 3433, 'everywhere': 1545, 'working': 4944, 'lucky': 2683, 'aid': 160, 'political': 3324, 'falling': 1639, 'walk': 4775, 'vaguely': 4706, 'satire': 3788, 'purely': 3472, 'filmed': 1717, 'bright': 581, 'hardly': 2036, 'bumbling': 622, 'satisfy': 3790, 'mel': 2796, 'everybody': 1540, 'selfish': 3870, 'motives': 2916, 'alone': 194, 'suggests': 4282, 'upper': 4685, 'class': 833, 'clumsy': 866, 'mistress': 2874, 'walking': 4779, 'sort': 4077, 'brothers': 599, 'laid': 2508, 'experiment': 1583, 'sitting': 4007, 'thru': 4483, 'touches': 4535, 'unless': 4669, 'pointless': 3318, 'spend': 4105, 'staring': 4152, 'window': 4894, 'tree': 4576, 'grew': 1972, 'brother': 598, 'pretend': 3381, 'daughter': 1121, 'parent': 3187, 'hold': 2129, 'arms': 294, 'bears': 421, 'forever': 1792, 'parents': 3188, 'learn': 2550, 'caring': 691, 'raise': 3507, 'frame': 1815, 'seek': 3858, 'julie': 2428, 'cardboard': 682, 'miscast': 2862, 'occasionally': 3075, 'realistic': 3550, 'rate': 3526, 'closer': 856, 'average': 362, 'mistakes': 2873, 'act': 97, 'extra': 1606, 'convinced': 984, 'okay': 3099, 'hell': 2077, 'witches': 4910, 'mountain': 2917, 'incoherent': 2265, 'spanish': 4092, 'exploitation': 1592, 'flicks': 1755, 'strangely': 4212, 'confusion': 943, 'angry': 238, 'mothers': 2912, 'revolves': 3682, 'possessed': 3347, 'heck': 2071, 'mentioned': 2811, 'anymore': 258, 'breaks': 571, 'girlfriend': 1910, 'asks': 319, 'vacation': 4704, 'travels': 4569, 'isolated': 2363, 'topless': 4527, 'events': 1536, 'occur': 3076, 'guessed': 1990, 'explained': 1587, 'forest': 1791, 'steals': 4172, 'atmosphere': 333, 'spooky': 4128, 'cinematography': 820, 'european': 1530, 'legendary': 2565, 'write': 4967, 'screenplay': 3831, 'award': 366, 'liners': 2611, 'stellar': 4174, 'peter': 3247, 'earth': 1403, 'joan': 2404, 'bands': 392, 'spot': 4131, 'comical': 894, 'nicely': 3009, 'negative': 2991, 'comments': 901, 'heads': 2059, 'comment': 898, 'dear': 1140, 'explaining': 1588, 'ignorant': 2223, 'carl': 692, 'broke': 593, 'manager': 2724, 'must': 2950, 'bought': 552, 'ticket': 4487, 'hero': 2088, 'ended': 1470, 'cheated': 775, 'bar': 396, 'mistake': 2871, 'merely': 2815, 'provide': 3448, 'studio': 4240, 'opportunity': 3121, 'cash': 709, 'offering': 3089, 'removed': 3624, 'intentions': 2321, 'resulting': 3661, 'girls': 1911, 'commit': 904, 'frankly': 1823, 'moronic': 2907, 'involving': 2349, 'teacher': 4375, 'tender': 4401, 'hopeless': 2158, 'passion': 3205, 'football': 1783, 'dorothy': 1330, 'attracted': 349, 'impress': 2250, 'involvement': 2347, 'scheme': 3812, 'rest': 3657, 'forgettable': 1794, 'lies': 2591, 'endearing': 1469, 'win': 4892, 'presented': 3376, 'creature': 1045, 'neither': 2996, 'outside': 3146, 'spent': 4108, 'videos': 4734, 'seemingly': 3863, 'younger': 4990, 'sister': 4001, 'offers': 3090, 'advice': 133, 'confused': 941, 'father': 1666, 'returned': 3666, 'twenty': 4612, 'minutes': 2859, 'name': 2960, 'drop': 1369, 'gorgeous': 1942, 'continue': 969, 'selling': 3873, 'weapons': 4829, 'torture': 4529, 'manage': 2722, 'media': 2789, 'foul': 1810, 'handful': 2017, 'matters': 2770, 'gordon': 1940, 'facial': 1619, 'expressions': 1603, 'language': 2516, 'sympathy': 4343, 'empathy': 1462, 'erotic': 1515, 'dreams': 1355, 'lie': 2590, 'pile': 3275, 'fans': 1650, 'lacking': 2504, 'craft': 1028, 'grow': 1982, 'memory': 2804, 'looking': 2648, 'forced': 1787, 'accept': 80, 'lived': 2626, 'basis': 408, 'saying': 3800, 'career': 686, 'heres': 2087, 'hoping': 2160, '1960s': 15, '70s': 56, 'gruesome': 1986, 'faces': 1618, 'death': 1141, 'drive': 1363, 'violent': 4748, 'perspective': 3245, 'worked': 4941, 'bell': 458, 'assigned': 325, 'safety': 3772, 'library': 2589, 'number': 3060, 'physically': 3263, 'sick': 3963, 'knew': 2486, 'graphic': 1958, 'forget': 1793, 'classes': 834, 'scarecrow': 3804, 'green': 1971, 'aspect': 321, 'fifteen': 1706, 'examples': 1554, 'nonsensical': 3031, 'connection': 946, 'anybody': 257, 'count': 1010, 'boyfriend': 558, 'introduce': 2336, '30s': 44, 'picked': 3266, 'crush': 1072, 'named': 2961, 'judy': 2426, 'mom': 2885, 'town': 4541, 'calling': 653, 'drawing': 1350, 'monsters': 2893, 'student': 4238, 'gay': 1876, 'changes': 751, 'kung': 2498, 'fu': 1844, 'disagree': 1269, 'practically': 3362, 'onto': 3111, 'climax': 849, 'field': 1704, 'dig': 1250, 'daughters': 1122, 'bonus': 534, 'dvd': 1391, 'rap': 3520, 'enjoys': 1489, 'gives': 1914, 'et': 1526, 'ass': 323, 'needed': 2988, 'whatever': 4859, 'drunk': 1375, 'tragic': 4552, 'aged': 149, 'unable': 4631, 'manipulative': 2727, 'hearted': 2065, 'greatest': 1966, 'british': 589, 'spin': 4112, 'tragedy': 4551, 'essence': 1521, 'dreary': 1356, 'depressing': 1188, 'tears': 4380, 'beaten': 424, 'painfully': 3172, 'unfunny': 4655, 'romance': 3732, 'whether': 4866, 'reactions': 3542, 'priceless': 3390, 'virtually': 4751, 'tend': 4400, 'dull': 1384, 'exception': 1557, 'rank': 3518, 'bottom': 551, 'below': 462, 'mildred': 2841, 'skip': 4016, 'faithful': 1634, 'terribly': 4408, 'weird': 4841, 'smoking': 4040, 'genuinely': 1892, 'whom': 4875, 'flop': 1760, 'anyway': 261, 'bored': 541, 'ad': 110, 'butt': 638, 'ps': 3453, 'saving': 3797, 'grace': 1950, 'twelve': 4611, 'monkeys': 2891, 'bruce': 602, 'willis': 4890, 'james': 2378, 'cole': 873, 'sent': 3880, 'information': 2288, 'plague': 3285, '1996': 26, '1990': 24, 'believes': 456, 'brad': 560, 'pitt': 3280, 'terry': 4415, 'viewed': 4737, 'frank': 1821, 'sinatra': 3989, 'thin': 4449, 'voice': 4761, 'morgan': 2905, 'outstanding': 3147, 'plenty': 3307, 'dance': 1103, 'numbers': 3061, 'supporting': 4304, 'victor': 4731, 'sir': 4000, 'performed': 3230, 'classical': 836, 'piano': 3264, 'slap': 4018, 'stick': 4185, '1940s': 13, 'sets': 3899, 'treat': 4572, 'relationships': 3598, 'meaning': 2780, 'private': 3404, 'ratings': 3530, 'unit': 4663, 'jerry': 2396, 'wind': 4893, 'german': 1896, 'test': 4416, 'whos': 4876, 'tag': 4348, 'holds': 2131, 'sounds': 4084, 'check': 777, 'contained': 963, 'tricks': 4583, 'welles': 4844, 'enjoying': 1487, 'guess': 1989, 'inept': 2281, 'begins': 444, 'third': 4455, 'whilst': 4869, 'stilted': 4190, 'short': 3946, 'helped': 2080, 'ladies': 2506, 'rushed': 3760, 'clever': 841, 'arthur': 305, 'bits': 490, 'stephen': 4176, 'treatment': 4574, 'small': 4033, 'creatures': 1046, 'share': 3920, 'hints': 2113, 'alice': 182, 'appearing': 277, 'brian': 576, 'cameos': 658, 'letters': 2582, 'christmas': 810, 'jesus': 2399, 'delivered': 1170, 'dropped': 1370, 'forgotten': 1797, 'corner': 996, 'office': 3091, 'figures': 1713, 'bizarre': 492, 'winner': 4897, 'fits': 1741, 'letter': 2581, 'australian': 357, 'opposed': 3122, 'royal': 3746, 'mail': 2706, 'flat': 1748, 'various': 4715, 'equipment': 1511, 'grows': 1985, 'alongside': 196, 'del': 1165, 'slowly': 4032, 'dad': 1095, 'committed': 905, 'horse': 2170, 'aint': 163, 'logical': 2639, 'blatant': 502, 'symbolism': 4341, 'quickly': 3491, 'drivel': 1364, 'acted': 98, 'lovers': 2673, 'theyll': 4444, 'ie': 2221, 'unlikely': 4671, 'realism': 3549, 'ball': 388, 'stereotypes': 4179, 'everyones': 1543, 'duty': 1390, 'major': 2711, 'bullet': 620, 'dimensional': 1253, 'cd': 728, 'miss': 2866, 'read': 3543, 'fool': 1779, 'technically': 4382, 'fay': 1674, 'grim': 1974, 'needs': 2990, 'aside': 315, 'surprised': 4313, 'released': 3603, 'straight': 4210, 'endure': 1475, 'editing': 1421, 'follow': 1772, 'whoever': 4872, 'witty': 4917, 'parker': 3191, 'complain': 919, 'dark': 1115, 'captivating': 675, 'emotional': 1459, 'spy': 4135, 'struck': 4232, 'touching': 4536, 'scott': 3824, 'uncle': 4636, 'carrying': 701, 'typical': 4623, 'westerns': 4854, 'cheating': 776, 'stealing': 4171, 'threatening': 4468, 'demands': 1175, 'returns': 3668, 'business': 633, 'types': 4622, 'trick': 4582, 'bring': 585, 'suggest': 4280, 'hot': 2174, 'youd': 4987, 'usual': 4699, 'destroyed': 1214, 'jr': 2423, 'admire': 121, 'kicked': 2461, 'impossible': 2249, 'lugosi': 2686, 'karloff': 2445, 'circle': 821, 'douglas': 1334, 'ingredients': 2289, 'lots': 2662, 'stone': 4197, 'vampires': 4712, 'goofy': 1939, 'focus': 1766, 'moody': 2899, 'imaginative': 2237, 'monster': 2892, 'supernatural': 4302, 'generic': 1885, 'human': 2188, 'ho': 2127, 'resolution': 3649, 'dialog': 1232, 'pictures': 3270, 'husbands': 2205, 'grade': 1951, 'provided': 3449, 'shooting': 3943, 'stock': 4193, 'smooth': 4041, 'transition': 4561, 'worn': 4948, 'larry': 2520, 'cameron': 661, 'judge': 2424, 'harvey': 2042, 'complicated': 925, 'asked': 317, 'scripted': 3835, 'luck': 2681, 'catch': 714, 'via': 4726, 'repeat': 3630, 'accurate': 90, 'pieces': 3273, 'effort': 1432, 'wandering': 4785, 'cutting': 1092, 'icon': 2211, 'intense': 2316, '60s': 54, 'college': 875, 'sports': 4130, 'movements': 2924, 'sexual': 3908, 'revolution': 3680, 'ground': 1979, 'karen': 2444, 'blacks': 494, 'guard': 1988, 'hadnt': 2004, 'witnessed': 4915, 'unexpected': 4650, 'mike': 2838, 'warren': 4801, 'robert': 3713, 'harry': 2039, 'based': 404, 'depth': 1190, 'indie': 2276, 'dancing': 1107, 'road': 3709, 'magnificent': 2705, 'variety': 4714, 'aspects': 322, 'lights': 2597, 'sexuality': 3909, 'depression': 1189, 'open': 3112, 'complexity': 924, 'raymond': 3534, 'racist': 3503, 'spirit': 4113, 'brings': 587, 'support': 4303, 'obvious': 3071, 'experienced': 1581, 'initially': 2291, 'fellow': 1691, 'patients': 3212, 'props': 3439, 'involve': 2345, 'struggles': 4235, 'ward': 4793, 'reference': 3582, 'daily': 1097, 'powerful': 3360, 'levels': 2585, 'stiller': 4189, 'laughing': 2533, 'antics': 255, 'friendship': 1838, 'higher': 2101, 'imdb': 2240, 'rental': 3627, 'underrated': 4642, 'members': 2801, 'sleazy': 4023, 'develops': 1226, 'thoroughly': 4459, '90': 60, 'albeit': 173, 'worthy': 4956, 'radio': 3504, 'host': 2173, 'knows': 2493, 'gifted': 1907, 'wives': 4918, 'hunt': 2198, 'comedic': 888, 'development': 1225, 'snl': 4044, 'absurd': 73, 'bone': 533, 'instance': 2304, 'immediately': 2242, 'kiss': 2483, 'fallen': 1638, 'hits': 2125, 'park': 3190, 'narrator': 2967, 'homosexual': 2145, 'extreme': 1609, 'desperate': 1208, 'saturday': 3792, 'afternoon': 144, 'village': 4743, 'handsome': 2021, 'science': 3816, 'broadcast': 591, 'starring': 4154, 'kurt': 2499, 'russell': 3761, 'ten': 4399, 'seasons': 3844, 'adventures': 131, 'originally': 3131, 'dean': 1139, 'anderson': 227, 'colonel': 876, 'daniel': 1111, 'jackson': 2375, 'amanda': 205, 'carter': 703, 'davis': 1126, 'rebel': 3561, 'saved': 3795, 'claimed': 829, '2002': 32, 'resident': 3647, 'june': 2433, '2003': 33, 'appearance': 274, 'afterwards': 145, '2004': 34, 'arguably': 289, 'six': 4010, 'favourite': 1673, 'represented': 3638, 'era': 1513, 'defeat': 1157, 'regardless': 3590, 'fill': 1714, 'ben': 463, 'force': 1786, 'mitchell': 2875, 'sexy': 3911, 'con': 928, 'joined': 2413, 'hank': 2024, 'valuable': 4708, 'equally': 1510, 'franchise': 1817, 'alas': 172, 'initial': 2290, '2007': 37, 'gods': 1928, 'sky': 4017, 'britain': 588, 'ireland': 2352, 'channel': 753, 'trek': 4578, 'countries': 1013, 'doctor': 1304, 'produced': 3414, 'months': 2897, 'represents': 3639, 'led': 2558, 'planned': 3290, 'distant': 1295, 'universe': 4666, 'animated': 241, 'ran': 3513, 'conclusion': 936, 'gain': 1863, 'relatively': 3600, 'somewhere': 4069, 'wasting': 4810, 'die': 1243, 'al': 170, 'pacino': 3164, 'fooled': 1780, 'unbelievable': 4634, 'achieved': 93, 'ironically': 2356, 'please': 3304, 'intention': 2319, 'zombie': 4997, 'pulled': 3462, 'value': 4709, 'oil': 3097, 'bullets': 621, 'outcome': 3142, 'tom': 4514, 'hanks': 2025, 'dramatic': 1348, 'mile': 2842, 'league': 2549, 'toy': 4542, 'promise': 3430, 'delivers': 1172, 'talented': 4355, 'treasure': 4571, 'africa': 141, 'mini': 2854, 'captures': 678, 'jeremy': 2394, 'spoiled': 4122, 'included': 2262, 'utter': 4701, 'nonsense': 3030, 'shallow': 3917, 'mediocre': 2791, 'curious': 1083, 'kenneth': 2455, 'versions': 4721, 'shakespeare': 3915, 'classics': 837, 'surely': 4309, 'intensity': 2317, 'stronger': 4230, 'furthermore': 1854, 'blend': 504, 'hatred': 2049, 'branagh': 564, 'bleak': 503, 'ya': 4976, 'carrie': 697, 'honestly': 2147, 'guarantee': 1987, 'grey': 1973, 'annie': 247, 'nominated': 3025, 'utterly': 4702, 'clothes': 860, 'credible': 1048, 'wealthy': 4827, 'dude': 1381, 'ray': 3533, 'sappy': 3784, 'catholic': 720, 'portrayal': 3341, '2001': 31, 'freddy': 1826, 'surviving': 4323, 'teenager': 4390, 'elm': 1447, 'street': 4216, 'scares': 3806, 'needless': 2989, 'celebrity': 729, 'arnold': 296, 'child': 789, 'cooper': 990, 'retarded': 3663, 'shape': 3919, 'rachel': 3500, 'babe': 375, 'extras': 1608, 'jump': 2429, '3d': 46, 'nightmare': 3014, 'disc': 1278, 'content': 966, 'web': 4833, 'fashion': 1659, 'disgusting': 1286, 'associated': 327, 'compelled': 915, 'national': 2970, 'paid': 3169, 'lousy': 2667, 'hopefully': 2157, 'nobody': 3022, 'titles': 4506, 'citizen': 824, 'kane': 2442, 'orson': 3132, 'basically': 407, 'creative': 1041, 'background': 380, 'proves': 3447, 'distracting': 1297, 'fortunately': 1805, 'documentary': 1307, 'bugs': 613, 'warner': 4799, 'cartoons': 705, 'pamela': 3179, 'battles': 415, 'tiger': 4491, 'davies': 1125, 'warriors': 4803, 'themes': 4434, 'relevant': 3604, 'expression': 1602, 'weak': 4824, 'attempt': 340, 'expressed': 1601, 'spoilers': 4124, 'gratuitous': 1961, 'fix': 1744, 'shock': 3938, 'paced': 3162, 'substance': 4258, 'descent': 1193, 'thumbs': 4485, 'african': 142, 'racism': 3502, 'understated': 4646, 'losing': 2658, 'overacting': 3149, 'bucks': 606, 'changed': 750, 'call': 651, 'naturally': 2974, 'stretch': 4221, 'wise': 4903, 'william': 4887, 'powell': 3358, 'makeup': 2717, 'weight': 4840, 'advantage': 129, 'pathetic': 3210, 'gem': 1877, 'definition': 1163, 'rocks': 3722, 'cause': 723, 'amazingly': 210, 'saves': 3796, 'row': 3744, 'eyre': 1614, 'round': 3742, 'bbc': 417, 'timothy': 4499, 'dalton': 1098, 'rochester': 3719, 'passionate': 3206, 'portrays': 3344, 'block': 508, 'zombies': 4998, 'quiet': 3492, 'vast': 4716, 'majority': 2712, 'conventional': 979, 'meets': 2795, 'businessman': 634, 'interest': 2323, 'toys': 4543, 'path': 3209, 'reaction': 3541, 'personal': 3240, 'blown': 516, 'feet': 1688, 'building': 615, 'survive': 4321, 'individual': 2277, 'tour': 4538, 'reminds': 3620, 'thomas': 4458, 'surprises': 4314, 'dialogues': 1235, 'natural': 2973, 'duo': 1386, 'stunning': 4244, 'choreography': 802, 'ultra': 4629, 'track': 4544, 'obscure': 3068, 'surface': 4310, 'homeless': 2143, 'fairy': 1632, 'cinderella': 815, 'anywhere': 263, 'grant': 1956, 'wishes': 4906, 'spielberg': 4110, 'delight': 1167, 'pure': 3471, 'super': 4295, 'remembered': 3617, 'excuse': 1564, 'entertained': 1498, 'laughable': 2530, 'sudden': 4272, 'hearing': 2063, 'kinda': 2477, 'nearby': 2980, 'jumped': 2430, 'disaster': 1276, 'edition': 1422, 'jumps': 2432, 'traveling': 4568, 'biggest': 480, 'underground': 4640, 'unknown': 4668, 'virus': 4752, 'population': 3335, 'prisoner': 3402, 'spread': 4133, 'mysterious': 2955, 'accidentally': 85, 'psychiatrist': 3455, 'jeffrey': 2391, 'expert': 1585, 'mentally': 2809, 'travel': 4567, 'army': 295, 'questions': 3489, 'makers': 2715, 'keeps': 2451, 'won': 4925, 'awards': 367, 'viewings': 4741, 'vegas': 4717, 'images': 2235, 'gun': 1996, 'occasional': 3074, 'spite': 4117, 'flaws': 1752, 'maintain': 2710, 'trashy': 4566, 'jay': 2386, 'finest': 1730, 'brain': 562, 'seeking': 3859, 'remotely': 3623, 'stupidity': 4248, 'steal': 4170, 'matrix': 2767, 'walls': 4783, 'motion': 2913, 'unseen': 4678, 'taken': 4350, '1972': 18, 'burt': 629, 'reynolds': 3684, 'jon': 2416, 'voight': 4764, 'ned': 2986, 'beatty': 427, 'cox': 1026, 'trip': 4588, 'river': 3707, 'unpleasant': 4674, 'nasty': 2968, 'gentle': 1890, 'landscape': 2513, 'beautifully': 429, 'cinematographer': 819, 'lewis': 2586, 'costs': 1004, 'filming': 1718, 'soundtrack': 4085, 'eric': 1514, 'steve': 4181, 'sheer': 3925, 'treated': 4573, 'provides': 3450, 'build': 614, 'rambo': 3511, 'boat': 523, 'deserved': 1200, 'neat': 2982, 'warm': 4794, 'anthony': 253, 'hire': 2116, 'mixed': 2877, 'slasher': 4020, 'visually': 4758, 'silver': 3977, 'features': 1680, 'punk': 3468, 'tunes': 4603, 'considered': 951, 'extent': 1605, 'hong': 2149, 'kong': 2494, 'combination': 883, 'sympathetic': 4342, 'non': 3027, 'watches': 4814, 'unique': 4662, 'industry': 2280, 'max': 2774, 'century': 736, 'baker': 385, 'remain': 3609, 'ruthless': 3764, 'gangster': 1868, 'neighborhood': 2993, 'acts': 107, 'affect': 136, 'protagonists': 3442, 'premise': 3370, 'eastern': 1408, 'carefully': 689, 'identify': 2216, 'masterful': 2758, 'fire': 1734, 'prison': 3401, 'sticks': 4186, 'noir': 3023, 'friendly': 1836, 'notably': 3042, 'crisis': 1060, 'los': 2653, 'wanted': 4789, 'cure': 1081, 'relations': 3596, 'segment': 3867, 'effectively': 1430, 'outrageous': 3145, 'include': 2261, 'meat': 2787, 'theyre': 4445, 'blowing': 515, 'ii': 2226, 'cleverly': 842, 'literally': 2622, 'fly': 1763, 'opposite': 3123, 'deliver': 1169, 'breath': 573, 'vs': 4767, 'bodies': 526, 'willing': 4889, 'murderous': 2942, 'america': 212, 'wars': 4804, 'gag': 1861, 'depicted': 1183, 'tall': 4362, 'feelings': 1686, 'witness': 4914, 'positive': 3346, 'walks': 4780, 'runs': 3757, 'bet': 470, 'sold': 4052, 'quotes': 3497, 'peters': 3248, 'crime': 1055, 'threat': 4467, 'greedy': 1969, 'society': 4050, 'chinese': 796, 'fest': 1696, 'influence': 2286, 'text': 4419, 'insight': 2298, 'barry': 401, 'appear': 273, 'disturbing': 1300, 'bakshi': 386, 'ghost': 1902, 'available': 361, 'disappointment': 1275, 'worried': 4949, 'free': 1827, 'exists': 1573, 'sarah': 3785, 'norman': 3035, 'tough': 4537, 'paper': 3183, 'square': 4136, 'concept': 930, 'topic': 4526, 'program': 3424, 'learned': 2551, 'hbo': 2055, 'taught': 4370, 'walker': 4778, 'description': 1197, 'cup': 1080, 'tea': 4373, 'appeal': 271, 'conservative': 948, 'record': 3573, 'attempting': 342, 'miracle': 2860, 'reasons': 3560, 'rage': 3505, 'lake': 2509, 'swimming': 4338, 'risk': 3704, 'elaborate': 1439, 'ann': 244, 'lucy': 2684, 'wallace': 4782, 'barbara': 397, 'perry': 3237, 'undoubtedly': 4648, 'altogether': 202, 'wing': 4896, 'inspector': 2299, 'hands': 2020, 'member': 2800, 'player': 3298, 'touch': 4533, '12': 3, 'gender': 1878, 'overwhelming': 3157, 'producing': 3417, 'dub': 1378, 'japanese': 2382, 'hundreds': 2196, 'competent': 917, 'reviewer': 3677, 'stated': 4161, 'review': 3676, 'combined': 885, 'fascinating': 1658, 'countryside': 1015, 'strikes': 4225, 'sixties': 4011, 'plight': 3308, 'remind': 3618, 'depicts': 1186, 'hills': 2109, 'island': 2361, 'alexander': 180, 'backgrounds': 381, 'prince': 3396, 'sun': 4292, '1968': 16, 'todays': 4509, 'standards': 4145, 'ship': 3934, 'rare': 3523, 'wed': 4835, 'aired': 165, 'tommy': 4516, 'voiced': 4762, 'jones': 2418, 'criticism': 1063, 'thus': 4486, 'cartoon': 704, 'alcoholic': 177, 'irish': 2353, 'briefly': 580, 'asian': 314, 'capable': 672, 'domestic': 1318, 'desperately': 1209, 'sue': 4274, 'creep': 1051, 'bob': 524, 'reflection': 3585, 'involves': 2348, 'claire': 831, 'trade': 4547, 'convincing': 985, 'mental': 2808, 'dynamic': 1394, 'ah': 158, 'waitress': 4773, 'van': 4713, 'occasion': 3073, 'helps': 2082, 'importantly': 2248, 'progresses': 3426, 'robin': 3715, 'dragged': 1343, 'mouse': 2919, 'existence': 1571, '14': 6, 'kept': 2456, 'lying': 2690, 'detailed': 1218, 'plausible': 3295, 'moon': 2900, 'beyond': 476, 'hidden': 2096, 'relate': 3593, 'pace': 3161, 'formulaic': 1803, 'melodrama': 2797, 'teachers': 4376, 'nowadays': 3055, 'belongs': 460, 'overlook': 3153, 'uses': 4697, 'recall': 3562, 'bride': 577, 'contrast': 975, 'broken': 594, 'kissing': 2484, 'ford': 1789, 'striking': 4226, 'subtle': 4260, 'relation': 3595, 'brady': 561, 'trial': 4580, 'trademark': 4548, 'bond': 532, 'donald': 1321, 'scrooge': 3837, 'authentic': 358, 'favorites': 1672, 'roger': 3724, 'harsh': 2040, 'wealth': 4826, 'flashbacks': 1747, 'sake': 3775, 'dickens': 1240, 'flashback': 1746, 'fred': 1825, 'sincere': 3991, 'forgive': 1795, 'wrapped': 4964, 'foot': 1781, 'paint': 3173, 'brenda': 575, 'devoted': 1231, 'viewers': 4739, 'inspiration': 2300, 'overcome': 3151, 'ourselves': 3140, 'scare': 3803, 'sleep': 4024, 'hilariously': 2107, 'mine': 2853, 'similarities': 3979, 'whale': 4857, 'represent': 3637, 'canadian': 667, 'particular': 3194, 'theaters': 4428, 'happily': 2030, 'popcorn': 3331, 'walked': 4776, 'strongly': 4231, 'rarely': 3524, 'laughed': 2532, 'twist': 4617, 'serial': 3889, 'sentence': 3881, 'turning': 4608, 'sheriff': 3929, 'sisters': 4002, 'dvds': 1392, 'abc': 63, 'hook': 2152, 'ugly': 4625, 'fat': 1663, 'deaf': 1134, 'supposedly': 4307, 'generally': 1881, 'sounded': 4082, 'honest': 2146, 'receive': 3563, 'species': 4098, 'chased': 770, 'wolf': 4920, 'pack': 3165, 'dare': 1113, 'sit': 4003, 'insulting': 2310, '20th': 38, 'fox': 1814, 'critics': 1064, 'answers': 252, 'carry': 700, 'hill': 2108, 'handle': 2018, 'buck': 605, 'wonders': 4931, 'rex': 3683, 'reed': 3580, 'ego': 1435, '75': 57, 'plastic': 3294, 'suitable': 4285, 'existent': 1572, 'yeah': 4977, 'talents': 4356, 'mtv': 2933, 'twice': 4613, 'emotions': 1461, 'serve': 3893, 'department': 1182, 'wells': 4845, 'teaching': 4377, 'students': 4239, 'basic': 406, 'independent': 2272, 'maker': 2714, 'jake': 2377, 'prequel': 3372, 'pick': 3265, 'mix': 2876, 'genres': 1889, 'checking': 778, 'curiosity': 1082, 'button': 639, 'contrary': 974, 'fails': 1628, 'miserably': 2864, 'category': 718, 'succeeds': 4264, 'searching': 3842, 'struggling': 4236, 'games': 1865, 'pushed': 3478, 'fathers': 1667, 'diamond': 1236, 'spirits': 4115, 'believing': 457, 'pitch': 3279, 'ms': 2931, 'press': 3379, 'remote': 3622, 'raw': 3532, 'provoking': 3452, 'achieve': 92, 'size': 4012, 'hardcore': 2034, 'kick': 2460, 'attitude': 346, 'spare': 4093, 'uwe': 4703, 'boll': 529, 'screening': 3830, 'placed': 3283, 'challenge': 743, 'faced': 1617, 'closet': 858, 'terror': 4412, 'bin': 483, 'bag': 384, 'shoes': 3941, 'according': 88, 'received': 3564, 'cinemas': 817, 'trailer': 4554, 'seconds': 3848, 'million': 2847, 'poetry': 3314, 'poem': 3312, 'chorus': 803, 'occurred': 3077, 'appreciation': 281, 'native': 2972, 'hamlet': 2013, 'rival': 3706, 'theatrical': 4430, 'cinematic': 818, 'deals': 1137, 'germany': 1898, 'innocence': 2293, 'sentimental': 3882, 'yesterday': 4983, 'express': 1600, 'laura': 2536, 'leaves': 2556, 'solely': 4056, 'owner': 3159, 'angeles': 233, 'vhs': 4725, 'buildings': 616, 'conversations': 981, 'suffer': 4275, 'pan': 3180, 'sides': 3967, 'user': 4696, 'copies': 992, 'mexican': 2826, 'craig': 1030, 'hat': 2045, 'hall': 2009, 'tradition': 4549, 'johnny': 2410, 'lyrics': 2692, 'stevens': 4183, 'stiff': 4187, 'simmons': 3981, 'heat': 2067, 'dies': 1245, 'blank': 501, 'spider': 4109, 'driving': 1368, 'pass': 3201, 'speaks': 4096, 'mst3k': 2932, 'shadows': 3913, 'stanwyck': 4149, 'technique': 4383, 'powers': 3361, 'steel': 4173, 'cynical': 1093, 'favor': 1670, 'explosion': 1596, 'corporate': 998, 'bank': 394, 'methods': 2825, 'wayne': 4821, 'jimmy': 2403, 'handed': 2016, 'toward': 4539, 'suicide': 4283, 'paris': 3189, 'importance': 2246, 'related': 3594, 'household': 2179, 'thankfully': 4422, 'cried': 1054, 'bitter': 491, 'christian': 808, 'itll': 2369, 'christians': 809, 'instantly': 2306, 'easier': 1405, 'bible': 477, 'taylor': 4372, 'lose': 2654, 'kicking': 2462, 'decides': 1150, 'passes': 3203, 'winning': 4898, 'championship': 745, 'coach': 868, 'pregnant': 3369, 'goal': 1925, 'praise': 3364, 'christ': 807, 'dry': 1377, 'tap': 4364, 'large': 2517, 'mystery': 2956, 'clichés': 846, 'mere': 2814, 'planning': 3291, 'afraid': 140, 'candy': 668, 'facing': 1620, 'memories': 2803, 'backdrop': 379, 'cares': 690, 'peoples': 3222, 'misery': 2865, 'legal': 2563, 'illegal': 2229, 'racial': 3501, 'laws': 2540, 'extraordinary': 1607, 'writers': 4969, 'realizing': 3555, 'refreshing': 3586, 'protect': 3443, 'noble': 3021, 'shine': 3931, 'uninspired': 4657, 'focusing': 1769, 'afford': 138, 'fully': 1847, 'price': 3389, 'property': 3438, 'elderly': 1440, 'wooden': 4934, 'carradine': 695, 'jeff': 2390, 'walken': 4777, 'burning': 627, 'horrors': 2169, 'definite': 1161, 'highlight': 2103, 'hal': 2006, 'dislike': 1288, 'weekend': 4838, 'dated': 1119, 'consistently': 954, 'spiritual': 4116, 'eighties': 1437, 'golden': 1934, 'poetic': 3313, 'blade': 495, 'cell': 730, 'vivid': 4760, 'childrens': 793, 'wizard': 4919, 'oz': 3160, 'status': 4165, 'dolph': 1317, 'holes': 2133, 'spoiler': 4123, 'pushing': 3479, 'projects': 3428, 'capital': 673, 'eat': 1411, 'borrowed': 545, 'pleasantly': 3303, 'san': 3780, 'francisco': 1819, 'developed': 1223, 'desired': 1206, 'ridiculously': 3694, 'goodness': 1938, 'attorney': 348, 'belief': 451, 'facts': 1624, 'remarkable': 3613, 'arrogant': 303, 'chair': 742, 'bedroom': 437, 'blunt': 520, 'inside': 2297, 'escaped': 1518, 'motivation': 2914, 'suspects': 4328, 'stylish': 4251, 'nick': 3012, 'charles': 764, 'potentially': 3356, 'titled': 4505, 'helen': 2075, 'medical': 2790, 'ralph': 3510, 'secretary': 3850, 'ease': 1404, 'detective': 1220, 'newspaper': 3006, 'studios': 4241, 'betty': 474, 'brief': 579, 'returning': 3667, 'comics': 895, 'solo': 4058, 'dave': 1123, 'gags': 1862, 'appropriate': 283, 'remaining': 3610, 'exercise': 1568, 'spots': 4132, 'pet': 3246, 'shop': 3945, 'purchase': 3469, 'return': 3665, 'promises': 3432, 'string': 4227, 'featuring': 1681, 'bird': 484, 'seed': 3856, 'enthusiasm': 1501, 'mass': 2753, 'break': 569, 'anger': 235, 'covered': 1023, 'surreal': 4317, 'judging': 2425, '1933': 12, 'barely': 399, 'cameo': 657, 'dancer': 1104, '50s': 52, 'influenced': 2287, '80': 58, 'gritty': 1977, 'widmark': 4882, 'gangsters': 1869, 'communist': 907, 'movement': 2923, 'delivery': 1173, 'claim': 828, 'psycho': 3457, 'unpredictable': 4675, 'lone': 2642, 'moral': 2902, 'integrity': 2311, 'trap': 4563, 'torn': 4528, 'fatal': 1664, 'fourth': 1813, 'gold': 1932, 'unbelievably': 4635, 'angle': 236, 'vulnerable': 4768, 'constantly': 958, 'cops': 993, 'hospital': 2172, 'ritter': 3705, 'nomination': 3026, 'uncomfortable': 4637, 'allowed': 190, 'pulls': 3464, 'impact': 2244, 'urban': 4688, 'angles': 237, 'bold': 528, 'editor': 1423, 'weve': 4856, 'belong': 459, 'talked': 4359, 'phone': 3255, 'rat': 3525, 'culture': 1079, 'critical': 1062, 'edge': 1418, 'ellen': 1446, 'admittedly': 123, 'speech': 4102, 'gabriel': 1859, 'rights': 3697, 'sings': 3997, 'dances': 1106, 'deeper': 1155, 'seven': 3903, 'advance': 127, 'dust': 1388, 'creators': 1044, 'create': 1036, 'sport': 4129, 'rule': 3753, 'flaw': 1749, 'asking': 318, 'current': 1084, 'worker': 4942, 'familys': 1646, 'mill': 2845, 'union': 4661, 'plant': 3293, 'shut': 3961, 'doors': 1329, 'security': 3854, 'newly': 3004, 'hanging': 2023, 'listening': 2620, '35': 45, 'meanwhile': 2785, 'jobs': 2406, 'hop': 2154, 'explains': 1589, 'lifetime': 2594, 'sons': 4073, 'justify': 2439, 'workers': 4943, 'harder': 2035, 'tremendous': 4579, 'prove': 3445, 'decades': 1145, 'buddies': 608, 'foreign': 1790, 'competition': 918, 'gary': 1873, 'succeed': 4262, 'screenwriter': 3833, 'fate': 1665, 'hint': 2112, 'allowing': 191, 'speed': 4103, 'decade': 1144, 'technical': 4381, 'suppose': 4305, 'unaware': 4632, 'halfway': 2008, 'proved': 3446, 'attacked': 338, 'survivors': 4325, 'darkness': 1117, 'dreadful': 1353, 'metal': 2823, 'strictly': 4223, 'amateur': 206, '30': 42, 'mirror': 2861, 'reveal': 3670, 'engaging': 1481, 'entry': 1504, 'techniques': 4384, 'junior': 2435, 'tie': 4488, 'cases': 708, 'neighbor': 2992, 'bloody': 513, '40': 48, 'ring': 3698, 'commentary': 899, 'drag': 1342, 'gory': 1943, 'blob': 507, 'stomach': 4196, 'murdered': 2940, 'characterization': 759, 'results': 3662, 'sutherland': 4333, 'account': 89, 'von': 4765, 'exaggerated': 1552, 'timing': 4498, 'displays': 1293, 'genuine': 1891, 'academy': 77, 'adapted': 114, 'subject': 4253, 'capturing': 679, 'evident': 1547, 'ignore': 2224, '2000': 30, 'amitabh': 216, 'narration': 2965, 'note': 3044, 'illogical': 2231, 'landing': 2512, 'enemies': 1476, 'nonetheless': 3029, 'akshay': 169, 'slick': 4026, 'rush': 3759, 'villain': 4744, 'match': 2762, 'macy': 2695, 'superhero': 4299, 'false': 1641, 'frightening': 1839, 'halloween': 2010, 'cringe': 1059, 'awe': 370, 'inspiring': 2302, 'terrifying': 4410, 'jamie': 2379, 'curtis': 1087, 'loose': 2650, 'brutally': 604, 'myers': 2952, 'teenage': 4389, 'splatter': 4118, '1970s': 17, '1980s': 21, 'teen': 4388, 'argue': 290, 'tongue': 4518, 'cheek': 779, 'fail': 1625, 'carpenter': 694, 'deaths': 1142, 'sadistic': 3768, 'skill': 4013, 'elements': 1443, 'theyd': 4443, 'repeated': 3631, 'lesser': 2576, 'brilliance': 582, 'statement': 4162, 'freedom': 1828, 'recognize': 3569, 'luckily': 2682, 'flawed': 1750, 'immensely': 2243, 'loves': 2674, 'warned': 4798, 'opened': 3113, 'closest': 857, 'relatives': 3601, 'thank': 4421, 'maria': 2736, 'temple': 4398, 'physical': 3262, 'interpretation': 2328, 'darker': 1116, 'conversation': 980, 'suffered': 4276, 'loss': 2659, 'behavior': 446, 'thoughtful': 4463, 'ability': 65, 'shelf': 3926, 'resist': 3648, 'picking': 3267, 'touched': 4534, 'pleasure': 3306, 'suggested': 4281, 'aware': 368, 'colors': 879, 'villains': 4745, 'lips': 2615, 'dick': 1239, 'charlie': 765, 'hoffman': 2128, 'names': 2963, 'faults': 1669, 'weeks': 4839, 'forbidden': 1785, 'zone': 4999, 'valley': 4707, 'market': 2740, 'described': 1195, 'replaced': 3634, 'builds': 617, 'notion': 3050, 'trained': 4557, 'convey': 982, 'mrs': 2930, 'campbell': 663, 'patient': 3211, 'forgot': 1796, 'explicit': 1591, 'miike': 2837, 'mild': 2839, 'choose': 799, 'tooth': 4524, 'witch': 4909, 'melting': 2799, 'slight': 4027, 'eaten': 1412, 'failure': 1629, 'lawrence': 2539, 'wacky': 4769, 'fears': 1677, 'misses': 2868, 'bomb': 531, 'destruction': 1216, 'chuck': 812, '11': 2, 'terrorist': 4413, 'box': 555, 'la': 2500, 'pool': 3327, 'driven': 1365, 'professional': 3421, 'parallel': 3185, 'existed': 1570, 'florida': 1761, 'lower': 2677, 'gandhi': 1866, 'western': 4853, 'civilization': 827, 'hole': 2132, 'ready': 3546, 'mars': 2746, 'mgm': 2828, 'beat': 423, '1930s': 11, 'broadway': 592, 'shirley': 3936, 'brand': 565, 'gotten': 1947, 'beating': 425, 'investigate': 2342, 'ken': 2453, 'arrested': 298, 'nervous': 2999, 'step': 4175, 'ahead': 159, 'putting': 3482, 'react': 3540, 'wave': 4818, 'contract': 973, 'staged': 4140, 'thief': 4448, 'clean': 838, 'system': 4345, 'rising': 3703, 'cars': 702, 'gonna': 1936, '50': 51, 'chases': 771, 'generous': 1886, 'ted': 4386, 'alex': 179, 'winters': 4901, 'installment': 2303, 'cruel': 1070, 'wild': 4885, 'companion': 909, 'crocodile': 1065, 'photo': 3257, 'composed': 926, 'cost': 1003, 'sexually': 3910, 'assault': 324, 'honor': 2150, 'anyways': 262, 'bollywood': 530, 'reputation': 3640, 'somebody': 4062, 'filmmaker': 1719, 'ghosts': 1903, 'brave': 567, 'exposure': 1599, 'soldiers': 4054, 'greater': 1965, 'civil': 826, 'spain': 4091, 'julia': 2427, 'victoria': 4732, 'drives': 1367, 'adults': 126, 'disease': 1285, 'encounter': 1466, 'survived': 4322, 'prostitute': 3440, 'environment': 1505, 'reveals': 3673, 'experiences': 1582, 'plane': 3288, 'destroy': 1213, 'prepared': 3371, 'splendid': 4119, 'vision': 4754, '1973': 19, 'messages': 2820, 'disappear': 1270, 'controversial': 978, 'period': 3236, 'explosions': 1597, 'crowd': 1067, 'guts': 1999, 'da': 1094, 'opera': 3116, 'soap': 4047, 'queen': 3485, 'brazil': 568, 'explored': 1595, 'slave': 4022, 'morality': 2903, 'glorious': 1921, 'mindless': 2851, 'corny': 997, 'executive': 1567, 'revealing': 3672, 'ensemble': 1492, 'summer': 4291, 'implausible': 2245, 'fault': 1668, 'ian': 2209, 'multiple': 2936, 'possibilities': 3348, 'failed': 1626, 'creating': 1039, 'unwatchable': 4682, 'domino': 1319, 'irritating': 2359, 'unoriginal': 4673, 'burned': 626, 'theyve': 4446, 'learning': 2552, 'japan': 2381, 'stewart': 4184, 'mann': 2728, 'sidekick': 3966, 'trail': 4553, 'dutch': 1389, 'arrive': 300, 'shelley': 3928, 'prize': 3405, 'escapes': 1519, 'miller': 2846, 'camp': 662, 'indians': 2275, 'bull': 619, 'hudson': 2184, 'weapon': 4828, 'meet': 2793, 'dan': 1102, 'holding': 2130, 'showdown': 3955, 'photographed': 3258, 'universal': 4665, 'chief': 788, 'elizabeth': 1445, 'arrival': 299, 'elephant': 1444, 'portrait': 3339, 'mansion': 2731, 'historical': 2119, 'conflict': 939, 'lucas': 2680, 'emphasis': 1463, 'superficial': 4298, 'gothic': 1945, 'spectacular': 4101, 'surrounding': 4319, 'wet': 4855, 'clip': 851, 'throat': 4476, 'hear': 2061, 'leslie': 2574, 'perform': 3227, 'amount': 219, 'wins': 4899, 'receives': 3565, '24': 39, 'bacall': 377, 'eating': 1413, 'opens': 3115, 'drinking': 1362, 'discovers': 1281, 'jealous': 2388, 'melodramatic': 2798, 'artificial': 306, 'reasonable': 3558, 'vote': 4766, 'murderer': 2941, 'climactic': 848, 'tune': 4602, 'grab': 1949, 'thrown': 4481, 'unfortunate': 4653, 'upset': 4687, 'gang': 1867, 'firstly': 1737, 'presents': 3377, 'ordinary': 3128, 'frustrated': 1842, 'necessary': 2984, 'compare': 911, 'coherent': 871, 'intellectual': 2312, 'presentation': 3375, 'reach': 3536, 'mundane': 2938, 'buying': 641, 'marks': 2742, '1980': 20, 'widely': 4881, 'frequent': 1831, 'bland': 500, 'appalling': 268, 'convincingly': 986, 'executed': 1565, 'devil': 1228, 'disappoint': 1272, 'cliche': 843, 'kim': 2475, 'stranger': 4213, 'loses': 2657, 'punishment': 3467, 'hundred': 2195, 'gerard': 1895, 'suffers': 4278, 'cake': 648, 'cheese': 780, 'rotten': 3740, 'trailers': 4555, 'arm': 292, 'francis': 1818, 'context': 968, 'terrorists': 4414, 'research': 3644, 'shark': 3921, 'birth': 486, 'hunter': 2199, 'creation': 1040, 'johnson': 2411, 'roberts': 3714, 'ramones': 3512, 'timeless': 4496, 'principal': 3398, 'nazi': 2977, 'solution': 4059, 'joey': 2408, 'advanced': 128, 'adequate': 120, 'lacks': 2505, 'merit': 2816, 'lion': 2614, 'figured': 1712, 'wanting': 4790, 'pretentious': 3383, 'cliché': 844, 'holmes': 2139, 'aids': 161, 'continued': 970, 'vicious': 4728, 'guilt': 1994, 'musicals': 2948, 'astaire': 330, 'mob': 2879, 'aunt': 355, 'rescue': 3643, 'staff': 4138, 'marry': 2745, 'butler': 637, 'helping': 2081, 'pg': 3250, 'punch': 3466, 'absence': 70, 'ginger': 1908, 'rogers': 3725, 'burns': 628, 'allen': 188, 'tons': 4520, 'exceptional': 1558, 'randomly': 3515, 'steps': 4177, 'bus': 631, 'trio': 4587, 'woods': 4935, 'estate': 1525, 'event': 1535, 'singers': 3994, 'contrived': 976, 'mistaken': 2872, 'houses': 2180, 'lessons': 2578, 'raped': 3522, 'alternate': 200, 'added': 116, 'mario': 2738, 'delivering': 1171, 'dirty': 1268, 'screams': 3828, 'term': 4405, 'loosely': 2651, 'lisa': 2616, 'joseph': 2419, 'martin': 2748, 'join': 2412, 'brooklyn': 595, 'kelly': 2452, 'month': 2896, 'performing': 3233, 'kennedy': 2454, 'mickey': 2831, 'pulling': 3463, 'ham': 2011, 'typically': 4624, 'weakest': 4825, 'museum': 2945, 'shocking': 3940, 'jaw': 2384, 'doctors': 1305, 'generation': 1883, 'rocket': 3721, 'homer': 2144, 'concerning': 933, 'depicting': 1184, 'beach': 419, 'chain': 741, 'showcase': 3954, 'sum': 4289, 'kubrick': 2496, 'orange': 3125, 'porno': 3337, 'liking': 2604, 'fed': 1682, 'panic': 3181, 'lighting': 2596, 'visuals': 4759, 'abysmal': 76, 'qualities': 3483, 'blair': 497, 'pretending': 3382, 'wears': 4832, 'survival': 4320, 'marvelous': 2750, 'spoof': 4127, 'mature': 2773, 'huh': 2187, 'code': 869, 'ripped': 3701, 'agent': 150, 'edgar': 1417, 'buried': 624, 'grave': 1962, 'centers': 734, 'adorable': 124, 'individuals': 2278, 'beats': 426, 'indian': 2274, 'muslim': 2949, 'bridge': 578, 'rules': 3754, 'boxing': 556, 'contest': 967, 'matches': 2764, 'lincoln': 2608, 'curse': 1086, 'artists': 309, 'rural': 3758, 'stunt': 4245, 'clark': 832, 'literature': 2623, 'recognized': 3570, 'robinson': 3716, 'louis': 2665, 'disneys': 1290, 'loads': 2633, 'poverty': 3357, 'frankenstein': 1822, 'twins': 4616, 'witnesses': 4916, 'exact': 1550, 'spoken': 4126, 'styles': 4250, 'mainstream': 2709, 'approach': 282, 'regular': 3592, 'pro': 3406, 'swim': 4337, 'abilities': 64, '18': 10, 'stays': 4169, 'land': 2511, 'rid': 3690, 'chaplin': 756, 'daring': 1114, 'productions': 3420, 'prior': 3400, 'defined': 1160, 'humans': 2190, 'dramas': 1347, 'heroes': 2089, 'riveting': 3708, 'hopper': 2161, 'kevin': 2457, 'eager': 1396, 'amongst': 218, 'mighty': 2836, 'resemblance': 3645, 'samurai': 3779, 'folk': 1770, 'wicked': 4879, 'hyde': 2206, 'dennis': 1179, 'wonderfully': 4929, 'suspenseful': 4331, 'clichéd': 845, 'california': 650, 'batman': 413, 'kirk': 2482, 'mafia': 2700, 'giallo': 1904, 'italy': 2368, 'santa': 3783, 'fashioned': 1660, 'presumably': 3380, 'talks': 4361, 'sends': 3876, 'watchable': 4812, 'thrills': 4475, 'twists': 4619, 'justice': 2438, 'vague': 4705, 'acid': 95, 'rabbit': 3498, 'damage': 1099, 'response': 3654, 'france': 1816, 'minimum': 2856, 'stan': 4142, 'kay': 2447, 'leo': 2571, 'narrative': 2966, 'scenario': 3808, 'uk': 4626, 'england': 1482, 'montage': 2894, 'par': 3184, 'laughably': 2531, 'technology': 4385, 'ideal': 2214, 'scientific': 3817, 'progress': 3425, 'futuristic': 1857, 'germans': 1897, 'synopsis': 4344, 'scream': 3826, 'haunted': 2050, 'painted': 3174, 'dignity': 1252, 'reduced': 3579, 'roy': 3745, 'leonard': 2572, 'recording': 3575, 'couldve': 1009, 'crude': 1069, '1990s': 25, 'affected': 137, 'pie': 3271, '1999': 27, 'wholly': 4874, 'hated': 2047, 'designed': 1203, '70': 55, 'ethan': 1528, 'china': 795, 'introduction': 2339, 'display': 1291, 'comparing': 913, 'factory': 1623, 'object': 3066, 'fictional': 1703, 'repeatedly': 3632, 'journalist': 2420, 'critic': 1061, 'taxi': 4371, 'columbo': 881, 'falk': 1636, 'site': 4005, 'disjointed': 1287, 'directions': 1262, 'streep': 4215, 'australia': 356, 'clue': 864, 'dialogs': 1233, 'position': 3345, 'unbearable': 4633, 'possibility': 3349, 'depiction': 1185, 'interviews': 2330, 'hitchcock': 2123, 'careful': 688, 'aging': 153, 'mentions': 2813, 'primary': 3394, 'lou': 2663, 'nail': 2957, 'cities': 823, 'godzilla': 1929, 'race': 3499, 'chose': 804, 'shoots': 3944, 'teeth': 4393, 'shell': 3927, 'essentially': 1523, 'jewish': 2401, 'hitler': 2124, 'someones': 4065, 'pops': 3332, 'north': 3036, 'oliver': 3102, 'kingdom': 2480, 'kings': 2481, 'careers': 687, 'notice': 3048, 'nuts': 3064, 'dubbing': 1380, 'reasonably': 3559, 'writes': 4970, 'un': 4630, 'staying': 4168, 'nights': 3016, 'atrocious': 335, 'range': 3516, 'cats': 721, 'idiotic': 2219, 'actions': 101, 'gross': 1978, 'birthday': 487, 'edward': 1426, 'stole': 4194, 'pay': 3216, 'tired': 4501, 'coffee': 870, 'friday': 1834, 'waiting': 4772, 'lay': 2542, 'hollywoods': 2138, 'sword': 4340, 'campy': 664, 'computer': 927, 'graphics': 1959, 'providing': 3451, 'horses': 2171, 'kidnapped': 2466, 'adams': 112, 'soldier': 4053, 'matthew': 2772, 'fury': 1855, 'irrelevant': 2358, 'drew': 1360, 'kapoor': 2443, 'india': 2273, 'caliber': 649, 'todd': 4510, 'base': 402, 'directly': 1263, 'liberal': 2588, 'space': 4090, 'unconvincing': 4638, 'transfer': 4559, 'educational': 1425, 'monk': 2889, 'overlooked': 3154, 'device': 1227, 'conspiracy': 956, 'sacrifice': 3766, 'alert': 178, 'fascinated': 1657, 'dracula': 1341, 'satisfied': 3789, 'usa': 4691, 'humble': 2191, 'guessing': 1991, 'performer': 3231, 'causes': 725, '60': 53, 'university': 4667, 'titanic': 4503, 'tiresome': 4502, 'offended': 3085, 'lowest': 2678, 'blond': 510, 'mayor': 2777, 'limits': 2607, 'rats': 3531, 'lame': 2510, 'rangers': 3517, 'solve': 4060, 'differences': 1247, 'demand': 1174, 'seventies': 3904, 'fields': 1705, 'superbly': 4297, 'lesbian': 2573, 'fetched': 1698, 'unrealistic': 4677, 'claims': 830, 'wedding': 4836, 'cousin': 1021, 'hideous': 2098, 'shower': 3957, 'hed': 2072, 'virgin': 4749, 'drops': 1372, 'breasts': 572, 'chest': 784, 'causing': 726, 'molly': 2884, 'exploration': 1593, 'brooks': 596, 'jungle': 2434, 'blake': 498, 'korean': 2495, 'ups': 4686, 'scooby': 3820, 'doo': 1325, 'colour': 880, 'childish': 791, 'performers': 3232, 'busy': 635, 'st': 4137, 'testament': 4417, 'pseudo': 3454, 'digital': 1251, 'segments': 3868, 'throwing': 4480, 'lit': 2621, 'cabin': 643, 'legs': 2566, 'awake': 365, 'soccer': 4048, 'generated': 1882, 'random': 3514, 'dragon': 1344, 'blow': 514, 'forty': 1807, 'dollars': 1315, 'olivier': 3103, 'females': 1694, 'chaos': 755, 'dire': 1257, 'masses': 2755, 'dawn': 1127, 'hollow': 2135, 'bela': 450, 'lover': 2672, 'invisible': 2344, 'mummy': 2937, 'souls': 4080, 'discovery': 1282, 'mentioning': 2812, 'complaint': 920, 'wished': 4905, 'sinister': 3998, 'proud': 3444, 'subjects': 4254, 'hugh': 2186, 'official': 3094, 'soviet': 4089, 'rise': 3702, 'nazis': 2978, 'fitting': 1742, 'accompanied': 86, 'officers': 3093, 'harris': 2038, 'necessarily': 2983, 'execution': 1566, 'cameras': 660, 'acceptable': 81, 'convoluted': 987, 'minimal': 2855, 'stress': 4220, 'suspend': 4329, 'slightest': 4028, 'doomed': 1327, 'riding': 3695, 'bare': 398, 'twilight': 4614, 'em': 1452, 'standing': 4146, 'downhill': 1336, 'clues': 865, 'meaningful': 2781, 'suck': 4269, 'thrillers': 4473, 'demented': 1176, 'accused': 91, 'discovered': 1280, 'ties': 4490, 'headed': 2058, 'fare': 1655, 'chances': 748, '2nd': 41, 'granted': 1957, 'intrigue': 2333, 'hotel': 2175, 'snake': 4042, '16': 8, 'heights': 2073, 'noted': 3045, 'connected': 945, 'courage': 1018, 'bay': 416, 'deeply': 1156, 'occurs': 3078, 'audio': 354, 'horrific': 2166, 'improved': 2255, 'laurel': 2537, 'hardy': 2037, 'larger': 2519, 'duke': 1383, 'juvenile': 2441, 'stereotype': 4178, 'method': 2824, 'ought': 3138, 'godfather': 1927, 'tribute': 4581, 'superman': 4301, 'farm': 1656, 'portion': 3338, 'lane': 2515, 'dating': 1120, 'attached': 336, 'inevitable': 2282, 'raised': 3508, 'subplot': 4255, 'yelling': 4980, 'twisted': 4618, 'conceived': 929, 'warrior': 4802, 'gradually': 1952, 'broad': 590, 'increasingly': 2268, 'hang': 2022, 'mission': 2870, 'airport': 167, 'quit': 3494, 'survivor': 4324, 'lonely': 2643, 'medium': 2792, 'stanley': 4148, 'crappy': 1032, 'marie': 2737, 'repetitive': 3633, 'sitcom': 4004, '40s': 49, 'flynn': 1765, 'partly': 3197, 'menace': 2806, 'cary': 706, 'suited': 4286, 'absolute': 71, 'idiot': 2218, '1st': 28, 'signed': 3971, 'pride': 3391, 'patrick': 3213, 'dawson': 1128, 'parties': 3196, 'quest': 3486, 'womans': 4922, 'basement': 405, 'proceeds': 3411, 'noticed': 3049, 'unfolds': 4651, 'beast': 422, 'rough': 3741, 'tear': 4379, 'discussion': 1284, '17': 9, 'hippie': 2115, 'wouldve': 4959, 'caine': 647, 'linda': 2609, 'hamilton': 2012, 'loving': 2675, 'nine': 3017, 'marty': 2749, 'constructed': 959, 'propaganda': 3435, 'financial': 1725, 'sean': 3840, 'pointed': 3317, 'vehicle': 4718, 'saga': 3773, 'massive': 2756, 'pleased': 3305, 'crafted': 1029, 'eg': 1434, 'nurse': 3063, 'donna': 1323, 'determined': 1221, 'station': 4164, 'concerns': 934, 'built': 618, 'banned': 395, 'andy': 230, 'ages': 152, 'cannibal': 669, 'tales': 4357, 'print': 3399, 'chapter': 757, 'heroic': 2090, 'root': 3737, 'anne': 246, 'chasing': 772, 'aimed': 162, 'specifically': 4100, 'warn': 4797, 'embarrassed': 1453, 'summary': 4290, 'catching': 716, 'territory': 4411, 'destroying': 1215, 'currently': 1085, 'flight': 1757, 'attraction': 350, 'fired': 1735, 'chicks': 787, 'calm': 655, 'aforementioned': 139, 'troubles': 4594, 'charge': 761, 'elvira': 1450, 'flawless': 1751, 'freeman': 1829, 'woody': 4936, 'wes': 4851, 'daddy': 1096, 'louise': 2666, 'lena': 2568, 'poster': 3353, 'dropping': 1371, 'hair': 2005, 'holy': 2140, 'enterprise': 1495, 'innovative': 2295, 'caused': 724, 'celluloid': 731, 'per': 3223, 'magazine': 2701, 'spring': 4134, 'stretched': 4222, 'rooms': 3736, 'evening': 1534, 'closed': 854, 'restaurant': 3658, 'dancers': 1105, 'alan': 171, 'rain': 3506, 'nicholas': 3010, 'refuses': 3587, 'guilty': 1995, 'glenn': 1918, 'holiday': 2134, 'analysis': 224, 'cable': 644, 'spending': 4106, 'achievement': 94, 'killings': 2473, 'defense': 1159, 'silence': 3974, 'psychotic': 3459, 'notes': 3046, 'reviewers': 3678, 'purple': 3473, 'morris': 2908, 'wounded': 4961, 'richards': 3687, 'network': 3000, 'matched': 2763, 'cuba': 1075, 'calls': 654, 'sole': 4055, 'map': 2733, 'incomprehensible': 2267, 'craven': 1034, 'adam': 111, 'sandler': 3781, 'scores': 3823, 'slapstick': 4019, 'loser': 2655, 'prisoners': 3403, 'multi': 2935, 'attractive': 351, 'disturbed': 1299, 'lately': 2524, 'rings': 3699, 'bud': 607, 'hooked': 2153, 'highlights': 2104, 'texas': 4418, 'unforgettable': 4652, 'bat': 410, 'novels': 3053, 'sullivan': 4288, 'fond': 1776, '25': 40, 'centered': 733, 'revolutionary': 3681, 'keeping': 2450, 'requires': 3642, 'renting': 3629, 'attend': 344, 'couples': 1017, 'jesse': 2397, 'connect': 944, 'hates': 2048, 'inferior': 2285, 'understandable': 4644, 'travesty': 4570, 'deadly': 1133, 'trees': 4577, 'smaller': 4034, 'product': 3418, 'tends': 4402, 'exotic': 1574, 'thick': 4447, 'vengeance': 4719, 'trite': 4589, 'doll': 1313, 'agrees': 157, 'vietnam': 4735, 'contact': 961, 'orders': 3127, 'troops': 4591, 'brando': 566, 'irony': 2357, 'proceedings': 3410, 'phony': 3256, 'changing': 752, 'dolls': 1316, 'switch': 4339, 'paying': 3217, 'worthwhile': 4955, 'relative': 3599, 'anna': 245, 'holly': 2136, 'circumstances': 822, 'messed': 2821, 'trapped': 4564, 'responsibility': 3655, 'elsewhere': 1449, 'creativity': 1042, 'cusack': 1088, 'knock': 2488, 'neck': 2985, 'flesh': 1753, 'bo': 521, 'luke': 2687, 'jessica': 2398, 'simpson': 3987, 'pink': 3277, 'schools': 3814, 'reaches': 3538, 'shirt': 3937, 'expensive': 1579, 'cultural': 1078, 'dressing': 1359, 'ron': 3734, 'richardson': 3688, 'report': 3635, 'massacre': 2754, 'glimpse': 1919, 'wrestling': 4966, 'skills': 4014, 'cared': 685, 'storm': 4206, 'stolen': 4195, 'teens': 4392, 'sounding': 4083, 'significant': 3972, 'blues': 519, 'boot': 538, 'vice': 4727, 'philip': 3252, 'groups': 1981, 'poignant': 3315, 'odds': 3082, 'le': 2544, 'explore': 1594, 'sally': 3776, 'semi': 3874, 'april': 284, 'discover': 1279, 'court': 1020, 'intimate': 2331, 'carol': 693, 'bathroom': 412, 'glass': 1917, 'lab': 2501, 'reunion': 3669, 'burn': 625, 'persona': 3239, 'insult': 2309, 'severe': 3906, 'embarrassment': 1455, 'training': 4558, 'defend': 1158, 'east': 1407, 'conflicts': 940, 'realise': 3548, 'armed': 293, 'argument': 291, 'opinions': 3119, 'secretly': 3851, 'ballet': 389, 'september': 3884, 'sophisticated': 4075, 'credibility': 1047, 'garden': 1872, 'challenging': 744, 'brains': 563, 'ambitious': 211, 'reads': 3545, 'elvis': 1451, 'derek': 1192, 'tame': 4363, 'berlin': 467, 'abraham': 69, '1984': 23, 'devoid': 1230, 'madonna': 2699, 'clint': 850, 'card': 681, 'nostalgia': 3038, 'nations': 2971, 'established': 1524, 'versus': 4722, 'settle': 3902, 'secondly': 3847, 'pity': 3281, 'disbelief': 1277, 'beliefs': 452, 'accepted': 82, 'agreed': 156, 'discuss': 1283, 'sneak': 4043, 'screens': 3832, 'spoke': 4125, 'unreal': 4676, 'transformation': 4560, 'enters': 1496, 'abusive': 75, 'thugs': 4484, 'hip': 2114, 'keaton': 2448, 'tracy': 4546, 'retired': 3664, 'attempted': 341, 'logic': 2638, 'sidney': 3968, 'behave': 445, 'inappropriate': 2259, 'lawyer': 2541, 'incompetent': 2266, 'comedian': 887, 'opportunities': 3120, 'comfortable': 892, 'surfing': 4311, 'troubled': 4593, 'thrill': 4471, 'canada': 666, 'everyday': 1541, 'awfully': 373, 'difference': 1246, 'heston': 2094, 'mate': 2765, 'engaged': 1480, 'lloyd': 2630, 'airplane': 166, 'persons': 3244, 'website': 4834, 'neighbors': 2994, 'omen': 3104, 'shed': 3924, 'stale': 4141, 'throws': 4482, 'useless': 4695, 'ashley': 313, 'useful': 4694, 'rubber': 3747, 'masterpieces': 2760, 'swear': 4334, 'forms': 1801, 'greek': 1970, 'assumed': 329, 'carries': 699, 'sellers': 3872, 'hiding': 2099, 'maggie': 2702, 'originality': 3130, 'improve': 2254, 'tarzan': 4367, 'exceptionally': 1559, 'distinct': 1296, 'iran': 2350, 'mexico': 2827, 'wwii': 4975, 'health': 2060, 'authority': 360, 'internet': 2327, 'exposed': 1598, 'noise': 3024, 'fx': 1858, 'signs': 3973, 'contain': 962, 'inevitably': 2283, 'finger': 1731, 'virginia': 4750, 'edie': 1419, 'fish': 1738, 'enormous': 1490, 'vincent': 4746, 'illness': 2230, 'americas': 215, '3rd': 47, 'dinner': 1254, 'performs': 3234, 'lively': 2627, 'secrets': 3852, 'costume': 1005, 'bette': 471, 'interaction': 2322, 'worthless': 4954, 'dinosaurs': 1256, 'rick': 3689, 'bargain': 400, 'devils': 1229, 'dentist': 1180, 'uneven': 4649, 'advise': 134, 'senseless': 3878, 'fever': 1699, 'lees': 2560, 'reporter': 3636, 'dinosaur': 1255, 'structure': 4233, 'seeks': 3860, 'demons': 1178, 'motivations': 2915, 'stinks': 4192, 'namely': 2962, 'hence': 2083, 'tracks': 4545, 'iron': 2354, 'earned': 1401, '13th': 5, 'album': 175, 'designs': 1204, 'measure': 2786, 'extended': 1604, 'monkey': 2890, 'treats': 4575, 'dollar': 1314, 'fbi': 1675, 'sits': 4006, 'franco': 1820, 'leg': 2562, 'hello': 2078, 'womens': 4924, 'horrendous': 2162, 'describes': 1196, 'navy': 2976, 'ships': 3935, 'command': 897, 'ranks': 3519, 'rose': 3739, 'inane': 2258, 'intent': 2318, 'proof': 3434, 'nation': 2969, 'theory': 4437, 'questionable': 3488, 'attitudes': 347, 'wondered': 4927, 'blew': 505, 'pulp': 3465, 'drink': 1361, 'consequences': 947, 'bush': 632, 'purposes': 3475, 'overdone': 3152, 'commercials': 903, 'incident': 2260, 'deceased': 1146, 'diana': 1237, 'highest': 2102, 'outfit': 3144, 'inducing': 2279, 'religion': 3607, 'danger': 1109, 'crucial': 1068, 'meaningless': 2782, 'eastwood': 1409, 'unhappy': 4656, 'tad': 4347, 'nostalgic': 3039, 'resources': 3651, 'knife': 2487, 'channels': 754, 'beings': 449, 'investigation': 2343, 'consistent': 953, 'succeeded': 4263, 'global': 1920, 'subsequent': 4257, 'views': 4742, 'hitting': 2126, 'access': 83, 'buffs': 612, 'kidding': 2465, 'unintentional': 4658, 'mixture': 2878, 'improvement': 2256, 'warming': 4795, 'depressed': 1187, 'hired': 2117, 'grinch': 1975, 'carrey': 696, 'assistant': 326, 'ridden': 3691, 'balls': 390, 'apes': 267, 'cook': 988, 'encounters': 1467, 'counter': 1011, 'der': 1191, 'similarly': 3980, 'unintentionally': 4659, 'slaughter': 4021, 'nancy': 2964, 'corpse': 999, 'invasion': 2340, 'peace': 3219, 'criminals': 1058, 'pat': 3208, 'earl': 1398, 'doc': 1303, 'chicago': 785, 'merits': 2817, 'ape': 266, 'werewolf': 4850, 'recorded': 3574, 'jazz': 2387, 'appearances': 275, 'pants': 3182, 'stereotypical': 4180, 'wore': 4939, 'kudos': 2497, 'niro': 3019, 'alright': 198, 'modesty': 2883, 'landscapes': 2514, 'hurts': 2203, 'iii': 2227, 'primarily': 3393, 'hunters': 2200, 'jenny': 2393, 'phantom': 3251, 'intentionally': 2320, 'lasted': 2522, 'appreciated': 280, 'montana': 2895, 'historically': 2120, 'millions': 2848, 'cards': 683, 'service': 3896, 'nightmares': 3015, 'mall': 2720, 'concern': 931, 'border': 539, 'documentaries': 1306, 'winter': 4900, 'widow': 4883, 'eva': 1531, 'clown': 862, 'reflect': 3584, 'margaret': 2735, 'stinker': 4191, 'philosophical': 3253, 'greed': 1968, 'reel': 3581, 'ocean': 3079, 'politically': 3325, 'polished': 3323, 'brosnan': 597, 'visits': 4756, 'hood': 2151, 'bite': 489, 'burton': 630, 'pit': 3278, 'feminist': 1695, 'roots': 3738, 'mysteries': 2954, 'purchased': 3470, 'toilet': 4512, 'translation': 4562, 'bottle': 550, 'remarkably': 3614, 'endings': 1472, 'grandfather': 1954, 'advertising': 132, 'catherine': 719, 'models': 2881, 'covers': 1024, 'visible': 4753, 'sunshine': 4294, 'masters': 2761, 'generations': 1884, 'ha': 2002, 'pal': 3177, 'dozens': 1339, 'ruth': 3763, 'sandra': 3782, 'stooges': 4200, 'reaching': 3539, 'lol': 2640, 'outer': 3143, 'surrounded': 4318, 'ear': 1397, 'pokemon': 3320, 'basketball': 409, 'garbo': 1871, 'marketing': 2741, 'accomplished': 87, 'disappeared': 1271, 'cube': 1076, 'restored': 3659, 'yellow': 4981, 'hung': 2197, 'funeral': 1849, 'spirited': 4114, 'horrid': 2165, 'jonathan': 2417, 'sid': 3964, 'decisions': 1152, 'faster': 1662, 'winds': 4895, 'doom': 1326, 'ignored': 2225, 'fighter': 1708, 'cruise': 1071, 'experiments': 1584, 'avoided': 364, 'wilson': 4891, 'photographer': 3259, 'michelle': 2830, 'eccentric': 1414, 'consists': 955, 'latin': 2527, 'fisher': 1739, 'mechanical': 2788, 'prom': 3429, 'cave': 727, 'hart': 2041, 'satan': 3787, 'lynch': 2691, 'ruby': 3749, 'iraq': 2351, 'khan': 2459, 'strangers': 4214, 'wannabe': 4787, 'construction': 960, 'displayed': 1292, 'amy': 222, 'lumet': 2688, 'bobby': 525, 'simplistic': 3985, 'likewise': 2603, 'angela': 232, 'che': 773, 'danes': 1108, 'activities': 102, 'boom': 537, '3000': 43, 'bath': 411, 'justin': 2440, 'polanski': 3321, 'seagal': 3839, 'gadget': 1860, 'cagney': 646, 'instinct': 2308, 'streisand': 4218, 'wendy': 4846, 'paulie': 3215, 'pearl': 3220, 'gundam': 1997}\n"
     ]
    }
   ],
   "source": [
    "print(str(vocabulary))"
   ]
  },
  {
   "cell_type": "code",
   "execution_count": null,
   "metadata": {},
   "outputs": [],
   "source": []
  },
  {
   "cell_type": "code",
   "execution_count": null,
   "metadata": {
    "collapsed": true
   },
   "outputs": [],
   "source": []
  },
  {
   "cell_type": "markdown",
   "metadata": {},
   "source": [
    "Using the SageMaker runtime and the name of our endpoint, we can invoke the endpoint and send it the `test_bow` data."
   ]
  },
  {
   "cell_type": "code",
   "execution_count": null,
   "metadata": {},
   "outputs": [],
   "source": [
    "response = runtime.invoke_endpoint(EndpointName = xgb_predictor.endpoint, # The name of the endpoint we created\n",
    "                                       ContentType = 'text/csv',                     # The data format that is expected\n",
    "                                       Body = test_bow)"
   ]
  },
  {
   "cell_type": "markdown",
   "metadata": {},
   "source": [
    "So why did we get an error?\n",
    "\n",
    "Because we tried to send the endpoint a list of integers but it expected us to send data of type `text/csv`. So, we need to convert it."
   ]
  },
  {
   "cell_type": "code",
   "execution_count": null,
   "metadata": {},
   "outputs": [],
   "source": [
    "response = runtime.invoke_endpoint(EndpointName = xgb_predictor.endpoint, # The name of the endpoint we created\n",
    "                                       ContentType = 'text/csv',                     # The data format that is expected\n",
    "                                       Body = ','.join([str(val) for val in test_bow]).encode('utf-8'))"
   ]
  },
  {
   "cell_type": "code",
   "execution_count": null,
   "metadata": {},
   "outputs": [],
   "source": [
    "print(response)"
   ]
  },
  {
   "cell_type": "markdown",
   "metadata": {},
   "source": [
    "As we can see, the response from our model is a somewhat complicated looking dict that contains a bunch of information. The bit that we are most interested in is `'Body'` object which is a streaming object that we need to `read` in order to make use of."
   ]
  },
  {
   "cell_type": "code",
   "execution_count": null,
   "metadata": {},
   "outputs": [],
   "source": [
    "response = response['Body'].read().decode('utf-8')\n",
    "print(response)"
   ]
  },
  {
   "cell_type": "markdown",
   "metadata": {},
   "source": [
    "Now that we know how to process the incoming user data we can start setting up the infrastructure to make our simple web app work. To do this we will make use of two different services. Amazon's Lambda and API Gateway services.\n",
    "\n",
    "Lambda is a service which allows someone to write some relatively simple code and have it executed whenever a chosen trigger occurs. For example, you may want to update a database whenever new data is uploaded to a folder stored on S3.\n",
    "\n",
    "API Gateway is a service that allows you to create HTTP endpoints (url addresses) which are connected to other AWS services. One of the benefits to this is that you get to decide what credentials, if any, are required to access these endpoints.\n",
    "\n",
    "In our case we are going to set up an HTTP endpoint through API Gateway which is open to the public. Then, whenever anyone sends data to our public endpoint we will trigger a Lambda function which will send the input (in our case a review) to our model's endpoint and then return the result."
   ]
  },
  {
   "cell_type": "markdown",
   "metadata": {},
   "source": [
    "### Setting up a Lambda function\n",
    "\n",
    "The first thing we are going to do is set up a Lambda function. This Lambda function will be executed whenever our public API has data sent to it. When it is executed it will receive the data, perform any sort of processing that is required, send the data (the review) to the SageMaker endpoint we've created and then return the result.\n",
    "\n",
    "#### Part A: Create an IAM Role for the Lambda function\n",
    "\n",
    "Since we want the Lambda function to call a SageMaker endpoint, we need to make sure that it has permission to do so. To do this, we will construct a role that we can later give the Lambda function.\n",
    "\n",
    "Using the AWS Console, navigate to the **IAM** page and click on **Roles**. Then, click on **Create role**. Make sure that the **AWS service** is the type of trusted entity selected and choose **Lambda** as the service that will use this role, then click **Next: Permissions**.\n",
    "\n",
    "In the search box type `sagemaker` and select the check box next to the **AmazonSageMakerFullAccess** policy. Then, click on **Next: Review**.\n",
    "\n",
    "Lastly, give this role a name. Make sure you use a name that you will remember later on, for example `LambdaSageMakerRole`. Then, click on **Create role**."
   ]
  },
  {
   "cell_type": "markdown",
   "metadata": {},
   "source": [
    "#### Part B: Create a Lambda function\n",
    "\n",
    "Now it is time to actually create the Lambda function. Remember from earlier that in order to process the user provided input and send it to our endpoint we need to gather two pieces of information:\n",
    "\n",
    " - The name of the endpoint, and\n",
    " - the vocabulary object.\n",
    "\n",
    "We will copy these pieces of information to our Lambda function after we create it.\n",
    "\n",
    "To start, using the AWS Console, navigate to the AWS Lambda page and click on **Create a function**. When you get to the next page, make sure that **Author from scratch** is selected. Now, name your Lambda function, using a name that you will remember later on, for example `sentiment_analysis_xgboost_func`. Make sure that the **Python 3.6** runtime is selected and then choose the role that you created in the previous part. Then, click on **Create Function**.\n",
    "\n",
    "On the next page you will see some information about the Lambda function you've just created. If you scroll down you should see an editor in which you can write the code that will be executed when your Lambda function is triggered. Collecting the code we wrote above to process a single review and adding it to the provided example `lambda_handler` we arrive at the following.\n",
    "\n",
    "```python\n",
    "# We need to use the low-level library to interact with SageMaker since the SageMaker API\n",
    "# is not available natively through Lambda.\n",
    "import boto3\n",
    "\n",
    "# And we need the regular expression library to do some of the data processing\n",
    "import re\n",
    "\n",
    "REPLACE_NO_SPACE = re.compile(\"(\\.)|(\\;)|(\\:)|(\\!)|(\\')|(\\?)|(\\,)|(\\\")|(\\()|(\\))|(\\[)|(\\])\")\n",
    "REPLACE_WITH_SPACE = re.compile(\"(<br\\s*/><br\\s*/>)|(\\-)|(\\/)\")\n",
    "\n",
    "def review_to_words(review):\n",
    "    words = REPLACE_NO_SPACE.sub(\"\", review.lower())\n",
    "    words = REPLACE_WITH_SPACE.sub(\" \", words)\n",
    "    return words\n",
    "    \n",
    "def bow_encoding(words, vocabulary):\n",
    "    bow = [0] * len(vocabulary) # Start by setting the count for each word in the vocabulary to zero.\n",
    "    for word in words.split():  # For each word in the string\n",
    "        if word in vocabulary:  # If the word is one that occurs in the vocabulary, increase its count.\n",
    "            bow[vocabulary[word]] += 1\n",
    "    return bow\n",
    "\n",
    "\n",
    "def lambda_handler(event, context):\n",
    "    \n",
    "    vocab = \"*** ACTUAL VOCABULARY GOES HERE ***\"\n",
    "    \n",
    "    words = review_to_words(event['body'])\n",
    "    bow = bow_encoding(words, vocab)\n",
    "\n",
    "    # The SageMaker runtime is what allows us to invoke the endpoint that we've created.\n",
    "    runtime = boto3.Session().client('sagemaker-runtime')\n",
    "\n",
    "    # Now we use the SageMaker runtime to invoke our endpoint, sending the review we were given\n",
    "    response = runtime.invoke_endpoint(EndpointName = '***ENDPOINT NAME HERE***',# The name of the endpoint we created\n",
    "                                       ContentType = 'text/csv',                 # The data format that is expected\n",
    "                                       Body = ','.join([str(val) for val in bow]).encode('utf-8')) # The actual review\n",
    "\n",
    "    # The response is an HTTP response whose body contains the result of our inference\n",
    "    result = response['Body'].read().decode('utf-8')\n",
    "    \n",
    "    # Round the result so that our web app only gets '1' or '0' as a response.\n",
    "    result = round(float(result))\n",
    "\n",
    "    return {\n",
    "        'statusCode' : 200,\n",
    "        'headers' : { 'Content-Type' : 'text/plain', 'Access-Control-Allow-Origin' : '*' },\n",
    "        'body' : str(result)\n",
    "    }\n",
    "```"
   ]
  },
  {
   "cell_type": "markdown",
   "metadata": {},
   "source": [
    "Once you have copy and pasted the code above into the Lambda code editor, replace the `**ENDPOINT NAME HERE**` portion with the name of the endpoint that we deployed earlier. You can determine the name of the endpoint using the code cell below."
   ]
  },
  {
   "cell_type": "code",
   "execution_count": null,
   "metadata": {},
   "outputs": [],
   "source": [
    "xgb_predictor.endpoint"
   ]
  },
  {
   "cell_type": "markdown",
   "metadata": {},
   "source": [
    "In addition, you will need to copy the vocabulary dict to the appropriate place in the code at the beginning of the `lambda_handler` method. The cell below prints out the vocabulary dict in a way that is easy to copy and paste."
   ]
  },
  {
   "cell_type": "code",
   "execution_count": null,
   "metadata": {},
   "outputs": [],
   "source": [
    "print(str(vocabulary))"
   ]
  },
  {
   "cell_type": "markdown",
   "metadata": {},
   "source": [
    "Once you have added the endpoint name to the Lambda function, click on **Save**. Your Lambda function is now up and running. Next we need to create a way for our web app to execute the Lambda function."
   ]
  },
  {
   "cell_type": "markdown",
   "metadata": {},
   "source": [
    "### Setting up API Gateway\n",
    "\n",
    "Now that our Lambda function is set up, it is time to create a new API using API Gateway that will trigger the Lambda function we have just created.\n",
    "\n",
    "Using AWS Console, navigate to **Amazon API Gateway** and then click on **Get started**.\n",
    "\n",
    "On the next page, make sure that **New API** is selected and give the new api a name, for example, `sentiment_analysis_web_app`. Then, click on **Create API**.\n",
    "\n",
    "Now we have created an API, however it doesn't currently do anything. What we want it to do is to trigger the Lambda function that we created earlier.\n",
    "\n",
    "Select the **Actions** dropdown menu and click **Create Method**. A new blank method will be created, select its dropdown menu and select **POST**, then click on the check mark beside it.\n",
    "\n",
    "For the integration point, make sure that **Lambda Function** is selected and click on the **Use Lambda Proxy integration**. This option makes sure that the data that is sent to the API is then sent directly to the Lambda function with no processing. It also means that the return value must be a proper response object as it will also not be processed by API Gateway.\n",
    "\n",
    "Type the name of the Lambda function you created earlier into the **Lambda Function** text entry box and then click on **Save**. Click on **OK** in the pop-up box that then appears, giving permission to API Gateway to invoke the Lambda function you created.\n",
    "\n",
    "The last step in creating the API Gateway is to select the **Actions** dropdown and click on **Deploy API**. You will need to create a new Deployment stage and name it anything you like, for example `prod`.\n",
    "\n",
    "You have now successfully set up a public API to access your SageMaker model. Make sure to copy or write down the URL provided to invoke your newly created public API as this will be needed in the next step. This URL can be found at the top of the page, highlighted in blue next to the text **Invoke URL**."
   ]
  },
  {
   "cell_type": "markdown",
   "metadata": {},
   "source": [
    "## Step 7: Deploying our web app\n",
    "\n",
    "Now that we have a publicly available API, we can start using it in a web app. For our purposes, we have provided a simple static html file which can make use of the public api you created earlier.\n",
    "\n",
    "In the `website` folder there should be a file called `index.html`. Download the file to your computer and open that file up in a text editor of your choice. There should be a line which contains **\\*\\*REPLACE WITH PUBLIC API URL\\*\\***. Replace this string with the url that you wrote down in the last step and then save the file.\n",
    "\n",
    "Now, if you open `index.html` on your local computer, your browser will behave as a local web server and you can use the provided site to interact with your SageMaker model.\n",
    "\n",
    "If you'd like to go further, you can host this html file anywhere you'd like, for example using github or hosting a static site on Amazon's S3. Once you have done this you can share the link with anyone you'd like and have them play with it too!\n",
    "\n",
    "> **Important Note** In order for the web app to communicate with the SageMaker endpoint, the endpoint has to actually be deployed and running. This means that you are paying for it. Make sure that the endpoint is running when you want to use the web app but that you shut it down when you don't need it, otherwise you will end up with a surprisingly large AWS bill."
   ]
  },
  {
   "cell_type": "markdown",
   "metadata": {},
   "source": [
    "### Delete the endpoint\n",
    "\n",
    "Remember to always shut down your endpoint if you are no longer using it. You are charged for the length of time that the endpoint is running so if you forget and leave it on you could end up with an unexpectedly large bill."
   ]
  },
  {
   "cell_type": "code",
   "execution_count": 30,
   "metadata": {},
   "outputs": [],
   "source": [
    "xgb_predictor.delete_endpoint()"
   ]
  },
  {
   "cell_type": "markdown",
   "metadata": {},
   "source": [
    "## Optional: Clean up\n",
    "\n",
    "The default notebook instance on SageMaker doesn't have a lot of excess disk space available. As you continue to complete and execute notebooks you will eventually fill up this disk space, leading to errors which can be difficult to diagnose. Once you are completely finished using a notebook it is a good idea to remove the files that you created along the way. Of course, you can do this from the terminal or from the notebook hub if you would like. The cell below contains some commands to clean up the created files from within the notebook."
   ]
  },
  {
   "cell_type": "code",
   "execution_count": null,
   "metadata": {},
   "outputs": [],
   "source": [
    "# First we will remove all of the files contained in the data_dir directory\n",
    "!rm $data_dir/*\n",
    "\n",
    "# And then we delete the directory itself\n",
    "!rmdir $data_dir\n",
    "\n",
    "# Similarly we remove the files in the cache_dir directory and the directory itself\n",
    "!rm $cache_dir/*\n",
    "!rmdir $cache_dir"
   ]
  },
  {
   "cell_type": "code",
   "execution_count": null,
   "metadata": {},
   "outputs": [],
   "source": []
  }
 ],
 "metadata": {
  "kernelspec": {
   "display_name": "conda_python3",
   "language": "python",
   "name": "conda_python3"
  },
  "language_info": {
   "codemirror_mode": {
    "name": "ipython",
    "version": 3
   },
   "file_extension": ".py",
   "mimetype": "text/x-python",
   "name": "python",
   "nbconvert_exporter": "python",
   "pygments_lexer": "ipython3",
   "version": "3.6.5"
  }
 },
 "nbformat": 4,
 "nbformat_minor": 2
}
